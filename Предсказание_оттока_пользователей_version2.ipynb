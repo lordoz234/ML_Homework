{
  "nbformat": 4,
  "nbformat_minor": 0,
  "metadata": {
    "colab": {
      "name": "Предсказание оттока пользователей.ipynb",
      "provenance": [],
      "collapsed_sections": [],
      "authorship_tag": "ABX9TyPJQyTHQ72C/SZQDOR1CB4F",
      "include_colab_link": true
    },
    "kernelspec": {
      "name": "python3",
      "display_name": "Python 3"
    },
    "language_info": {
      "name": "python"
    }
  },
  "cells": [
    {
      "cell_type": "markdown",
      "metadata": {
        "id": "view-in-github",
        "colab_type": "text"
      },
      "source": [
        "<a href=\"https://colab.research.google.com/github/lordoz234/ML_Homework/blob/main/%D0%9F%D1%80%D0%B5%D0%B4%D1%81%D0%BA%D0%B0%D0%B7%D0%B0%D0%BD%D0%B8%D0%B5_%D0%BE%D1%82%D1%82%D0%BE%D0%BA%D0%B0_%D0%BF%D0%BE%D0%BB%D1%8C%D0%B7%D0%BE%D0%B2%D0%B0%D1%82%D0%B5%D0%BB%D0%B5%D0%B9_version2.ipynb\" target=\"_parent\"><img src=\"https://colab.research.google.com/assets/colab-badge.svg\" alt=\"Open In Colab\"/></a>"
      ]
    },
    {
      "cell_type": "markdown",
      "metadata": {
        "id": "frbm0QVI61Iy"
      },
      "source": [
        "# Предсказание оттока пользователей"
      ]
    },
    {
      "cell_type": "markdown",
      "metadata": {
        "id": "4hcW5nz764fm"
      },
      "source": [
        "Нам предстоит научитсья моделировать отток клиентов телеком компании. Эта задача очень важна на практике и алгоритмы для ее решения используются в реальных телеком компаниях, ведь если мы знаем, что клиент собирается уйти от нас, то мы попытаться удержать его, предложив какие-то бонусы."
      ]
    },
    {
      "cell_type": "code",
      "metadata": {
        "id": "YWGQ3BH8LFLI"
      },
      "source": [
        "import numpy as np\n",
        "import pandas as pd\n",
        "from matplotlib import pyplot as plt\n",
        "%matplotlib inline\n",
        "from tqdm import tqdm_notebook\n",
        "from sklearn import preprocessing"
      ],
      "execution_count": null,
      "outputs": []
    },
    {
      "cell_type": "code",
      "metadata": {
        "id": "L739kuyTPSV8"
      },
      "source": [
        "data = pd.read_csv(\"train.csv\")"
      ],
      "execution_count": null,
      "outputs": []
    },
    {
      "cell_type": "markdown",
      "metadata": {
        "id": "FoHj90awPcC3"
      },
      "source": [
        "Посмотрим на наши признаки:"
      ]
    },
    {
      "cell_type": "code",
      "metadata": {
        "colab": {
          "base_uri": "https://localhost:8080/"
        },
        "id": "B8yD0X0VPeml",
        "outputId": "610b0376-893e-495d-c90d-e50245d7b5b3"
      },
      "source": [
        "data.info()"
      ],
      "execution_count": null,
      "outputs": [
        {
          "output_type": "stream",
          "name": "stdout",
          "text": [
            "<class 'pandas.core.frame.DataFrame'>\n",
            "RangeIndex: 5282 entries, 0 to 5281\n",
            "Data columns (total 20 columns):\n",
            " #   Column                    Non-Null Count  Dtype  \n",
            "---  ------                    --------------  -----  \n",
            " 0   ClientPeriod              5282 non-null   int64  \n",
            " 1   MonthlySpending           5282 non-null   float64\n",
            " 2   TotalSpent                5282 non-null   object \n",
            " 3   Sex                       5282 non-null   object \n",
            " 4   IsSeniorCitizen           5282 non-null   int64  \n",
            " 5   HasPartner                5282 non-null   object \n",
            " 6   HasChild                  5282 non-null   object \n",
            " 7   HasPhoneService           5282 non-null   object \n",
            " 8   HasMultiplePhoneNumbers   5282 non-null   object \n",
            " 9   HasInternetService        5282 non-null   object \n",
            " 10  HasOnlineSecurityService  5282 non-null   object \n",
            " 11  HasOnlineBackup           5282 non-null   object \n",
            " 12  HasDeviceProtection       5282 non-null   object \n",
            " 13  HasTechSupportAccess      5282 non-null   object \n",
            " 14  HasOnlineTV               5282 non-null   object \n",
            " 15  HasMovieSubscription      5282 non-null   object \n",
            " 16  HasContractPhone          5282 non-null   object \n",
            " 17  IsBillingPaperless        5282 non-null   object \n",
            " 18  PaymentMethod             5282 non-null   object \n",
            " 19  Churn                     5282 non-null   int64  \n",
            "dtypes: float64(1), int64(3), object(16)\n",
            "memory usage: 825.4+ KB\n"
          ]
        }
      ]
    },
    {
      "cell_type": "code",
      "metadata": {
        "colab": {
          "base_uri": "https://localhost:8080/",
          "height": 275
        },
        "id": "re-f8FL9PW5Q",
        "outputId": "3b43690a-9389-4bd5-dd40-e700cb79cf6b"
      },
      "source": [
        "data.head()"
      ],
      "execution_count": null,
      "outputs": [
        {
          "output_type": "execute_result",
          "data": {
            "text/html": [
              "<div>\n",
              "<style scoped>\n",
              "    .dataframe tbody tr th:only-of-type {\n",
              "        vertical-align: middle;\n",
              "    }\n",
              "\n",
              "    .dataframe tbody tr th {\n",
              "        vertical-align: top;\n",
              "    }\n",
              "\n",
              "    .dataframe thead th {\n",
              "        text-align: right;\n",
              "    }\n",
              "</style>\n",
              "<table border=\"1\" class=\"dataframe\">\n",
              "  <thead>\n",
              "    <tr style=\"text-align: right;\">\n",
              "      <th></th>\n",
              "      <th>ClientPeriod</th>\n",
              "      <th>MonthlySpending</th>\n",
              "      <th>TotalSpent</th>\n",
              "      <th>Sex</th>\n",
              "      <th>IsSeniorCitizen</th>\n",
              "      <th>HasPartner</th>\n",
              "      <th>HasChild</th>\n",
              "      <th>HasPhoneService</th>\n",
              "      <th>HasMultiplePhoneNumbers</th>\n",
              "      <th>HasInternetService</th>\n",
              "      <th>HasOnlineSecurityService</th>\n",
              "      <th>HasOnlineBackup</th>\n",
              "      <th>HasDeviceProtection</th>\n",
              "      <th>HasTechSupportAccess</th>\n",
              "      <th>HasOnlineTV</th>\n",
              "      <th>HasMovieSubscription</th>\n",
              "      <th>HasContractPhone</th>\n",
              "      <th>IsBillingPaperless</th>\n",
              "      <th>PaymentMethod</th>\n",
              "      <th>Churn</th>\n",
              "    </tr>\n",
              "  </thead>\n",
              "  <tbody>\n",
              "    <tr>\n",
              "      <th>0</th>\n",
              "      <td>55</td>\n",
              "      <td>19.50</td>\n",
              "      <td>1026.35</td>\n",
              "      <td>Male</td>\n",
              "      <td>0</td>\n",
              "      <td>Yes</td>\n",
              "      <td>Yes</td>\n",
              "      <td>Yes</td>\n",
              "      <td>No</td>\n",
              "      <td>No</td>\n",
              "      <td>No internet service</td>\n",
              "      <td>No internet service</td>\n",
              "      <td>No internet service</td>\n",
              "      <td>No internet service</td>\n",
              "      <td>No internet service</td>\n",
              "      <td>No internet service</td>\n",
              "      <td>One year</td>\n",
              "      <td>No</td>\n",
              "      <td>Mailed check</td>\n",
              "      <td>0</td>\n",
              "    </tr>\n",
              "    <tr>\n",
              "      <th>1</th>\n",
              "      <td>72</td>\n",
              "      <td>25.85</td>\n",
              "      <td>1872.2</td>\n",
              "      <td>Male</td>\n",
              "      <td>0</td>\n",
              "      <td>Yes</td>\n",
              "      <td>No</td>\n",
              "      <td>Yes</td>\n",
              "      <td>Yes</td>\n",
              "      <td>No</td>\n",
              "      <td>No internet service</td>\n",
              "      <td>No internet service</td>\n",
              "      <td>No internet service</td>\n",
              "      <td>No internet service</td>\n",
              "      <td>No internet service</td>\n",
              "      <td>No internet service</td>\n",
              "      <td>Two year</td>\n",
              "      <td>No</td>\n",
              "      <td>Credit card (automatic)</td>\n",
              "      <td>0</td>\n",
              "    </tr>\n",
              "    <tr>\n",
              "      <th>2</th>\n",
              "      <td>1</td>\n",
              "      <td>75.90</td>\n",
              "      <td>75.9</td>\n",
              "      <td>Male</td>\n",
              "      <td>0</td>\n",
              "      <td>No</td>\n",
              "      <td>No</td>\n",
              "      <td>Yes</td>\n",
              "      <td>No</td>\n",
              "      <td>Fiber optic</td>\n",
              "      <td>No</td>\n",
              "      <td>No</td>\n",
              "      <td>No</td>\n",
              "      <td>Yes</td>\n",
              "      <td>No</td>\n",
              "      <td>No</td>\n",
              "      <td>Month-to-month</td>\n",
              "      <td>Yes</td>\n",
              "      <td>Electronic check</td>\n",
              "      <td>1</td>\n",
              "    </tr>\n",
              "    <tr>\n",
              "      <th>3</th>\n",
              "      <td>32</td>\n",
              "      <td>79.30</td>\n",
              "      <td>2570</td>\n",
              "      <td>Female</td>\n",
              "      <td>1</td>\n",
              "      <td>Yes</td>\n",
              "      <td>No</td>\n",
              "      <td>Yes</td>\n",
              "      <td>Yes</td>\n",
              "      <td>Fiber optic</td>\n",
              "      <td>No</td>\n",
              "      <td>No</td>\n",
              "      <td>Yes</td>\n",
              "      <td>No</td>\n",
              "      <td>No</td>\n",
              "      <td>No</td>\n",
              "      <td>Month-to-month</td>\n",
              "      <td>No</td>\n",
              "      <td>Mailed check</td>\n",
              "      <td>0</td>\n",
              "    </tr>\n",
              "    <tr>\n",
              "      <th>4</th>\n",
              "      <td>60</td>\n",
              "      <td>115.25</td>\n",
              "      <td>6758.45</td>\n",
              "      <td>Female</td>\n",
              "      <td>0</td>\n",
              "      <td>Yes</td>\n",
              "      <td>Yes</td>\n",
              "      <td>Yes</td>\n",
              "      <td>Yes</td>\n",
              "      <td>Fiber optic</td>\n",
              "      <td>Yes</td>\n",
              "      <td>Yes</td>\n",
              "      <td>Yes</td>\n",
              "      <td>Yes</td>\n",
              "      <td>Yes</td>\n",
              "      <td>Yes</td>\n",
              "      <td>Two year</td>\n",
              "      <td>No</td>\n",
              "      <td>Credit card (automatic)</td>\n",
              "      <td>0</td>\n",
              "    </tr>\n",
              "  </tbody>\n",
              "</table>\n",
              "</div>"
            ],
            "text/plain": [
              "   ClientPeriod  MonthlySpending  ...            PaymentMethod Churn\n",
              "0            55            19.50  ...             Mailed check     0\n",
              "1            72            25.85  ...  Credit card (automatic)     0\n",
              "2             1            75.90  ...         Electronic check     1\n",
              "3            32            79.30  ...             Mailed check     0\n",
              "4            60           115.25  ...  Credit card (automatic)     0\n",
              "\n",
              "[5 rows x 20 columns]"
            ]
          },
          "metadata": {},
          "execution_count": 4
        }
      ]
    },
    {
      "cell_type": "markdown",
      "metadata": {
        "id": "809gW3k0P2pP"
      },
      "source": [
        "Как мы видим из таблицы у нас задача *бинарной классификации*, состоящая в предсказании оттока полтзователя"
      ]
    },
    {
      "cell_type": "markdown",
      "metadata": {
        "id": "9H7cDMkRYkzH"
      },
      "source": [
        "#Обработка пропусков"
      ]
    },
    {
      "cell_type": "code",
      "metadata": {
        "colab": {
          "base_uri": "https://localhost:8080/"
        },
        "id": "q16lFZ_OYmyH",
        "outputId": "968e9cf0-1558-49e1-b5ac-5053306eb43b"
      },
      "source": [
        "data.isnull().sum()"
      ],
      "execution_count": null,
      "outputs": [
        {
          "output_type": "execute_result",
          "data": {
            "text/plain": [
              "ClientPeriod                0\n",
              "MonthlySpending             0\n",
              "TotalSpent                  0\n",
              "Sex                         0\n",
              "IsSeniorCitizen             0\n",
              "HasPartner                  0\n",
              "HasChild                    0\n",
              "HasPhoneService             0\n",
              "HasMultiplePhoneNumbers     0\n",
              "HasInternetService          0\n",
              "HasOnlineSecurityService    0\n",
              "HasOnlineBackup             0\n",
              "HasDeviceProtection         0\n",
              "HasTechSupportAccess        0\n",
              "HasOnlineTV                 0\n",
              "HasMovieSubscription        0\n",
              "HasContractPhone            0\n",
              "IsBillingPaperless          0\n",
              "PaymentMethod               0\n",
              "Churn                       0\n",
              "dtype: int64"
            ]
          },
          "metadata": {},
          "execution_count": 5
        }
      ]
    },
    {
      "cell_type": "markdown",
      "metadata": {
        "id": "-wCpYkAqYrKy"
      },
      "source": [
        "Пропусков данный датасет не содержит, однако признак TotalSpent не числовой"
      ]
    },
    {
      "cell_type": "code",
      "metadata": {
        "colab": {
          "base_uri": "https://localhost:8080/",
          "height": 467
        },
        "id": "2tmUHpYnYz2_",
        "outputId": "9f749c9f-fc5d-4d50-c3b3-2e07879740c7"
      },
      "source": [
        "data.query('TotalSpent == \" \"')"
      ],
      "execution_count": null,
      "outputs": [
        {
          "output_type": "execute_result",
          "data": {
            "text/html": [
              "<div>\n",
              "<style scoped>\n",
              "    .dataframe tbody tr th:only-of-type {\n",
              "        vertical-align: middle;\n",
              "    }\n",
              "\n",
              "    .dataframe tbody tr th {\n",
              "        vertical-align: top;\n",
              "    }\n",
              "\n",
              "    .dataframe thead th {\n",
              "        text-align: right;\n",
              "    }\n",
              "</style>\n",
              "<table border=\"1\" class=\"dataframe\">\n",
              "  <thead>\n",
              "    <tr style=\"text-align: right;\">\n",
              "      <th></th>\n",
              "      <th>ClientPeriod</th>\n",
              "      <th>MonthlySpending</th>\n",
              "      <th>TotalSpent</th>\n",
              "      <th>Sex</th>\n",
              "      <th>IsSeniorCitizen</th>\n",
              "      <th>HasPartner</th>\n",
              "      <th>HasChild</th>\n",
              "      <th>HasPhoneService</th>\n",
              "      <th>HasMultiplePhoneNumbers</th>\n",
              "      <th>HasInternetService</th>\n",
              "      <th>HasOnlineSecurityService</th>\n",
              "      <th>HasOnlineBackup</th>\n",
              "      <th>HasDeviceProtection</th>\n",
              "      <th>HasTechSupportAccess</th>\n",
              "      <th>HasOnlineTV</th>\n",
              "      <th>HasMovieSubscription</th>\n",
              "      <th>HasContractPhone</th>\n",
              "      <th>IsBillingPaperless</th>\n",
              "      <th>PaymentMethod</th>\n",
              "      <th>Churn</th>\n",
              "    </tr>\n",
              "  </thead>\n",
              "  <tbody>\n",
              "    <tr>\n",
              "      <th>1048</th>\n",
              "      <td>0</td>\n",
              "      <td>25.75</td>\n",
              "      <td></td>\n",
              "      <td>Male</td>\n",
              "      <td>0</td>\n",
              "      <td>Yes</td>\n",
              "      <td>Yes</td>\n",
              "      <td>Yes</td>\n",
              "      <td>Yes</td>\n",
              "      <td>No</td>\n",
              "      <td>No internet service</td>\n",
              "      <td>No internet service</td>\n",
              "      <td>No internet service</td>\n",
              "      <td>No internet service</td>\n",
              "      <td>No internet service</td>\n",
              "      <td>No internet service</td>\n",
              "      <td>Two year</td>\n",
              "      <td>No</td>\n",
              "      <td>Mailed check</td>\n",
              "      <td>0</td>\n",
              "    </tr>\n",
              "    <tr>\n",
              "      <th>1707</th>\n",
              "      <td>0</td>\n",
              "      <td>73.35</td>\n",
              "      <td></td>\n",
              "      <td>Female</td>\n",
              "      <td>0</td>\n",
              "      <td>Yes</td>\n",
              "      <td>Yes</td>\n",
              "      <td>Yes</td>\n",
              "      <td>Yes</td>\n",
              "      <td>DSL</td>\n",
              "      <td>No</td>\n",
              "      <td>Yes</td>\n",
              "      <td>Yes</td>\n",
              "      <td>Yes</td>\n",
              "      <td>Yes</td>\n",
              "      <td>No</td>\n",
              "      <td>Two year</td>\n",
              "      <td>No</td>\n",
              "      <td>Mailed check</td>\n",
              "      <td>0</td>\n",
              "    </tr>\n",
              "    <tr>\n",
              "      <th>2543</th>\n",
              "      <td>0</td>\n",
              "      <td>19.70</td>\n",
              "      <td></td>\n",
              "      <td>Male</td>\n",
              "      <td>0</td>\n",
              "      <td>Yes</td>\n",
              "      <td>Yes</td>\n",
              "      <td>Yes</td>\n",
              "      <td>No</td>\n",
              "      <td>No</td>\n",
              "      <td>No internet service</td>\n",
              "      <td>No internet service</td>\n",
              "      <td>No internet service</td>\n",
              "      <td>No internet service</td>\n",
              "      <td>No internet service</td>\n",
              "      <td>No internet service</td>\n",
              "      <td>One year</td>\n",
              "      <td>Yes</td>\n",
              "      <td>Mailed check</td>\n",
              "      <td>0</td>\n",
              "    </tr>\n",
              "    <tr>\n",
              "      <th>3078</th>\n",
              "      <td>0</td>\n",
              "      <td>80.85</td>\n",
              "      <td></td>\n",
              "      <td>Female</td>\n",
              "      <td>0</td>\n",
              "      <td>Yes</td>\n",
              "      <td>Yes</td>\n",
              "      <td>Yes</td>\n",
              "      <td>No</td>\n",
              "      <td>DSL</td>\n",
              "      <td>Yes</td>\n",
              "      <td>Yes</td>\n",
              "      <td>Yes</td>\n",
              "      <td>No</td>\n",
              "      <td>Yes</td>\n",
              "      <td>Yes</td>\n",
              "      <td>Two year</td>\n",
              "      <td>No</td>\n",
              "      <td>Mailed check</td>\n",
              "      <td>0</td>\n",
              "    </tr>\n",
              "    <tr>\n",
              "      <th>3697</th>\n",
              "      <td>0</td>\n",
              "      <td>20.00</td>\n",
              "      <td></td>\n",
              "      <td>Female</td>\n",
              "      <td>0</td>\n",
              "      <td>Yes</td>\n",
              "      <td>Yes</td>\n",
              "      <td>Yes</td>\n",
              "      <td>No</td>\n",
              "      <td>No</td>\n",
              "      <td>No internet service</td>\n",
              "      <td>No internet service</td>\n",
              "      <td>No internet service</td>\n",
              "      <td>No internet service</td>\n",
              "      <td>No internet service</td>\n",
              "      <td>No internet service</td>\n",
              "      <td>Two year</td>\n",
              "      <td>No</td>\n",
              "      <td>Mailed check</td>\n",
              "      <td>0</td>\n",
              "    </tr>\n",
              "    <tr>\n",
              "      <th>4002</th>\n",
              "      <td>0</td>\n",
              "      <td>61.90</td>\n",
              "      <td></td>\n",
              "      <td>Male</td>\n",
              "      <td>0</td>\n",
              "      <td>No</td>\n",
              "      <td>Yes</td>\n",
              "      <td>Yes</td>\n",
              "      <td>Yes</td>\n",
              "      <td>DSL</td>\n",
              "      <td>Yes</td>\n",
              "      <td>Yes</td>\n",
              "      <td>No</td>\n",
              "      <td>Yes</td>\n",
              "      <td>No</td>\n",
              "      <td>No</td>\n",
              "      <td>Two year</td>\n",
              "      <td>Yes</td>\n",
              "      <td>Bank transfer (automatic)</td>\n",
              "      <td>0</td>\n",
              "    </tr>\n",
              "    <tr>\n",
              "      <th>4326</th>\n",
              "      <td>0</td>\n",
              "      <td>25.35</td>\n",
              "      <td></td>\n",
              "      <td>Male</td>\n",
              "      <td>0</td>\n",
              "      <td>Yes</td>\n",
              "      <td>Yes</td>\n",
              "      <td>Yes</td>\n",
              "      <td>Yes</td>\n",
              "      <td>No</td>\n",
              "      <td>No internet service</td>\n",
              "      <td>No internet service</td>\n",
              "      <td>No internet service</td>\n",
              "      <td>No internet service</td>\n",
              "      <td>No internet service</td>\n",
              "      <td>No internet service</td>\n",
              "      <td>Two year</td>\n",
              "      <td>No</td>\n",
              "      <td>Mailed check</td>\n",
              "      <td>0</td>\n",
              "    </tr>\n",
              "    <tr>\n",
              "      <th>4551</th>\n",
              "      <td>0</td>\n",
              "      <td>52.55</td>\n",
              "      <td></td>\n",
              "      <td>Female</td>\n",
              "      <td>0</td>\n",
              "      <td>Yes</td>\n",
              "      <td>Yes</td>\n",
              "      <td>No</td>\n",
              "      <td>No phone service</td>\n",
              "      <td>DSL</td>\n",
              "      <td>Yes</td>\n",
              "      <td>No</td>\n",
              "      <td>Yes</td>\n",
              "      <td>Yes</td>\n",
              "      <td>Yes</td>\n",
              "      <td>No</td>\n",
              "      <td>Two year</td>\n",
              "      <td>Yes</td>\n",
              "      <td>Bank transfer (automatic)</td>\n",
              "      <td>0</td>\n",
              "    </tr>\n",
              "    <tr>\n",
              "      <th>4598</th>\n",
              "      <td>0</td>\n",
              "      <td>56.05</td>\n",
              "      <td></td>\n",
              "      <td>Female</td>\n",
              "      <td>0</td>\n",
              "      <td>Yes</td>\n",
              "      <td>Yes</td>\n",
              "      <td>No</td>\n",
              "      <td>No phone service</td>\n",
              "      <td>DSL</td>\n",
              "      <td>Yes</td>\n",
              "      <td>Yes</td>\n",
              "      <td>Yes</td>\n",
              "      <td>Yes</td>\n",
              "      <td>Yes</td>\n",
              "      <td>No</td>\n",
              "      <td>Two year</td>\n",
              "      <td>No</td>\n",
              "      <td>Credit card (automatic)</td>\n",
              "      <td>0</td>\n",
              "    </tr>\n",
              "  </tbody>\n",
              "</table>\n",
              "</div>"
            ],
            "text/plain": [
              "      ClientPeriod  MonthlySpending  ...              PaymentMethod Churn\n",
              "1048             0            25.75  ...               Mailed check     0\n",
              "1707             0            73.35  ...               Mailed check     0\n",
              "2543             0            19.70  ...               Mailed check     0\n",
              "3078             0            80.85  ...               Mailed check     0\n",
              "3697             0            20.00  ...               Mailed check     0\n",
              "4002             0            61.90  ...  Bank transfer (automatic)     0\n",
              "4326             0            25.35  ...               Mailed check     0\n",
              "4551             0            52.55  ...  Bank transfer (automatic)     0\n",
              "4598             0            56.05  ...    Credit card (automatic)     0\n",
              "\n",
              "[9 rows x 20 columns]"
            ]
          },
          "metadata": {},
          "execution_count": 6
        }
      ]
    },
    {
      "cell_type": "code",
      "metadata": {
        "id": "d8a3rNEzZa9h"
      },
      "source": [
        "data['TotalSpent'] = data['TotalSpent'].where(data['ClientPeriod'] > 0, data['MonthlySpending'])\n",
        "data['ClientPeriod'] = data['ClientPeriod'].where(data['ClientPeriod'] > 0, 1)\n",
        "data['TotalSpent'] = pd.to_numeric(data['TotalSpent'])"
      ],
      "execution_count": null,
      "outputs": []
    },
    {
      "cell_type": "markdown",
      "metadata": {
        "id": "0_wj0K68czL7"
      },
      "source": [
        "#Анализ данных"
      ]
    },
    {
      "cell_type": "markdown",
      "metadata": {
        "id": "5iq8AC1zQQrI"
      },
      "source": [
        "Разделим наши признаки на числовые и категориальные:"
      ]
    },
    {
      "cell_type": "code",
      "metadata": {
        "colab": {
          "base_uri": "https://localhost:8080/"
        },
        "id": "XI72IGqPQrUL",
        "outputId": "9488a3f5-ae65-4a01-d5ba-6e77572a2767"
      },
      "source": [
        "cat_cols = [x for x in data.columns if data[x].dtype == 'object']\n",
        "num_cols = [x for x in data.columns if data[x].dtype in ['int64', 'float64'] and x != 'Churn']\n",
        "target_col = \"Churn\"\n",
        "print(\"Категориальные признаки: \", \", \".join(cat_cols))\n",
        "print(\"Числовые признаки: \", \", \".join(num_cols))\n",
        "print(\"Целевой признак: \", target_col)"
      ],
      "execution_count": null,
      "outputs": [
        {
          "output_type": "stream",
          "name": "stdout",
          "text": [
            "Категориальные признаки:  Sex, HasPartner, HasChild, HasPhoneService, HasMultiplePhoneNumbers, HasInternetService, HasOnlineSecurityService, HasOnlineBackup, HasDeviceProtection, HasTechSupportAccess, HasOnlineTV, HasMovieSubscription, HasContractPhone, IsBillingPaperless, PaymentMethod\n",
            "Числовые признаки:  ClientPeriod, MonthlySpending, TotalSpent, IsSeniorCitizen\n",
            "Целевой признак:  Churn\n"
          ]
        }
      ]
    },
    {
      "cell_type": "markdown",
      "metadata": {
        "id": "h8vQz6iIRdsG"
      },
      "source": [
        "Посмотрим на распределение целевой переменной:"
      ]
    },
    {
      "cell_type": "code",
      "metadata": {
        "colab": {
          "base_uri": "https://localhost:8080/",
          "height": 350
        },
        "id": "BLBJW0CcRhyC",
        "outputId": "268c4b59-8c93-49e6-d19b-1d698122b4d3"
      },
      "source": [
        "plt.pie(data.Churn.value_counts(), labels = [\"False\", \"True\"], autopct='%1.1f%%')"
      ],
      "execution_count": null,
      "outputs": [
        {
          "output_type": "execute_result",
          "data": {
            "text/plain": [
              "([<matplotlib.patches.Wedge at 0x7fe4add47390>,\n",
              "  <matplotlib.patches.Wedge at 0x7fe4add47bd0>],\n",
              " [Text(-0.7478930722742168, 0.8066324766857789, 'False'),\n",
              "  Text(0.7478930722742166, -0.8066324766857789, 'True')],\n",
              " [Text(-0.4079416757859364, 0.4399813509195157, '73.8%'),\n",
              "  Text(0.4079416757859363, -0.4399813509195157, '26.2%')])"
            ]
          },
          "metadata": {},
          "execution_count": 9
        },
        {
          "output_type": "display_data",
          "data": {
            "image/png": "[encoded data removed]",
            "text/plain": [
              "<Figure size 432x288 with 1 Axes>"
            ]
          },
          "metadata": {}
        }
      ]
    },
    {
      "cell_type": "markdown",
      "metadata": {
        "id": "8bmGHTCRSzJp"
      },
      "source": [
        "Мы можем сделать *вывод* о несбалансированной выборке."
      ]
    },
    {
      "cell_type": "markdown",
      "metadata": {
        "id": "NvxHNBEyWMjc"
      },
      "source": [
        "Посмотрим на box plot числовых призвнаков:"
      ]
    },
    {
      "cell_type": "code",
      "metadata": {
        "colab": {
          "base_uri": "https://localhost:8080/",
          "height": 281
        },
        "id": "gnTIGz61UvUM",
        "outputId": "d370b82b-1735-43e4-d352-20ffe2f78a53"
      },
      "source": [
        "fig, axs = plt.subplots(1, 3, figsize=(16, 4))\n",
        "\n",
        "for i, col in enumerate(num_cols[:3]):\n",
        "    axs[i].boxplot(data[col], vert=False)\n",
        "    axs[i].set_title(col)"
      ],
      "execution_count": null,
      "outputs": [
        {
          "output_type": "display_data",
          "data": {
            "image/png": "[encoded data removed]",
            "text/plain": [
              "<Figure size 1152x288 with 3 Axes>"
            ]
          },
          "metadata": {
            "needs_background": "light"
          }
        }
      ]
    },
    {
      "cell_type": "code",
      "metadata": {
        "colab": {
          "base_uri": "https://localhost:8080/",
          "height": 550
        },
        "id": "6T131sMOWhwn",
        "outputId": "6a93b8c1-1e6f-4b6c-a840-ecf294f8d1d4"
      },
      "source": [
        "import seaborn as sns\n",
        "sns.pairplot(data[num_cols[:3] + [target_col]], hue=target_col);"
      ],
      "execution_count": null,
      "outputs": [
        {
          "output_type": "display_data",
          "data": {
            "image/png": "[encoded data removed]",
            "text/plain": [
              "<Figure size 582.375x540 with 12 Axes>"
            ]
          },
          "metadata": {
            "needs_background": "light"
          }
        }
      ]
    },
    {
      "cell_type": "markdown",
      "metadata": {
        "id": "w4_KoWgTXWeq"
      },
      "source": [
        "Как видно, что в основном покидали наш сервис - новые пользователи"
      ]
    },
    {
      "cell_type": "code",
      "metadata": {
        "colab": {
          "base_uri": "https://localhost:8080/",
          "height": 282
        },
        "id": "76EK5KFG9XYG",
        "outputId": "1a51da09-1af2-4c2a-a40b-5a556a2333cb"
      },
      "source": [
        "plt.scatter(data['ClientPeriod'], data['TotalSpent'])"
      ],
      "execution_count": null,
      "outputs": [
        {
          "output_type": "execute_result",
          "data": {
            "text/plain": [
              "<matplotlib.collections.PathCollection at 0x7fe4a220f2d0>"
            ]
          },
          "metadata": {},
          "execution_count": 12
        },
        {
          "output_type": "display_data",
          "data": {
            "image/png": "[encoded data removed]",
            "text/plain": [
              "<Figure size 432x288 with 1 Axes>"
            ]
          },
          "metadata": {
            "needs_background": "light"
          }
        }
      ]
    },
    {
      "cell_type": "markdown",
      "metadata": {
        "id": "V_RoPvuB-pyS"
      },
      "source": [
        "Можем сделать вывод, о том, что новые пользователи платят меньше"
      ]
    },
    {
      "cell_type": "code",
      "metadata": {
        "colab": {
          "base_uri": "https://localhost:8080/",
          "height": 204
        },
        "id": "fqAp9NP1_AKa",
        "outputId": "f06e30bc-f7b4-4c85-f381-c17f6ed04d00"
      },
      "source": [
        "corr_mat = data.corr()\n",
        "corr_mat"
      ],
      "execution_count": null,
      "outputs": [
        {
          "output_type": "execute_result",
          "data": {
            "text/html": [
              "<div>\n",
              "<style scoped>\n",
              "    .dataframe tbody tr th:only-of-type {\n",
              "        vertical-align: middle;\n",
              "    }\n",
              "\n",
              "    .dataframe tbody tr th {\n",
              "        vertical-align: top;\n",
              "    }\n",
              "\n",
              "    .dataframe thead th {\n",
              "        text-align: right;\n",
              "    }\n",
              "</style>\n",
              "<table border=\"1\" class=\"dataframe\">\n",
              "  <thead>\n",
              "    <tr style=\"text-align: right;\">\n",
              "      <th></th>\n",
              "      <th>ClientPeriod</th>\n",
              "      <th>MonthlySpending</th>\n",
              "      <th>TotalSpent</th>\n",
              "      <th>IsSeniorCitizen</th>\n",
              "      <th>Churn</th>\n",
              "    </tr>\n",
              "  </thead>\n",
              "  <tbody>\n",
              "    <tr>\n",
              "      <th>ClientPeriod</th>\n",
              "      <td>1.000000</td>\n",
              "      <td>0.249393</td>\n",
              "      <td>0.826647</td>\n",
              "      <td>0.011532</td>\n",
              "      <td>-0.350713</td>\n",
              "    </tr>\n",
              "    <tr>\n",
              "      <th>MonthlySpending</th>\n",
              "      <td>0.249393</td>\n",
              "      <td>1.000000</td>\n",
              "      <td>0.652027</td>\n",
              "      <td>0.215456</td>\n",
              "      <td>0.184769</td>\n",
              "    </tr>\n",
              "    <tr>\n",
              "      <th>TotalSpent</th>\n",
              "      <td>0.826647</td>\n",
              "      <td>0.652027</td>\n",
              "      <td>1.000000</td>\n",
              "      <td>0.094628</td>\n",
              "      <td>-0.200061</td>\n",
              "    </tr>\n",
              "    <tr>\n",
              "      <th>IsSeniorCitizen</th>\n",
              "      <td>0.011532</td>\n",
              "      <td>0.215456</td>\n",
              "      <td>0.094628</td>\n",
              "      <td>1.000000</td>\n",
              "      <td>0.156872</td>\n",
              "    </tr>\n",
              "    <tr>\n",
              "      <th>Churn</th>\n",
              "      <td>-0.350713</td>\n",
              "      <td>0.184769</td>\n",
              "      <td>-0.200061</td>\n",
              "      <td>0.156872</td>\n",
              "      <td>1.000000</td>\n",
              "    </tr>\n",
              "  </tbody>\n",
              "</table>\n",
              "</div>"
            ],
            "text/plain": [
              "                 ClientPeriod  MonthlySpending  ...  IsSeniorCitizen     Churn\n",
              "ClientPeriod         1.000000         0.249393  ...         0.011532 -0.350713\n",
              "MonthlySpending      0.249393         1.000000  ...         0.215456  0.184769\n",
              "TotalSpent           0.826647         0.652027  ...         0.094628 -0.200061\n",
              "IsSeniorCitizen      0.011532         0.215456  ...         1.000000  0.156872\n",
              "Churn               -0.350713         0.184769  ...         0.156872  1.000000\n",
              "\n",
              "[5 rows x 5 columns]"
            ]
          },
          "metadata": {},
          "execution_count": 13
        }
      ]
    },
    {
      "cell_type": "code",
      "metadata": {
        "colab": {
          "base_uri": "https://localhost:8080/",
          "height": 363
        },
        "id": "T_lF3Ied_D49",
        "outputId": "3472c715-62c0-4a56-dfa7-5f9b5436166d"
      },
      "source": [
        "sns.heatmap(corr_mat)"
      ],
      "execution_count": null,
      "outputs": [
        {
          "output_type": "execute_result",
          "data": {
            "text/plain": [
              "<matplotlib.axes._subplots.AxesSubplot at 0x7fe4a09bc510>"
            ]
          },
          "metadata": {},
          "execution_count": 14
        },
        {
          "output_type": "display_data",
          "data": {
            "image/png": "[encoded data removed]",
            "text/plain": [
              "<Figure size 432x288 with 2 Axes>"
            ]
          },
          "metadata": {
            "needs_background": "light"
          }
        }
      ]
    },
    {
      "cell_type": "markdown",
      "metadata": {
        "id": "NZTi5JX9_asr"
      },
      "source": [
        "Как мы видим: Total Spent коррелирует с MonthlySpending и TotalSpent"
      ]
    },
    {
      "cell_type": "markdown",
      "metadata": {
        "id": "rZjkuD7xdtoT"
      },
      "source": [
        "Разделим данные на X и y:"
      ]
    },
    {
      "cell_type": "code",
      "metadata": {
        "id": "VF9M3rRWdwVI"
      },
      "source": [
        "X = data[num_cols + cat_cols].copy()\n",
        "y = data['Churn'].copy()"
      ],
      "execution_count": null,
      "outputs": []
    },
    {
      "cell_type": "markdown",
      "metadata": {
        "id": "eQzG9ROZd_xg"
      },
      "source": [
        "Посмотрим на размерность:"
      ]
    },
    {
      "cell_type": "code",
      "metadata": {
        "colab": {
          "base_uri": "https://localhost:8080/"
        },
        "id": "ZKZqZ55yeGJM",
        "outputId": "3c6bb4dd-5913-46ef-ee0d-8e19e3d9ace5"
      },
      "source": [
        "X.shape, y.shape"
      ],
      "execution_count": null,
      "outputs": [
        {
          "output_type": "execute_result",
          "data": {
            "text/plain": [
              "((5282, 19), (5282,))"
            ]
          },
          "metadata": {},
          "execution_count": 11
        }
      ]
    },
    {
      "cell_type": "markdown",
      "metadata": {
        "id": "W-MjdU7VfCeG"
      },
      "source": [
        "#Предоброботка данных"
      ]
    },
    {
      "cell_type": "code",
      "metadata": {
        "id": "DGignBF4fF5h",
        "colab": {
          "base_uri": "https://localhost:8080/"
        },
        "outputId": "aa71af5f-3e36-4394-bbc2-ba9c8306c8a0"
      },
      "source": [
        "from sklearn.preprocessing import MaxAbsScaler\n",
        "from imblearn.pipeline import Pipeline\n",
        "from sklearn.preprocessing import OneHotEncoder\n",
        "\n",
        "num_transform = Pipeline(steps=[\n",
        "                    ('scale', MaxAbsScaler())                             \n",
        "])\n",
        "cat_transfrom = Pipeline(steps=[\n",
        "                    ('onehot', OneHotEncoder(handle_unknown = 'ignore')),\n",
        "                    ('scale', MaxAbsScaler())\n",
        "])"
      ],
      "execution_count": null,
      "outputs": [
        {
          "output_type": "stream",
          "name": "stderr",
          "text": [
            "/usr/local/lib/python3.7/dist-packages/sklearn/externals/six.py:31: FutureWarning: The module is deprecated in version 0.21 and will be removed in version 0.23 since we've dropped support for Python 2.7. Please rely on the official version of six (https://pypi.org/project/six/).\n",
            "  \"(https://pypi.org/project/six/).\", FutureWarning)\n",
            "/usr/local/lib/python3.7/dist-packages/sklearn/utils/deprecation.py:144: FutureWarning: The sklearn.neighbors.base module is  deprecated in version 0.22 and will be removed in version 0.24. The corresponding classes / functions should instead be imported from sklearn.neighbors. Anything that cannot be imported from sklearn.neighbors is now part of the private API.\n",
            "  warnings.warn(message, FutureWarning)\n"
          ]
        }
      ]
    },
    {
      "cell_type": "code",
      "metadata": {
        "id": "QQ7jLDahfsg5"
      },
      "source": [
        "from sklearn.compose import ColumnTransformer\n",
        "\n",
        "preprocessing = ColumnTransformer(transformers = [\n",
        "                                    ('cat', cat_transfrom, cat_cols),\n",
        "                                    ('num', num_transform, num_cols)\n",
        "])"
      ],
      "execution_count": null,
      "outputs": []
    },
    {
      "cell_type": "markdown",
      "metadata": {
        "id": "Lk2F89eggH32"
      },
      "source": [
        "Разделим выборку на train/test:"
      ]
    },
    {
      "cell_type": "code",
      "metadata": {
        "id": "i_Qp5ashgLSH"
      },
      "source": [
        "from sklearn.model_selection import train_test_split\n",
        "X_train, X_test, y_train, y_test = train_test_split(X, y, test_size = 0.1)"
      ],
      "execution_count": null,
      "outputs": []
    },
    {
      "cell_type": "code",
      "metadata": {
        "colab": {
          "base_uri": "https://localhost:8080/"
        },
        "id": "9XmAZgYBiSSb",
        "outputId": "01b7743f-8421-4f5a-e77d-a306fd2a0a82"
      },
      "source": [
        "X_train.shape, y_train.shape"
      ],
      "execution_count": null,
      "outputs": [
        {
          "output_type": "execute_result",
          "data": {
            "text/plain": [
              "((4753, 19), (4753,))"
            ]
          },
          "metadata": {},
          "execution_count": 15
        }
      ]
    },
    {
      "cell_type": "code",
      "metadata": {
        "colab": {
          "base_uri": "https://localhost:8080/"
        },
        "id": "3EYsRFWAiURn",
        "outputId": "1d2a06a1-6a7d-43cd-818b-c45cd380c89f"
      },
      "source": [
        "X_test.shape, y_test.shape"
      ],
      "execution_count": null,
      "outputs": [
        {
          "output_type": "execute_result",
          "data": {
            "text/plain": [
              "((529, 19), (529,))"
            ]
          },
          "metadata": {},
          "execution_count": 16
        }
      ]
    },
    {
      "cell_type": "markdown",
      "metadata": {
        "id": "5frB8fBhgsB_"
      },
      "source": [
        "Применим oversampling для устранения несбалансированности классов:"
      ]
    },
    {
      "cell_type": "code",
      "metadata": {
        "id": "6Iz2W8BCguko"
      },
      "source": [
        "from imblearn.over_sampling import SMOTE\n",
        "smt = SMOTE(random_state=1)"
      ],
      "execution_count": null,
      "outputs": []
    },
    {
      "cell_type": "markdown",
      "metadata": {
        "id": "32OkSI7ceKyX"
      },
      "source": [
        "#Построение классификаторов"
      ]
    },
    {
      "cell_type": "markdown",
      "metadata": {
        "id": "vfPzJiZ2eQWe"
      },
      "source": [
        "##Построение линейных моделей"
      ]
    },
    {
      "cell_type": "code",
      "metadata": {
        "id": "M0OS5E5lmyqk"
      },
      "source": [
        "from sklearn.metrics import roc_auc_score\n",
        "from sklearn.model_selection import GridSearchCV\n",
        "from sklearn.model_selection import cross_val_score, StratifiedKFold, ShuffleSplit, RepeatedKFold, cross_val_predict"
      ],
      "execution_count": null,
      "outputs": []
    },
    {
      "cell_type": "markdown",
      "metadata": {
        "id": "k338VuFagyY4"
      },
      "source": [
        "###LogisticRegression"
      ]
    },
    {
      "cell_type": "code",
      "metadata": {
        "id": "pNvHbr7og3RZ"
      },
      "source": [
        "from sklearn.linear_model import LogisticRegression\n",
        "parameters = {'C': [100, 10, 1, 0.1, 0.01, 0.001]}\n",
        "best_log = GridSearchCV(LogisticRegression(), parameters, scoring='roc_auc', cv = 5)\n",
        "my_pipeline_log = Pipeline(steps=[\n",
        "                        ('preprocessing', preprocessing),\n",
        "                        ('sampling', smt),\n",
        "                        ('model', best_log)\n",
        "])"
      ],
      "execution_count": null,
      "outputs": []
    },
    {
      "cell_type": "code",
      "metadata": {
        "colab": {
          "base_uri": "https://localhost:8080/"
        },
        "id": "XDWIJQcyhv1E",
        "outputId": "a96492d4-24d4-44e3-800a-44925f388c20"
      },
      "source": [
        "my_pipeline_log.fit(X_train, y_train)"
      ],
      "execution_count": null,
      "outputs": [
        {
          "output_type": "stream",
          "name": "stderr",
          "text": [
            "/usr/local/lib/python3.7/dist-packages/sklearn/utils/deprecation.py:87: FutureWarning: Function safe_indexing is deprecated; safe_indexing is deprecated in version 0.22 and will be removed in version 0.24.\n",
            "  warnings.warn(msg, category=FutureWarning)\n",
            "/usr/local/lib/python3.7/dist-packages/sklearn/linear_model/_logistic.py:940: ConvergenceWarning: lbfgs failed to converge (status=1):\n",
            "STOP: TOTAL NO. of ITERATIONS REACHED LIMIT.\n",
            "\n",
            "Increase the number of iterations (max_iter) or scale the data as shown in:\n",
            "    https://scikit-learn.org/stable/modules/preprocessing.html\n",
            "Please also refer to the documentation for alternative solver options:\n",
            "    https://scikit-learn.org/stable/modules/linear_model.html#logistic-regression\n",
            "  extra_warning_msg=_LOGISTIC_SOLVER_CONVERGENCE_MSG)\n",
            "/usr/local/lib/python3.7/dist-packages/sklearn/linear_model/_logistic.py:940: ConvergenceWarning: lbfgs failed to converge (status=1):\n",
            "STOP: TOTAL NO. of ITERATIONS REACHED LIMIT.\n",
            "\n",
            "Increase the number of iterations (max_iter) or scale the data as shown in:\n",
            "    https://scikit-learn.org/stable/modules/preprocessing.html\n",
            "Please also refer to the documentation for alternative solver options:\n",
            "    https://scikit-learn.org/stable/modules/linear_model.html#logistic-regression\n",
            "  extra_warning_msg=_LOGISTIC_SOLVER_CONVERGENCE_MSG)\n"
          ]
        },
        {
          "output_type": "execute_result",
          "data": {
            "text/plain": [
              "Pipeline(memory=None,\n",
              "         steps=[('preprocessing',\n",
              "                 ColumnTransformer(n_jobs=None, remainder='drop',\n",
              "                                   sparse_threshold=0.3,\n",
              "                                   transformer_weights=None,\n",
              "                                   transformers=[('cat',\n",
              "                                                  Pipeline(memory=None,\n",
              "                                                           steps=[('onehot',\n",
              "                                                                   OneHotEncoder(categories='auto',\n",
              "                                                                                 drop=None,\n",
              "                                                                                 dtype=<class 'numpy.float64'>,\n",
              "                                                                                 handle_unknown='ignore',\n",
              "                                                                                 sparse=True)),\n",
              "                                                                  ('scale',\n",
              "                                                                   MaxAbsScaler(copy=True))],\n",
              "                                                           verbose=F...\n",
              "                                                           fit_intercept=True,\n",
              "                                                           intercept_scaling=1,\n",
              "                                                           l1_ratio=None,\n",
              "                                                           max_iter=100,\n",
              "                                                           multi_class='auto',\n",
              "                                                           n_jobs=None,\n",
              "                                                           penalty='l2',\n",
              "                                                           random_state=None,\n",
              "                                                           solver='lbfgs',\n",
              "                                                           tol=0.0001,\n",
              "                                                           verbose=0,\n",
              "                                                           warm_start=False),\n",
              "                              iid='deprecated', n_jobs=None,\n",
              "                              param_grid={'C': [100, 10, 1, 0.1, 0.01, 0.001]},\n",
              "                              pre_dispatch='2*n_jobs', refit=True,\n",
              "                              return_train_score=False, scoring='roc_auc',\n",
              "                              verbose=0))],\n",
              "         verbose=False)"
            ]
          },
          "metadata": {},
          "execution_count": 60
        }
      ]
    },
    {
      "cell_type": "code",
      "metadata": {
        "colab": {
          "base_uri": "https://localhost:8080/"
        },
        "id": "yIWUxdUbieIk",
        "outputId": "70b0cce4-7bde-4c8a-d696-42c8d1704dd1"
      },
      "source": [
        "my_pipeline_log[2].best_score_"
      ],
      "execution_count": null,
      "outputs": [
        {
          "output_type": "execute_result",
          "data": {
            "text/plain": [
              "0.8570279059650165"
            ]
          },
          "metadata": {},
          "execution_count": 61
        }
      ]
    },
    {
      "cell_type": "code",
      "metadata": {
        "id": "asV6sGX9ihnG",
        "colab": {
          "base_uri": "https://localhost:8080/"
        },
        "outputId": "1a1fbf97-6752-43e4-ad4c-1357e9252b71"
      },
      "source": [
        "my_pipeline_log[2].best_params_"
      ],
      "execution_count": null,
      "outputs": [
        {
          "output_type": "execute_result",
          "data": {
            "text/plain": [
              "{'C': 100}"
            ]
          },
          "metadata": {},
          "execution_count": 62
        }
      ]
    },
    {
      "cell_type": "code",
      "metadata": {
        "id": "HvniMf2BAz0f"
      },
      "source": [
        "predicted = my_pipeline_log.predict_proba(X_test)"
      ],
      "execution_count": null,
      "outputs": []
    },
    {
      "cell_type": "code",
      "metadata": {
        "colab": {
          "base_uri": "https://localhost:8080/"
        },
        "id": "78SNRVBLA_oK",
        "outputId": "108076af-8406-4ba8-fd47-45e6dd58c725"
      },
      "source": [
        "roc_auc_score(y_test, predicted[:, 1])"
      ],
      "execution_count": null,
      "outputs": [
        {
          "output_type": "execute_result",
          "data": {
            "text/plain": [
              "0.8736136614028646"
            ]
          },
          "metadata": {},
          "execution_count": 66
        }
      ]
    },
    {
      "cell_type": "markdown",
      "metadata": {
        "id": "B5pVPwekmuaU"
      },
      "source": [
        "###DecisionTree"
      ]
    },
    {
      "cell_type": "code",
      "metadata": {
        "id": "jj1s5AAbmwEY"
      },
      "source": [
        "from sklearn.tree import DecisionTreeClassifier\n",
        "depth = np.arange(10, 50)\n",
        "parameters = {'criterion': ['gini', 'entropy'],\n",
        "              'max_depth': depth,\n",
        "              'max_features': ['sqrt', 'log2'],\n",
        "              'min_samples_split': [5, 10, 20],\n",
        "              'splitter': ['best', 'random']\n",
        "             }\n",
        "best_tree = GridSearchCV(DecisionTreeClassifier(), parameters, scoring='roc_auc', cv = 5)"
      ],
      "execution_count": null,
      "outputs": []
    },
    {
      "cell_type": "code",
      "metadata": {
        "id": "wq2CHBMNnE1r"
      },
      "source": [
        "my_pipeline_tree = Pipeline(steps=[\n",
        "                        ('preprocessing', preprocessing),\n",
        "                        ('sampling', smt),\n",
        "                        ('model', best_tree)\n",
        "])"
      ],
      "execution_count": null,
      "outputs": []
    },
    {
      "cell_type": "code",
      "metadata": {
        "colab": {
          "base_uri": "https://localhost:8080/"
        },
        "id": "WyKqLJW6neNG",
        "outputId": "b420d7cd-db63-4521-a7d4-154297c675cc"
      },
      "source": [
        "my_pipeline_tree.fit(X_train, y_train)"
      ],
      "execution_count": null,
      "outputs": [
        {
          "output_type": "stream",
          "name": "stderr",
          "text": [
            "/usr/local/lib/python3.7/dist-packages/sklearn/utils/deprecation.py:87: FutureWarning: Function safe_indexing is deprecated; safe_indexing is deprecated in version 0.22 and will be removed in version 0.24.\n",
            "  warnings.warn(msg, category=FutureWarning)\n"
          ]
        },
        {
          "output_type": "execute_result",
          "data": {
            "text/plain": [
              "Pipeline(memory=None,\n",
              "         steps=[('preprocessing',\n",
              "                 ColumnTransformer(n_jobs=None, remainder='drop',\n",
              "                                   sparse_threshold=0.3,\n",
              "                                   transformer_weights=None,\n",
              "                                   transformers=[('cat',\n",
              "                                                  Pipeline(memory=None,\n",
              "                                                           steps=[('onehot',\n",
              "                                                                   OneHotEncoder(categories='auto',\n",
              "                                                                                 drop=None,\n",
              "                                                                                 dtype=<class 'numpy.float64'>,\n",
              "                                                                                 handle_unknown='ignore',\n",
              "                                                                                 sparse=True)),\n",
              "                                                                  ('scale',\n",
              "                                                                   MaxAbsScaler(copy=True))],\n",
              "                                                           verbose=F...\n",
              "                              param_grid={'criterion': ['gini', 'entropy'],\n",
              "                                          'max_depth': array([10, 11, 12, 13, 14, 15, 16, 17, 18, 19, 20, 21, 22, 23, 24, 25, 26,\n",
              "       27, 28, 29, 30, 31, 32, 33, 34, 35, 36, 37, 38, 39, 40, 41, 42, 43,\n",
              "       44, 45, 46, 47, 48, 49]),\n",
              "                                          'max_features': ['sqrt', 'log2'],\n",
              "                                          'min_samples_split': [5, 10, 20],\n",
              "                                          'splitter': ['best', 'random']},\n",
              "                              pre_dispatch='2*n_jobs', refit=True,\n",
              "                              return_train_score=False, scoring='roc_auc',\n",
              "                              verbose=0))],\n",
              "         verbose=False)"
            ]
          },
          "metadata": {},
          "execution_count": 69
        }
      ]
    },
    {
      "cell_type": "code",
      "metadata": {
        "colab": {
          "base_uri": "https://localhost:8080/"
        },
        "id": "iFltx9xNnnhz",
        "outputId": "ba0da1a9-a963-4b7c-8177-b91afa4d1933"
      },
      "source": [
        "my_pipeline_tree[2].best_score_"
      ],
      "execution_count": null,
      "outputs": [
        {
          "output_type": "execute_result",
          "data": {
            "text/plain": [
              "0.8716755357658057"
            ]
          },
          "metadata": {},
          "execution_count": 70
        }
      ]
    },
    {
      "cell_type": "code",
      "metadata": {
        "colab": {
          "base_uri": "https://localhost:8080/"
        },
        "id": "hWv2ZCOhnp29",
        "outputId": "cd3a6739-e39c-415e-b658-1e8c19c88b74"
      },
      "source": [
        "my_pipeline_tree[2].best_params_"
      ],
      "execution_count": null,
      "outputs": [
        {
          "output_type": "execute_result",
          "data": {
            "text/plain": [
              "{'criterion': 'entropy',\n",
              " 'max_depth': 12,\n",
              " 'max_features': 'sqrt',\n",
              " 'min_samples_split': 20,\n",
              " 'splitter': 'best'}"
            ]
          },
          "metadata": {},
          "execution_count": 71
        }
      ]
    },
    {
      "cell_type": "code",
      "metadata": {
        "id": "4zYObbQ9BPAS"
      },
      "source": [
        "predicted = my_pipeline_tree.predict_proba(X_test)"
      ],
      "execution_count": null,
      "outputs": []
    },
    {
      "cell_type": "code",
      "metadata": {
        "colab": {
          "base_uri": "https://localhost:8080/"
        },
        "id": "q_SWuuTABTrI",
        "outputId": "cb0c554a-7e23-4ce1-a621-5dea4c1a0c1f"
      },
      "source": [
        "roc_auc_score(y_test, predicted[:, 1])"
      ],
      "execution_count": null,
      "outputs": [
        {
          "output_type": "execute_result",
          "data": {
            "text/plain": [
              "0.8736136614028646"
            ]
          },
          "metadata": {},
          "execution_count": 74
        }
      ]
    },
    {
      "cell_type": "markdown",
      "metadata": {
        "id": "UvdArfagKgPd"
      },
      "source": [
        "### KNN"
      ]
    },
    {
      "cell_type": "code",
      "metadata": {
        "id": "x-spfqkKKroD"
      },
      "source": [
        "from sklearn.neighbors import KNeighborsClassifier"
      ],
      "execution_count": null,
      "outputs": []
    },
    {
      "cell_type": "code",
      "metadata": {
        "id": "vac59MBxKsIn"
      },
      "source": [
        "param_grid = {'n_neighbors':np.arange(1, 20), \n",
        "              'weights': ['uniform', 'distance'],\n",
        "              'metric': ['minkowski', 'euclidean'],\n",
        "              }\n",
        "best_knn = GridSearchCV(KNeighborsClassifier(), param_grid=param_grid, scoring='roc_auc', cv = 5)"
      ],
      "execution_count": null,
      "outputs": []
    },
    {
      "cell_type": "code",
      "metadata": {
        "id": "ZqLG09BeKx2X"
      },
      "source": [
        "my_pipeline_knn = Pipeline(steps=[\n",
        "                        ('preprocessing', preprocessing),\n",
        "                        ('sampling', smt),\n",
        "                        ('model', best_knn)\n",
        "])"
      ],
      "execution_count": null,
      "outputs": []
    },
    {
      "cell_type": "code",
      "metadata": {
        "colab": {
          "base_uri": "https://localhost:8080/"
        },
        "id": "-ND2LmjBSzdx",
        "outputId": "74c09ec0-d1e1-4db4-b7cd-81a21714a6c4"
      },
      "source": [
        "my_pipeline_knn.fit(X_train, y_train)"
      ],
      "execution_count": null,
      "outputs": [
        {
          "output_type": "stream",
          "name": "stderr",
          "text": [
            "/usr/local/lib/python3.7/dist-packages/sklearn/utils/deprecation.py:87: FutureWarning: Function safe_indexing is deprecated; safe_indexing is deprecated in version 0.22 and will be removed in version 0.24.\n",
            "  warnings.warn(msg, category=FutureWarning)\n"
          ]
        },
        {
          "output_type": "execute_result",
          "data": {
            "text/plain": [
              "Pipeline(memory=None,\n",
              "         steps=[('preprocessing',\n",
              "                 ColumnTransformer(n_jobs=None, remainder='drop',\n",
              "                                   sparse_threshold=0.3,\n",
              "                                   transformer_weights=None,\n",
              "                                   transformers=[('cat',\n",
              "                                                  Pipeline(memory=None,\n",
              "                                                           steps=[('onehot',\n",
              "                                                                   OneHotEncoder(categories='auto',\n",
              "                                                                                 drop=None,\n",
              "                                                                                 dtype=<class 'numpy.float64'>,\n",
              "                                                                                 handle_unknown='ignore',\n",
              "                                                                                 sparse=True)),\n",
              "                                                                  ('scale',\n",
              "                                                                   MaxAbsScaler(copy=True))],\n",
              "                                                           verbose=F...\n",
              "                                                             metric_params=None,\n",
              "                                                             n_jobs=None,\n",
              "                                                             n_neighbors=5, p=2,\n",
              "                                                             weights='uniform'),\n",
              "                              iid='deprecated', n_jobs=None,\n",
              "                              param_grid={'metric': ['minkowski', 'euclidean'],\n",
              "                                          'n_neighbors': array([ 1,  2,  3,  4,  5,  6,  7,  8,  9, 10, 11, 12, 13, 14, 15, 16, 17,\n",
              "       18, 19]),\n",
              "                                          'weights': ['uniform', 'distance']},\n",
              "                              pre_dispatch='2*n_jobs', refit=True,\n",
              "                              return_train_score=False, scoring='roc_auc',\n",
              "                              verbose=0))],\n",
              "         verbose=False)"
            ]
          },
          "metadata": {},
          "execution_count": 28
        }
      ]
    },
    {
      "cell_type": "code",
      "metadata": {
        "colab": {
          "base_uri": "https://localhost:8080/"
        },
        "id": "WIZtTyTkK1iT",
        "outputId": "68c06883-2e48-440a-9435-13bd2a9c4e59"
      },
      "source": [
        "my_pipeline_knn[2].best_score_"
      ],
      "execution_count": null,
      "outputs": [
        {
          "output_type": "execute_result",
          "data": {
            "text/plain": [
              "0.8846838493114794"
            ]
          },
          "metadata": {},
          "execution_count": 33
        }
      ]
    },
    {
      "cell_type": "code",
      "metadata": {
        "colab": {
          "base_uri": "https://localhost:8080/"
        },
        "id": "s5b_5H1NK39n",
        "outputId": "df9427d2-d297-41f3-9f93-70883ca13a22"
      },
      "source": [
        "my_pipeline_knn[2].best_params_"
      ],
      "execution_count": null,
      "outputs": [
        {
          "output_type": "execute_result",
          "data": {
            "text/plain": [
              "{'metric': 'minkowski', 'n_neighbors': 12, 'weights': 'distance'}"
            ]
          },
          "metadata": {},
          "execution_count": 34
        }
      ]
    },
    {
      "cell_type": "code",
      "metadata": {
        "id": "DrZ813aXK6kv"
      },
      "source": [
        "predicted = my_pipeline_knn.predict_proba(X_test)"
      ],
      "execution_count": null,
      "outputs": []
    },
    {
      "cell_type": "code",
      "metadata": {
        "colab": {
          "base_uri": "https://localhost:8080/"
        },
        "id": "FMdjpwNXK9lF",
        "outputId": "151b526e-679c-4306-b5db-74be01a03f7c"
      },
      "source": [
        "roc_auc_score(y_test, predicted[:, 1])"
      ],
      "execution_count": null,
      "outputs": [
        {
          "output_type": "execute_result",
          "data": {
            "text/plain": [
              "0.7829554995801847"
            ]
          },
          "metadata": {},
          "execution_count": 37
        }
      ]
    },
    {
      "cell_type": "markdown",
      "metadata": {
        "id": "zPV9yybwedyq"
      },
      "source": [
        "##Применение градиентного метода"
      ]
    },
    {
      "cell_type": "markdown",
      "metadata": {
        "id": "9P9XSpHWoZCz"
      },
      "source": [
        "###Gradient Boosting"
      ]
    },
    {
      "cell_type": "markdown",
      "metadata": {
        "id": "47dtVZANVFMI"
      },
      "source": [
        "###GridSearch\n"
      ]
    },
    {
      "cell_type": "code",
      "metadata": {
        "id": "8L8api0jXl-z"
      },
      "source": [
        "from sklearn.ensemble import GradientBoostingClassifier"
      ],
      "execution_count": null,
      "outputs": []
    },
    {
      "cell_type": "code",
      "metadata": {
        "id": "dQxnRU22ob0p"
      },
      "source": [
        "parameters = {\n",
        "    \"learning_rate\": [0.01, 0.02],\n",
        "    \"max_depth\": range(5, 10),\n",
        "    \"max_features\":[\"sqrt\"],\n",
        "    \"criterion\": [\"friedman_mse\"],\n",
        "    \"n_estimators\":[400, 600],\n",
        "    'min_samples_split': [20, 40],\n",
        "}\n",
        "best_boost = GridSearchCV(GradientBoostingClassifier(), param_grid=parameters, scoring='roc_auc', cv = 5)"
      ],
      "execution_count": null,
      "outputs": []
    },
    {
      "cell_type": "code",
      "metadata": {
        "id": "ENlguOCyouuC"
      },
      "source": [
        "my_pipeline_boost = Pipeline(steps=[\n",
        "                        ('preprocessing', preprocessing),\n",
        "                        ('smote', smt),\n",
        "                        ('model', best_boost)\n",
        "])"
      ],
      "execution_count": null,
      "outputs": []
    },
    {
      "cell_type": "code",
      "metadata": {
        "colab": {
          "base_uri": "https://localhost:8080/"
        },
        "id": "w9pecrUlopi4",
        "outputId": "c1f75f15-3d7f-4538-9c2c-a38759aa63f0"
      },
      "source": [
        "my_pipeline_boost.fit(X_train, y_train)"
      ],
      "execution_count": null,
      "outputs": [
        {
          "output_type": "stream",
          "name": "stderr",
          "text": [
            "/usr/local/lib/python3.7/dist-packages/sklearn/utils/deprecation.py:87: FutureWarning: Function safe_indexing is deprecated; safe_indexing is deprecated in version 0.22 and will be removed in version 0.24.\n",
            "  warnings.warn(msg, category=FutureWarning)\n"
          ]
        },
        {
          "output_type": "execute_result",
          "data": {
            "text/plain": [
              "Pipeline(memory=None,\n",
              "         steps=[('preprocessing',\n",
              "                 ColumnTransformer(n_jobs=None, remainder='drop',\n",
              "                                   sparse_threshold=0.3,\n",
              "                                   transformer_weights=None,\n",
              "                                   transformers=[('cat',\n",
              "                                                  Pipeline(memory=None,\n",
              "                                                           steps=[('onehot',\n",
              "                                                                   OneHotEncoder(categories='auto',\n",
              "                                                                                 drop=None,\n",
              "                                                                                 dtype=<class 'numpy.float64'>,\n",
              "                                                                                 handle_unknown='ignore',\n",
              "                                                                                 sparse=True)),\n",
              "                                                                  ('scale',\n",
              "                                                                   MaxAbsScaler(copy=True))],\n",
              "                                                           verbose=F...\n",
              "                                                                   validation_fraction=0.1,\n",
              "                                                                   verbose=0,\n",
              "                                                                   warm_start=False),\n",
              "                              iid='deprecated', n_jobs=None,\n",
              "                              param_grid={'criterion': ['friedman_mse'],\n",
              "                                          'learning_rate': [0.01, 0.02],\n",
              "                                          'max_depth': range(5, 10),\n",
              "                                          'max_features': ['sqrt'],\n",
              "                                          'min_samples_split': [20, 40],\n",
              "                                          'n_estimators': [400, 600]},\n",
              "                              pre_dispatch='2*n_jobs', refit=True,\n",
              "                              return_train_score=False, scoring='roc_auc',\n",
              "                              verbose=0))],\n",
              "         verbose=False)"
            ]
          },
          "metadata": {},
          "execution_count": 78
        }
      ]
    },
    {
      "cell_type": "code",
      "metadata": {
        "colab": {
          "base_uri": "https://localhost:8080/"
        },
        "id": "9-MdD2QWo2f0",
        "outputId": "5b83a826-ae04-456f-8d65-8b42ce7864fd"
      },
      "source": [
        "my_pipeline_boost[2].best_score_"
      ],
      "execution_count": null,
      "outputs": [
        {
          "output_type": "execute_result",
          "data": {
            "text/plain": [
              "0.9439249412205223"
            ]
          },
          "metadata": {},
          "execution_count": 79
        }
      ]
    },
    {
      "cell_type": "code",
      "metadata": {
        "colab": {
          "base_uri": "https://localhost:8080/"
        },
        "id": "UyPdn_4Yo5rZ",
        "outputId": "8f900efd-5a5f-4655-e661-eef3ff1821f6"
      },
      "source": [
        "my_pipeline_boost[2].best_params_"
      ],
      "execution_count": null,
      "outputs": [
        {
          "output_type": "execute_result",
          "data": {
            "text/plain": [
              "{'criterion': 'friedman_mse',\n",
              " 'learning_rate': 0.02,\n",
              " 'max_depth': 9,\n",
              " 'max_features': 'sqrt',\n",
              " 'min_samples_split': 20,\n",
              " 'n_estimators': 600}"
            ]
          },
          "metadata": {},
          "execution_count": 80
        }
      ]
    },
    {
      "cell_type": "code",
      "metadata": {
        "id": "Wus4DEliAOrd"
      },
      "source": [
        "predicted = my_pipeline_boost.predict_proba(X_test)"
      ],
      "execution_count": null,
      "outputs": []
    },
    {
      "cell_type": "code",
      "metadata": {
        "colab": {
          "base_uri": "https://localhost:8080/"
        },
        "id": "yDfOclI9BmlZ",
        "outputId": "f7de5853-f8e8-45db-84ac-150a4f67a471"
      },
      "source": [
        "roc_auc_score(y_test, predicted[:, 1])"
      ],
      "execution_count": null,
      "outputs": [
        {
          "output_type": "execute_result",
          "data": {
            "text/plain": [
              "0.8549026808666911"
            ]
          },
          "metadata": {},
          "execution_count": 83
        }
      ]
    },
    {
      "cell_type": "code",
      "metadata": {
        "colab": {
          "base_uri": "https://localhost:8080/"
        },
        "id": "IdwDVHu1A8Pw",
        "outputId": "fca835d2-c3f5-463f-88c4-37a27479f408"
      },
      "source": [
        "X_test_origin = pd.read_csv('test.csv')\n",
        "X_test_origin['TotalSpent'] = X_test_origin['TotalSpent'].where(X_test_origin['ClientPeriod'] > 0, X_test_origin['MonthlySpending'])\n",
        "X_test_origin['ClientPeriod'] = X_test_origin['ClientPeriod'].where(X_test_origin['ClientPeriod'] > 0, 1)\n",
        "X_test_origin['TotalSpent'] = pd.to_numeric(data['TotalSpent'])\n",
        "submission = pd.read_csv('submission.csv')\n",
        "submission['Churn'] = my_pipeline_boost.predict_proba(X_test_origin)[:, 1]\n",
        "submission.to_csv('my_submission.csv', index=False)"
      ],
      "execution_count": null,
      "outputs": [
        {
          "output_type": "stream",
          "name": "stderr",
          "text": [
            "/usr/local/lib/python3.7/dist-packages/sklearn/compose/_column_transformer.py:430: FutureWarning: Given feature/column names or counts do not match the ones for the data given during fit. This will fail from v0.24.\n",
            "  FutureWarning)\n"
          ]
        }
      ]
    },
    {
      "cell_type": "markdown",
      "metadata": {
        "id": "LfaQ-iiAehhx"
      },
      "source": [
        "##Логистическая регрессия на PyTorch"
      ]
    },
    {
      "cell_type": "code",
      "metadata": {
        "id": "MYI2zMBmpdlB"
      },
      "source": [
        "X_train = preprocessing.fit_transform(X_train)\n",
        "X_test = preprocessing.fit_transform(X_test)"
      ],
      "execution_count": null,
      "outputs": []
    },
    {
      "cell_type": "code",
      "metadata": {
        "id": "KfR9MrgdqMGp"
      },
      "source": [
        "y_train = y_train.values\n",
        "y_test = y_test.values"
      ],
      "execution_count": null,
      "outputs": []
    },
    {
      "cell_type": "code",
      "metadata": {
        "id": "tLWmAvyhpNMa"
      },
      "source": [
        "import torch\n",
        "import torch.nn as nn\n",
        "import torch.nn.functional as F\n",
        "from sklearn.utils import shuffle\n",
        "from torch.autograd import Variable\n",
        "\n",
        "class LinearRegression(nn.Module):\n",
        "    def __init__(self,input_size,output_size):\n",
        "        # super function. It inherits from nn.Module and we can access everythink in nn.Module\n",
        "        super(LinearRegression,self).__init__()\n",
        "        # Linear function.\n",
        "        self.f1 = nn.Linear(input_dim, 100)\n",
        "        self.f2 = nn.Linear(100, output_dim)\n",
        "\n",
        "\n",
        "    def forward(self,x):\n",
        "        x = self.f1(x)\n",
        "        x = F.relu(x)\n",
        "        x = F.dropout(x, p = 0.2)\n",
        "        x = self.f2(x)\n",
        "        return  F.sigmoid(x)"
      ],
      "execution_count": null,
      "outputs": []
    },
    {
      "cell_type": "code",
      "metadata": {
        "id": "18J-gA3AqQ1E"
      },
      "source": [
        "batch_size = 100\n",
        "batch_no = len(X_train) // batch_size"
      ],
      "execution_count": null,
      "outputs": []
    },
    {
      "cell_type": "code",
      "metadata": {
        "colab": {
          "base_uri": "https://localhost:8080/"
        },
        "id": "LkeSDldhqVBu",
        "outputId": "c6f9a79e-9386-4e23-f5bc-29c53fd55aac"
      },
      "source": [
        "X_train.shape"
      ],
      "execution_count": null,
      "outputs": [
        {
          "output_type": "execute_result",
          "data": {
            "text/plain": [
              "(4753, 45)"
            ]
          },
          "metadata": {},
          "execution_count": 290
        }
      ]
    },
    {
      "cell_type": "code",
      "metadata": {
        "id": "LFThyA4uqZsD"
      },
      "source": [
        "def generate_batches(X, y, batch_size):\n",
        "    assert len(X) == len(y)\n",
        "    np.random.seed(42)\n",
        "    X = np.array(X)\n",
        "    y = np.array(y)\n",
        "    perm = np.random.permutation(len(X))\n",
        "\n",
        "    for i in range(len(X)//batch_size):\n",
        "        if i + batch_size >= len(X):\n",
        "            continue\n",
        "        ind = perm[i*batch_size : (i+1)*batch_size]\n",
        "        yield (X[ind], y[ind])"
      ],
      "execution_count": null,
      "outputs": []
    },
    {
      "cell_type": "code",
      "metadata": {
        "colab": {
          "base_uri": "https://localhost:8080/",
          "height": 765
        },
        "id": "eiRZxU7pqaQ8",
        "outputId": "a0d5ad67-573d-43ba-9c33-4bf8894468ab"
      },
      "source": [
        "input_dim = 45\n",
        "output_dim = 2\n",
        "learning_rate = 0.01\n",
        "model = LinearRegression(input_dim,output_dim)\n",
        "error = nn.CrossEntropyLoss()\n",
        "optimizer = torch.optim.Adam(model.parameters(), lr=learning_rate)\n",
        "\n",
        "loss_list = []\n",
        "acc_list = []\n",
        "iteration_number = 500\n",
        "\n",
        "for iteration in range(iteration_number):\n",
        "    batch_loss = 0\n",
        "    batch_accur = 0\n",
        "    temp = 0\n",
        "\n",
        "    for (x, y) in generate_batches(X_train, y_train, batch_size):\n",
        "        inputs = Variable(torch.from_numpy(x)).float()\n",
        "        labels = Variable(torch.from_numpy(y))\n",
        "            \n",
        "        optimizer.zero_grad() \n",
        "\n",
        "        results = model(inputs)\n",
        "        \n",
        "        loss = error(results, labels)\n",
        "\n",
        "        batch_loss += loss.data\n",
        "        \n",
        "        loss.backward()\n",
        "        \n",
        "        optimizer.step()\n",
        "\n",
        "        with torch.no_grad():\n",
        "            _, pred = torch.max(results, 1)\n",
        "            batch_accur += torch.sum(pred == labels)\n",
        "            temp += len(pred)\n",
        "    \n",
        "    loss_list.append(batch_loss/batch_no)\n",
        "    acc_list.append(batch_accur/temp)\n",
        "    \n",
        "    if(iteration % 50 == 0):\n",
        "        print('epoch {}: loss {}, accuracy {}'.format(iteration, batch_loss/batch_no, batch_accur/temp))\n",
        "\n",
        "plt.plot(range(iteration_number),loss_list)\n",
        "plt.xlabel(\"Number of Iterations\")\n",
        "plt.ylabel(\"Loss\")\n",
        "plt.show()\n",
        "plt.plot(range(iteration_number),acc_list)\n",
        "plt.xlabel(\"Number of Iterations\")\n",
        "plt.ylabel(\"Accuracy\")\n",
        "plt.show()"
      ],
      "execution_count": null,
      "outputs": [
        {
          "output_type": "stream",
          "name": "stderr",
          "text": [
            "/usr/local/lib/python3.7/dist-packages/torch/nn/functional.py:1805: UserWarning: nn.functional.sigmoid is deprecated. Use torch.sigmoid instead.\n",
            "  warnings.warn(\"nn.functional.sigmoid is deprecated. Use torch.sigmoid instead.\")\n"
          ]
        },
        {
          "output_type": "stream",
          "name": "stdout",
          "text": [
            "epoch 0: loss 0.54158616065979, accuracy 0.7591489553451538\n",
            "epoch 50: loss 0.46955570578575134, accuracy 0.8423404097557068\n",
            "epoch 100: loss 0.45315974950790405, accuracy 0.8587234020233154\n",
            "epoch 150: loss 0.4434613287448883, accuracy 0.8714893460273743\n",
            "epoch 200: loss 0.4379478096961975, accuracy 0.8753191232681274\n",
            "epoch 250: loss 0.43335944414138794, accuracy 0.8780850768089294\n",
            "epoch 300: loss 0.43055856227874756, accuracy 0.8821276426315308\n",
            "epoch 350: loss 0.4313192069530487, accuracy 0.8795744776725769\n",
            "epoch 400: loss 0.4326314330101013, accuracy 0.8793616890907288\n",
            "epoch 450: loss 0.43067502975463867, accuracy 0.8806383013725281\n"
          ]
        },
        {
          "output_type": "display_data",
          "data": {
            "image/png": "[encoded data removed]",
            "text/plain": [
              "<Figure size 432x288 with 1 Axes>"
            ]
          },
          "metadata": {
            "needs_background": "light"
          }
        },
        {
          "output_type": "display_data",
          "data": {
            "image/png": "[encoded data removed]",
            "text/plain": [
              "<Figure size 432x288 with 1 Axes>"
            ]
          },
          "metadata": {
            "needs_background": "light"
          }
        }
      ]
    },
    {
      "cell_type": "code",
      "metadata": {
        "colab": {
          "base_uri": "https://localhost:8080/"
        },
        "id": "QDGH8jEdvw1C",
        "outputId": "afcf76ee-217d-475c-a96e-5ec87017e473"
      },
      "source": [
        "X_test_var = Variable(torch.FloatTensor(X_test), requires_grad=True) \n",
        "with torch.no_grad():\n",
        "    test_result = model(X_test_var)\n",
        "values, labels = torch.max(test_result, 1)\n",
        "survived = labels.data.numpy()\n",
        "print((survived == y_test).sum()/len(survived))"
      ],
      "execution_count": null,
      "outputs": [
        {
          "output_type": "stream",
          "name": "stdout",
          "text": [
            "0.7863894139886578\n"
          ]
        },
        {
          "output_type": "stream",
          "name": "stderr",
          "text": [
            "/usr/local/lib/python3.7/dist-packages/torch/nn/functional.py:1805: UserWarning: nn.functional.sigmoid is deprecated. Use torch.sigmoid instead.\n",
            "  warnings.warn(\"nn.functional.sigmoid is deprecated. Use torch.sigmoid instead.\")\n"
          ]
        }
      ]
    },
    {
      "cell_type": "markdown",
      "metadata": {
        "id": "aagCIJd4tW3n"
      },
      "source": [
        "#Получение предсказаний"
      ]
    },
    {
      "cell_type": "code",
      "metadata": {
        "id": "7DnVmbzItaWq"
      },
      "source": [
        "X_test_origin = pd.read_csv(\"test.csv\")"
      ],
      "execution_count": null,
      "outputs": []
    },
    {
      "cell_type": "code",
      "metadata": {
        "id": "JwgpDzRnv4zi"
      },
      "source": [
        "submission = pd.read_csv(\"submission.csv\")"
      ],
      "execution_count": null,
      "outputs": []
    },
    {
      "cell_type": "code",
      "metadata": {
        "id": "d9zzPH21wU2O"
      },
      "source": [
        "X_test_origin['TotalSpent'] = X_test_origin['TotalSpent'].where(X_test_origin['ClientPeriod'] > 0, X_test_origin['MonthlySpending'])\n",
        "X_test_origin['ClientPeriod'] = X_test_origin['ClientPeriod'].where(X_test_origin['ClientPeriod'] > 0, 1)\n",
        "X_test_origin['TotalSpent'] = pd.to_numeric(data['TotalSpent'])"
      ],
      "execution_count": null,
      "outputs": []
    },
    {
      "cell_type": "code",
      "metadata": {
        "id": "SeyMsBiMv7RP"
      },
      "source": [
        "X_test_origin = preprocessing.fit_transform(X_test_origin)"
      ],
      "execution_count": null,
      "outputs": []
    },
    {
      "cell_type": "code",
      "metadata": {
        "colab": {
          "base_uri": "https://localhost:8080/"
        },
        "id": "a6L_Qa5IwwMk",
        "outputId": "98f76460-8225-4f7e-dcae-c4401c5a8da4"
      },
      "source": [
        "X_test_var = Variable(torch.FloatTensor(X_test_origin), requires_grad=True) \n",
        "with torch.no_grad():\n",
        "    test_result = model(X_test_var)\n",
        "values, labels = torch.max(test_result, 1)\n",
        "survived = labels.data.numpy()"
      ],
      "execution_count": null,
      "outputs": [
        {
          "output_type": "stream",
          "name": "stderr",
          "text": [
            "/usr/local/lib/python3.7/dist-packages/torch/nn/functional.py:1805: UserWarning: nn.functional.sigmoid is deprecated. Use torch.sigmoid instead.\n",
            "  warnings.warn(\"nn.functional.sigmoid is deprecated. Use torch.sigmoid instead.\")\n"
          ]
        }
      ]
    },
    {
      "cell_type": "code",
      "metadata": {
        "id": "VQs1U7A5w0a2"
      },
      "source": [
        "X_test_1 = pd.read_csv(\"test.csv\")"
      ],
      "execution_count": null,
      "outputs": []
    },
    {
      "cell_type": "code",
      "metadata": {
        "id": "7ifOzaL8w3v3"
      },
      "source": [
        "import csv\n",
        "\n",
        "submission1 = [['Id', 'Churn']]\n",
        "for i in range(len(survived)):\n",
        "    submission1.append([submission.Id.loc[i], survived[i]])"
      ],
      "execution_count": null,
      "outputs": []
    },
    {
      "cell_type": "code",
      "metadata": {
        "colab": {
          "base_uri": "https://localhost:8080/"
        },
        "id": "M8hs6TLXxUrV",
        "outputId": "b2a09ba7-d8e7-4e98-f3b9-cc627564b3bc"
      },
      "source": [
        "with open('submission1.csv', 'w') as submissionFile:\n",
        "    writer = csv.writer(submissionFile)\n",
        "    writer.writerows(submission1)\n",
        "    \n",
        "print('Writing Complete!')"
      ],
      "execution_count": null,
      "outputs": [
        {
          "output_type": "stream",
          "name": "stdout",
          "text": [
            "Writing Complete!\n"
          ]
        }
      ]
    },
    {
      "cell_type": "markdown",
      "metadata": {
        "id": "j3aKg5l8ByD2"
      },
      "source": [
        "# AutoML"
      ]
    },
    {
      "cell_type": "code",
      "metadata": {
        "colab": {
          "base_uri": "https://localhost:8080/",
          "height": 1000
        },
        "id": "3u7VYM6hBxbq",
        "outputId": "466c3bd6-5739-4940-ee6a-0f9d15f499c6"
      },
      "source": [
        "!pip install autogluon.tabular[all]"
      ],
      "execution_count": null,
      "outputs": [
        {
          "output_type": "stream",
          "name": "stdout",
          "text": [
            "Collecting autogluon.tabular[all]\n",
            "  Downloading autogluon.tabular-0.3.1-py3-none-any.whl (273 kB)\n",
            "\u001b[K     |████████████████████████████████| 273 kB 5.3 MB/s \n",
            "\u001b[?25hCollecting autogluon.features==0.3.1\n",
            "  Downloading autogluon.features-0.3.1-py3-none-any.whl (56 kB)\n",
            "\u001b[K     |████████████████████████████████| 56 kB 4.2 MB/s \n",
            "\u001b[?25hRequirement already satisfied: pandas<2.0,>=1.0.0 in /usr/local/lib/python3.7/dist-packages (from autogluon.tabular[all]) (1.1.5)\n",
            "Collecting scipy<1.7,>=1.5.4\n",
            "  Downloading scipy-1.6.3-cp37-cp37m-manylinux1_x86_64.whl (27.4 MB)\n",
            "\u001b[K     |████████████████████████████████| 27.4 MB 104 kB/s \n",
            "\u001b[?25hRequirement already satisfied: pytest in /usr/local/lib/python3.7/dist-packages (from autogluon.tabular[all]) (3.6.4)\n",
            "Requirement already satisfied: numpy<1.22,>=1.19 in /usr/local/lib/python3.7/dist-packages (from autogluon.tabular[all]) (1.19.5)\n",
            "Requirement already satisfied: networkx<3.0,>=2.3 in /usr/local/lib/python3.7/dist-packages (from autogluon.tabular[all]) (2.6.3)\n",
            "Collecting scikit-learn<0.25,>=0.23.2\n",
            "  Downloading scikit_learn-0.24.2-cp37-cp37m-manylinux2010_x86_64.whl (22.3 MB)\n",
            "\u001b[K     |████████████████████████████████| 22.3 MB 1.7 MB/s \n",
            "\u001b[?25hCollecting autogluon.core==0.3.1\n",
            "  Downloading autogluon.core-0.3.1-py3-none-any.whl (352 kB)\n",
            "\u001b[K     |████████████████████████████████| 352 kB 61.8 MB/s \n",
            "\u001b[?25hCollecting psutil<5.9,>=5.7.3\n",
            "  Downloading psutil-5.8.0-cp37-cp37m-manylinux2010_x86_64.whl (296 kB)\n",
            "\u001b[K     |████████████████████████████████| 296 kB 49.1 MB/s \n",
            "\u001b[?25hCollecting lightgbm<4.0,>=3.0\n",
            "  Downloading lightgbm-3.3.0-py3-none-manylinux1_x86_64.whl (2.0 MB)\n",
            "\u001b[K     |████████████████████████████████| 2.0 MB 22.6 MB/s \n",
            "\u001b[?25hRequirement already satisfied: torch<2.0,>=1.0 in /usr/local/lib/python3.7/dist-packages (from autogluon.tabular[all]) (1.9.0+cu111)\n",
            "Collecting catboost<0.26,>=0.24.0\n",
            "  Downloading catboost-0.25.1-cp37-none-manylinux1_x86_64.whl (67.3 MB)\n",
            "\u001b[K     |████████████████████████████████| 67.3 MB 4.5 kB/s \n",
            "\u001b[?25hCollecting xgboost<1.5,>=1.4\n",
            "  Downloading xgboost-1.4.2-py3-none-manylinux2010_x86_64.whl (166.7 MB)\n",
            "\u001b[K     |████████████████████████████████| 166.7 MB 18 kB/s \n",
            "\u001b[?25hCollecting fastai<3.0,>=2.3.1\n",
            "  Downloading fastai-2.5.2-py3-none-any.whl (186 kB)\n",
            "\u001b[K     |████████████████████████████████| 186 kB 50.4 MB/s \n",
            "\u001b[?25hRequirement already satisfied: graphviz<1.0,>=0.8.1 in /usr/local/lib/python3.7/dist-packages (from autogluon.core==0.3.1->autogluon.tabular[all]) (0.10.1)\n",
            "Requirement already satisfied: autograd>=1.3 in /usr/local/lib/python3.7/dist-packages (from autogluon.core==0.3.1->autogluon.tabular[all]) (1.3)\n",
            "Collecting paramiko>=2.4\n",
            "  Downloading paramiko-2.8.0-py2.py3-none-any.whl (206 kB)\n",
            "\u001b[K     |████████████████████████████████| 206 kB 50.4 MB/s \n",
            "\u001b[?25hRequirement already satisfied: matplotlib in /usr/local/lib/python3.7/dist-packages (from autogluon.core==0.3.1->autogluon.tabular[all]) (3.2.2)\n",
            "Requirement already satisfied: dill<1.0,>=0.3.3 in /usr/local/lib/python3.7/dist-packages (from autogluon.core==0.3.1->autogluon.tabular[all]) (0.3.4)\n",
            "Requirement already satisfied: cython in /usr/local/lib/python3.7/dist-packages (from autogluon.core==0.3.1->autogluon.tabular[all]) (0.29.24)\n",
            "Collecting ConfigSpace==0.4.19\n",
            "  Downloading ConfigSpace-0.4.19-cp37-cp37m-manylinux2014_x86_64.whl (4.2 MB)\n",
            "\u001b[K     |████████████████████████████████| 4.2 MB 49.0 MB/s \n",
            "\u001b[?25hCollecting distributed>=2.6.0\n",
            "  Downloading distributed-2021.9.1-py3-none-any.whl (786 kB)\n",
            "\u001b[K     |████████████████████████████████| 786 kB 49.8 MB/s \n",
            "\u001b[?25hRequirement already satisfied: tornado>=5.0.1 in /usr/local/lib/python3.7/dist-packages (from autogluon.core==0.3.1->autogluon.tabular[all]) (5.1.1)\n",
            "Collecting boto3\n",
            "  Downloading boto3-1.18.60-py3-none-any.whl (131 kB)\n",
            "\u001b[K     |████████████████████████████████| 131 kB 51.7 MB/s \n",
            "\u001b[?25hRequirement already satisfied: tqdm>=4.38.0 in /usr/local/lib/python3.7/dist-packages (from autogluon.core==0.3.1->autogluon.tabular[all]) (4.62.3)\n",
            "Requirement already satisfied: dask>=2.6.0 in /usr/local/lib/python3.7/dist-packages (from autogluon.core==0.3.1->autogluon.tabular[all]) (2.12.0)\n",
            "Requirement already satisfied: requests in /usr/local/lib/python3.7/dist-packages (from autogluon.core==0.3.1->autogluon.tabular[all]) (2.23.0)\n",
            "Requirement already satisfied: pyparsing in /usr/local/lib/python3.7/dist-packages (from ConfigSpace==0.4.19->autogluon.core==0.3.1->autogluon.tabular[all]) (2.4.7)\n",
            "Requirement already satisfied: future>=0.15.2 in /usr/local/lib/python3.7/dist-packages (from autograd>=1.3->autogluon.core==0.3.1->autogluon.tabular[all]) (0.16.0)\n",
            "Requirement already satisfied: plotly in /usr/local/lib/python3.7/dist-packages (from catboost<0.26,>=0.24.0->autogluon.tabular[all]) (4.4.1)\n",
            "Requirement already satisfied: six in /usr/local/lib/python3.7/dist-packages (from catboost<0.26,>=0.24.0->autogluon.tabular[all]) (1.15.0)\n",
            "Requirement already satisfied: jinja2 in /usr/local/lib/python3.7/dist-packages (from distributed>=2.6.0->autogluon.core==0.3.1->autogluon.tabular[all]) (2.11.3)\n",
            "Requirement already satisfied: tblib>=1.6.0 in /usr/local/lib/python3.7/dist-packages (from distributed>=2.6.0->autogluon.core==0.3.1->autogluon.tabular[all]) (1.7.0)\n",
            "Requirement already satisfied: toolz>=0.8.2 in /usr/local/lib/python3.7/dist-packages (from distributed>=2.6.0->autogluon.core==0.3.1->autogluon.tabular[all]) (0.11.1)\n",
            "Collecting cloudpickle>=1.5.0\n",
            "  Downloading cloudpickle-2.0.0-py3-none-any.whl (25 kB)\n",
            "Requirement already satisfied: setuptools in /usr/local/lib/python3.7/dist-packages (from distributed>=2.6.0->autogluon.core==0.3.1->autogluon.tabular[all]) (57.4.0)\n",
            "Requirement already satisfied: msgpack>=0.6.0 in /usr/local/lib/python3.7/dist-packages (from distributed>=2.6.0->autogluon.core==0.3.1->autogluon.tabular[all]) (1.0.2)\n",
            "Requirement already satisfied: click>=6.6 in /usr/local/lib/python3.7/dist-packages (from distributed>=2.6.0->autogluon.core==0.3.1->autogluon.tabular[all]) (7.1.2)\n",
            "Requirement already satisfied: pyyaml in /usr/local/lib/python3.7/dist-packages (from distributed>=2.6.0->autogluon.core==0.3.1->autogluon.tabular[all]) (3.13)\n",
            "Requirement already satisfied: sortedcontainers!=2.0.0,!=2.0.1 in /usr/local/lib/python3.7/dist-packages (from distributed>=2.6.0->autogluon.core==0.3.1->autogluon.tabular[all]) (2.4.0)\n",
            "Collecting dask>=2.6.0\n",
            "  Downloading dask-2021.9.1-py3-none-any.whl (1.0 MB)\n",
            "\u001b[K     |████████████████████████████████| 1.0 MB 46.9 MB/s \n",
            "\u001b[?25hRequirement already satisfied: zict>=0.1.3 in /usr/local/lib/python3.7/dist-packages (from distributed>=2.6.0->autogluon.core==0.3.1->autogluon.tabular[all]) (2.0.0)\n",
            "Collecting fsspec>=0.6.0\n",
            "  Downloading fsspec-2021.10.0-py3-none-any.whl (125 kB)\n",
            "\u001b[K     |████████████████████████████████| 125 kB 50.2 MB/s \n",
            "\u001b[?25hCollecting partd>=0.3.10\n",
            "  Downloading partd-1.2.0-py3-none-any.whl (19 kB)\n",
            "Requirement already satisfied: packaging>=20.0 in /usr/local/lib/python3.7/dist-packages (from dask>=2.6.0->autogluon.core==0.3.1->autogluon.tabular[all]) (21.0)\n",
            "Requirement already satisfied: pillow>6.0.0 in /usr/local/lib/python3.7/dist-packages (from fastai<3.0,>=2.3.1->autogluon.tabular[all]) (7.1.2)\n",
            "Requirement already satisfied: spacy<4 in /usr/local/lib/python3.7/dist-packages (from fastai<3.0,>=2.3.1->autogluon.tabular[all]) (2.2.4)\n",
            "Requirement already satisfied: torchvision>=0.8.2 in /usr/local/lib/python3.7/dist-packages (from fastai<3.0,>=2.3.1->autogluon.tabular[all]) (0.10.0+cu111)\n",
            "Collecting fastcore<1.4,>=1.3.8\n",
            "  Downloading fastcore-1.3.26-py3-none-any.whl (56 kB)\n",
            "\u001b[K     |████████████████████████████████| 56 kB 3.9 MB/s \n",
            "\u001b[?25hCollecting fastdownload<2,>=0.0.5\n",
            "  Downloading fastdownload-0.0.5-py3-none-any.whl (13 kB)\n",
            "Requirement already satisfied: fastprogress>=0.2.4 in /usr/local/lib/python3.7/dist-packages (from fastai<3.0,>=2.3.1->autogluon.tabular[all]) (1.0.0)\n",
            "Requirement already satisfied: pip in /usr/local/lib/python3.7/dist-packages (from fastai<3.0,>=2.3.1->autogluon.tabular[all]) (21.1.3)\n",
            "Requirement already satisfied: wheel in /usr/local/lib/python3.7/dist-packages (from lightgbm<4.0,>=3.0->autogluon.tabular[all]) (0.37.0)\n",
            "Requirement already satisfied: python-dateutil>=2.7.3 in /usr/local/lib/python3.7/dist-packages (from pandas<2.0,>=1.0.0->autogluon.tabular[all]) (2.8.2)\n",
            "Requirement already satisfied: pytz>=2017.2 in /usr/local/lib/python3.7/dist-packages (from pandas<2.0,>=1.0.0->autogluon.tabular[all]) (2018.9)\n",
            "Collecting bcrypt>=3.1.3\n",
            "  Downloading bcrypt-3.2.0-cp36-abi3-manylinux2010_x86_64.whl (63 kB)\n",
            "\u001b[K     |████████████████████████████████| 63 kB 2.4 MB/s \n",
            "\u001b[?25hCollecting pynacl>=1.0.1\n",
            "  Downloading PyNaCl-1.4.0-cp35-abi3-manylinux1_x86_64.whl (961 kB)\n",
            "\u001b[K     |████████████████████████████████| 961 kB 50.0 MB/s \n",
            "\u001b[?25hCollecting cryptography>=2.5\n",
            "  Downloading cryptography-35.0.0-cp36-abi3-manylinux_2_24_x86_64.whl (3.5 MB)\n",
            "\u001b[K     |████████████████████████████████| 3.5 MB 18.7 MB/s \n",
            "\u001b[?25hRequirement already satisfied: cffi>=1.1 in /usr/local/lib/python3.7/dist-packages (from bcrypt>=3.1.3->paramiko>=2.4->autogluon.core==0.3.1->autogluon.tabular[all]) (1.14.6)\n",
            "Requirement already satisfied: pycparser in /usr/local/lib/python3.7/dist-packages (from cffi>=1.1->bcrypt>=3.1.3->paramiko>=2.4->autogluon.core==0.3.1->autogluon.tabular[all]) (2.20)\n",
            "Collecting locket\n",
            "  Downloading locket-0.2.1-py2.py3-none-any.whl (4.1 kB)\n",
            "Collecting threadpoolctl>=2.0.0\n",
            "  Downloading threadpoolctl-3.0.0-py3-none-any.whl (14 kB)\n",
            "Requirement already satisfied: joblib>=0.11 in /usr/local/lib/python3.7/dist-packages (from scikit-learn<0.25,>=0.23.2->autogluon.tabular[all]) (1.0.1)\n",
            "Requirement already satisfied: plac<1.2.0,>=0.9.6 in /usr/local/lib/python3.7/dist-packages (from spacy<4->fastai<3.0,>=2.3.1->autogluon.tabular[all]) (1.1.3)\n",
            "Requirement already satisfied: srsly<1.1.0,>=1.0.2 in /usr/local/lib/python3.7/dist-packages (from spacy<4->fastai<3.0,>=2.3.1->autogluon.tabular[all]) (1.0.5)\n",
            "Requirement already satisfied: blis<0.5.0,>=0.4.0 in /usr/local/lib/python3.7/dist-packages (from spacy<4->fastai<3.0,>=2.3.1->autogluon.tabular[all]) (0.4.1)\n",
            "Requirement already satisfied: murmurhash<1.1.0,>=0.28.0 in /usr/local/lib/python3.7/dist-packages (from spacy<4->fastai<3.0,>=2.3.1->autogluon.tabular[all]) (1.0.5)\n",
            "Requirement already satisfied: wasabi<1.1.0,>=0.4.0 in /usr/local/lib/python3.7/dist-packages (from spacy<4->fastai<3.0,>=2.3.1->autogluon.tabular[all]) (0.8.2)\n",
            "Requirement already satisfied: catalogue<1.1.0,>=0.0.7 in /usr/local/lib/python3.7/dist-packages (from spacy<4->fastai<3.0,>=2.3.1->autogluon.tabular[all]) (1.0.0)\n",
            "Requirement already satisfied: thinc==7.4.0 in /usr/local/lib/python3.7/dist-packages (from spacy<4->fastai<3.0,>=2.3.1->autogluon.tabular[all]) (7.4.0)\n",
            "Requirement already satisfied: preshed<3.1.0,>=3.0.2 in /usr/local/lib/python3.7/dist-packages (from spacy<4->fastai<3.0,>=2.3.1->autogluon.tabular[all]) (3.0.5)\n",
            "Requirement already satisfied: cymem<2.1.0,>=2.0.2 in /usr/local/lib/python3.7/dist-packages (from spacy<4->fastai<3.0,>=2.3.1->autogluon.tabular[all]) (2.0.5)\n",
            "Requirement already satisfied: importlib-metadata>=0.20 in /usr/local/lib/python3.7/dist-packages (from catalogue<1.1.0,>=0.0.7->spacy<4->fastai<3.0,>=2.3.1->autogluon.tabular[all]) (4.8.1)\n",
            "Requirement already satisfied: typing-extensions>=3.6.4 in /usr/local/lib/python3.7/dist-packages (from importlib-metadata>=0.20->catalogue<1.1.0,>=0.0.7->spacy<4->fastai<3.0,>=2.3.1->autogluon.tabular[all]) (3.7.4.3)\n",
            "Requirement already satisfied: zipp>=0.5 in /usr/local/lib/python3.7/dist-packages (from importlib-metadata>=0.20->catalogue<1.1.0,>=0.0.7->spacy<4->fastai<3.0,>=2.3.1->autogluon.tabular[all]) (3.6.0)\n",
            "Requirement already satisfied: chardet<4,>=3.0.2 in /usr/local/lib/python3.7/dist-packages (from requests->autogluon.core==0.3.1->autogluon.tabular[all]) (3.0.4)\n",
            "Requirement already satisfied: certifi>=2017.4.17 in /usr/local/lib/python3.7/dist-packages (from requests->autogluon.core==0.3.1->autogluon.tabular[all]) (2021.5.30)\n",
            "Requirement already satisfied: idna<3,>=2.5 in /usr/local/lib/python3.7/dist-packages (from requests->autogluon.core==0.3.1->autogluon.tabular[all]) (2.10)\n",
            "Requirement already satisfied: urllib3!=1.25.0,!=1.25.1,<1.26,>=1.21.1 in /usr/local/lib/python3.7/dist-packages (from requests->autogluon.core==0.3.1->autogluon.tabular[all]) (1.24.3)\n",
            "Requirement already satisfied: heapdict in /usr/local/lib/python3.7/dist-packages (from zict>=0.1.3->distributed>=2.6.0->autogluon.core==0.3.1->autogluon.tabular[all]) (1.0.1)\n",
            "Collecting jmespath<1.0.0,>=0.7.1\n",
            "  Downloading jmespath-0.10.0-py2.py3-none-any.whl (24 kB)\n",
            "Collecting botocore<1.22.0,>=1.21.60\n",
            "  Downloading botocore-1.21.60-py3-none-any.whl (8.0 MB)\n",
            "\u001b[K     |████████████████████████████████| 8.0 MB 35.9 MB/s \n",
            "\u001b[?25hCollecting s3transfer<0.6.0,>=0.5.0\n",
            "  Downloading s3transfer-0.5.0-py3-none-any.whl (79 kB)\n",
            "\u001b[K     |████████████████████████████████| 79 kB 8.1 MB/s \n",
            "\u001b[?25hCollecting urllib3!=1.25.0,!=1.25.1,<1.26,>=1.21.1\n",
            "  Downloading urllib3-1.25.11-py2.py3-none-any.whl (127 kB)\n",
            "\u001b[K     |████████████████████████████████| 127 kB 50.5 MB/s \n",
            "\u001b[?25hRequirement already satisfied: MarkupSafe>=0.23 in /usr/local/lib/python3.7/dist-packages (from jinja2->distributed>=2.6.0->autogluon.core==0.3.1->autogluon.tabular[all]) (2.0.1)\n",
            "Requirement already satisfied: cycler>=0.10 in /usr/local/lib/python3.7/dist-packages (from matplotlib->autogluon.core==0.3.1->autogluon.tabular[all]) (0.10.0)\n",
            "Requirement already satisfied: kiwisolver>=1.0.1 in /usr/local/lib/python3.7/dist-packages (from matplotlib->autogluon.core==0.3.1->autogluon.tabular[all]) (1.3.2)\n",
            "Requirement already satisfied: retrying>=1.3.3 in /usr/local/lib/python3.7/dist-packages (from plotly->catboost<0.26,>=0.24.0->autogluon.tabular[all]) (1.3.3)\n",
            "Requirement already satisfied: more-itertools>=4.0.0 in /usr/local/lib/python3.7/dist-packages (from pytest->autogluon.tabular[all]) (8.10.0)\n",
            "Requirement already satisfied: attrs>=17.4.0 in /usr/local/lib/python3.7/dist-packages (from pytest->autogluon.tabular[all]) (21.2.0)\n",
            "Requirement already satisfied: atomicwrites>=1.0 in /usr/local/lib/python3.7/dist-packages (from pytest->autogluon.tabular[all]) (1.4.0)\n",
            "Requirement already satisfied: pluggy<0.8,>=0.5 in /usr/local/lib/python3.7/dist-packages (from pytest->autogluon.tabular[all]) (0.7.1)\n",
            "Requirement already satisfied: py>=1.5.0 in /usr/local/lib/python3.7/dist-packages (from pytest->autogluon.tabular[all]) (1.10.0)\n",
            "Installing collected packages: urllib3, locket, jmespath, partd, fsspec, cloudpickle, botocore, threadpoolctl, scipy, s3transfer, pynacl, psutil, dask, cryptography, bcrypt, scikit-learn, paramiko, distributed, ConfigSpace, boto3, fastcore, autogluon.core, fastdownload, autogluon.features, xgboost, lightgbm, fastai, catboost, autogluon.tabular\n",
            "  Attempting uninstall: urllib3\n",
            "    Found existing installation: urllib3 1.24.3\n",
            "    Uninstalling urllib3-1.24.3:\n",
            "      Successfully uninstalled urllib3-1.24.3\n",
            "  Attempting uninstall: cloudpickle\n",
            "    Found existing installation: cloudpickle 1.3.0\n",
            "    Uninstalling cloudpickle-1.3.0:\n",
            "      Successfully uninstalled cloudpickle-1.3.0\n",
            "  Attempting uninstall: scipy\n",
            "    Found existing installation: scipy 1.4.1\n",
            "    Uninstalling scipy-1.4.1:\n",
            "      Successfully uninstalled scipy-1.4.1\n",
            "  Attempting uninstall: psutil\n",
            "    Found existing installation: psutil 5.4.8\n",
            "    Uninstalling psutil-5.4.8:\n",
            "      Successfully uninstalled psutil-5.4.8\n",
            "  Attempting uninstall: dask\n",
            "    Found existing installation: dask 2.12.0\n",
            "    Uninstalling dask-2.12.0:\n",
            "      Successfully uninstalled dask-2.12.0\n",
            "  Attempting uninstall: scikit-learn\n",
            "    Found existing installation: scikit-learn 0.22.2.post1\n",
            "    Uninstalling scikit-learn-0.22.2.post1:\n",
            "      Successfully uninstalled scikit-learn-0.22.2.post1\n",
            "  Attempting uninstall: distributed\n",
            "    Found existing installation: distributed 1.25.3\n",
            "    Uninstalling distributed-1.25.3:\n",
            "      Successfully uninstalled distributed-1.25.3\n",
            "  Attempting uninstall: xgboost\n",
            "    Found existing installation: xgboost 0.90\n",
            "    Uninstalling xgboost-0.90:\n",
            "      Successfully uninstalled xgboost-0.90\n",
            "  Attempting uninstall: lightgbm\n",
            "    Found existing installation: lightgbm 2.2.3\n",
            "    Uninstalling lightgbm-2.2.3:\n",
            "      Successfully uninstalled lightgbm-2.2.3\n",
            "  Attempting uninstall: fastai\n",
            "    Found existing installation: fastai 1.0.61\n",
            "    Uninstalling fastai-1.0.61:\n",
            "      Successfully uninstalled fastai-1.0.61\n",
            "\u001b[31mERROR: pip's dependency resolver does not currently take into account all the packages that are installed. This behaviour is the source of the following dependency conflicts.\n",
            "gym 0.17.3 requires cloudpickle<1.7.0,>=1.2.0, but you have cloudpickle 2.0.0 which is incompatible.\n",
            "datascience 0.10.6 requires folium==0.2.1, but you have folium 0.8.3 which is incompatible.\n",
            "albumentations 0.1.12 requires imgaug<0.2.7,>=0.2.5, but you have imgaug 0.2.9 which is incompatible.\u001b[0m\n",
            "Successfully installed ConfigSpace-0.4.19 autogluon.core-0.3.1 autogluon.features-0.3.1 autogluon.tabular-0.3.1 bcrypt-3.2.0 boto3-1.18.60 botocore-1.21.60 catboost-0.25.1 cloudpickle-2.0.0 cryptography-35.0.0 dask-2021.9.1 distributed-2021.9.1 fastai-2.5.2 fastcore-1.3.26 fastdownload-0.0.5 fsspec-2021.10.0 jmespath-0.10.0 lightgbm-3.3.0 locket-0.2.1 paramiko-2.8.0 partd-1.2.0 psutil-5.8.0 pynacl-1.4.0 s3transfer-0.5.0 scikit-learn-0.24.2 scipy-1.6.3 threadpoolctl-3.0.0 urllib3-1.25.11 xgboost-1.4.2\n"
          ]
        },
        {
          "output_type": "display_data",
          "data": {
            "application/vnd.colab-display-data+json": {
              "pip_warning": {
                "packages": [
                  "psutil",
                  "scipy",
                  "sklearn"
                ]
              }
            }
          },
          "metadata": {}
        }
      ]
    },
    {
      "cell_type": "code",
      "metadata": {
        "colab": {
          "base_uri": "https://localhost:8080/"
        },
        "id": "dAmCC1UaF7xK",
        "outputId": "0f503f6f-f77b-490f-83c1-5dae75497e78"
      },
      "source": [
        "!pip install delayed"
      ],
      "execution_count": null,
      "outputs": [
        {
          "output_type": "stream",
          "name": "stdout",
          "text": [
            "Collecting delayed\n",
            "  Downloading delayed-0.11.0b1-py2.py3-none-any.whl (19 kB)\n",
            "Collecting redis\n",
            "  Downloading redis-3.5.3-py2.py3-none-any.whl (72 kB)\n",
            "\u001b[K     |████████████████████████████████| 72 kB 459 kB/s \n",
            "\u001b[?25hCollecting hiredis\n",
            "  Downloading hiredis-2.0.0-cp37-cp37m-manylinux2010_x86_64.whl (85 kB)\n",
            "\u001b[K     |████████████████████████████████| 85 kB 3.9 MB/s \n",
            "\u001b[?25hInstalling collected packages: redis, hiredis, delayed\n",
            "Successfully installed delayed-0.11.0b1 hiredis-2.0.0 redis-3.5.3\n"
          ]
        }
      ]
    },
    {
      "cell_type": "code",
      "metadata": {
        "id": "Uel9MM-SCnru"
      },
      "source": [
        "import pandas as pd\n",
        "data = pd.read_csv(\"train.csv\")"
      ],
      "execution_count": null,
      "outputs": []
    },
    {
      "cell_type": "code",
      "metadata": {
        "id": "9CL1VHYXCpuf"
      },
      "source": [
        "from sklearn.model_selection import train_test_split\n",
        "X_train, X_val = train_test_split(data, test_size = 0.1, random_state = 55)"
      ],
      "execution_count": null,
      "outputs": []
    },
    {
      "cell_type": "code",
      "metadata": {
        "colab": {
          "base_uri": "https://localhost:8080/"
        },
        "id": "sZdn2Qy5CRuH",
        "outputId": "fb2fd538-5156-482a-b7f5-de2cb230d9e4"
      },
      "source": [
        "from  autogluon.tabular import TabularPredictor\n",
        "\n",
        "random_state = 55\n",
        "\n",
        "hyperparameters = {\n",
        "    'NN': {'num_epochs': 10},\n",
        "    'GBM': [\n",
        "        {'extra_trees': True, 'seed': random_state, 'ag_args': {'name_suffix': 'XT'}},\n",
        "        {},\n",
        "        'GBMLarge',\n",
        "    ],\n",
        "    'CAT': {'random_seed': random_state},\n",
        "    'XGB': {'seed': random_state},\n",
        "}\n",
        "\n",
        "autogluon_predictor = TabularPredictor(\n",
        "    label = 'Churn',\n",
        "    eval_metric=\"roc_auc\",\n",
        "    learner_kwargs={'ignored_columns': ['id']}\n",
        ").fit(\n",
        "    train_data = data,\n",
        "    hyperparameters=hyperparameters,\n",
        "    presets = 'best_quality'\n",
        ")"
      ],
      "execution_count": null,
      "outputs": [
        {
          "output_type": "stream",
          "name": "stderr",
          "text": [
            "No path specified. Models will be saved in: \"AutogluonModels/ag-20211012_205022/\"\n",
            "Presets specified: ['best_quality']\n",
            "Beginning AutoGluon training ...\n",
            "AutoGluon will save models to \"AutogluonModels/ag-20211012_205022/\"\n",
            "AutoGluon Version:  0.3.1\n",
            "Train Data Rows:    5282\n",
            "Train Data Columns: 19\n",
            "Preprocessing data ...\n",
            "AutoGluon infers your prediction problem is: 'binary' (because only two unique label-values observed).\n",
            "\t2 unique label values:  [0, 1]\n",
            "\tIf 'binary' is not the correct problem_type, please manually specify the problem_type argument in fit() (You may specify problem_type as one of: ['binary', 'multiclass', 'regression'])\n",
            "Selected class <--> label mapping:  class 1 = 1, class 0 = 0\n",
            "Using Feature Generators to preprocess the data ...\n",
            "Dropping user-specified ignored columns: ['id']\n",
            "Fitting AutoMLPipelineFeatureGenerator...\n",
            "\tAvailable Memory:                    12733.19 MB\n",
            "\tTrain Data (Original)  Memory Usage: 5.46 MB (0.0% of available memory)\n",
            "\tInferring data type of each feature based on column values. Set feature_metadata_in to manually specify special dtypes of the features.\n",
            "\tStage 1 Generators:\n",
            "\t\tFitting AsTypeFeatureGenerator...\n",
            "\t\t\tNote: Converting 6 features to boolean dtype as they only contain 2 unique values.\n",
            "\tStage 2 Generators:\n",
            "\t\tFitting FillNaFeatureGenerator...\n",
            "\tStage 3 Generators:\n",
            "\t\tFitting IdentityFeatureGenerator...\n",
            "\t\tFitting CategoryFeatureGenerator...\n",
            "\t\t\tFitting CategoryMemoryMinimizeFeatureGenerator...\n",
            "\tStage 4 Generators:\n",
            "\t\tFitting DropUniqueFeatureGenerator...\n",
            "\tTypes of features in original data (raw dtype, special dtypes):\n",
            "\t\t('float', [])  :  1 | ['MonthlySpending']\n",
            "\t\t('int', [])    :  2 | ['ClientPeriod', 'IsSeniorCitizen']\n",
            "\t\t('object', []) : 16 | ['TotalSpent', 'Sex', 'HasPartner', 'HasChild', 'HasPhoneService', ...]\n",
            "\tTypes of features in processed data (raw dtype, special dtypes):\n",
            "\t\t('category', [])  : 11 | ['TotalSpent', 'HasMultiplePhoneNumbers', 'HasInternetService', 'HasOnlineSecurityService', 'HasOnlineBackup', ...]\n",
            "\t\t('float', [])     :  1 | ['MonthlySpending']\n",
            "\t\t('int', [])       :  1 | ['ClientPeriod']\n",
            "\t\t('int', ['bool']) :  6 | ['Sex', 'IsSeniorCitizen', 'HasPartner', 'HasChild', 'HasPhoneService', ...]\n",
            "\t0.3s = Fit runtime\n",
            "\t19 features in original data used to generate 19 features in processed data.\n",
            "\tTrain Data (Processed) Memory Usage: 0.18 MB (0.0% of available memory)\n",
            "Data preprocessing and feature engineering runtime = 0.42s ...\n",
            "AutoGluon will gauge predictive performance using evaluation metric: 'roc_auc'\n",
            "\tThis metric expects predicted probabilities rather than predicted class labels, so you'll need to use predict_proba() instead of predict()\n",
            "\tTo change this, specify the eval_metric argument of fit()\n",
            "AutoGluon will fit 2 stack levels (L1 to L2) ...\n",
            "Fitting 6 L1 models ...\n",
            "Fitting model: LightGBMXT_BAG_L1 ...\n",
            "/usr/local/lib/python3.7/dist-packages/lightgbm/engine.py:240: UserWarning: 'verbose_eval' argument is deprecated and will be removed in a future release of LightGBM. Pass 'log_evaluation()' callback via 'callbacks' argument instead.\n",
            "  _log_warning(\"'verbose_eval' argument is deprecated and will be removed in a future release of LightGBM. \"\n",
            "/usr/local/lib/python3.7/dist-packages/lightgbm/engine.py:240: UserWarning: 'verbose_eval' argument is deprecated and will be removed in a future release of LightGBM. Pass 'log_evaluation()' callback via 'callbacks' argument instead.\n",
            "  _log_warning(\"'verbose_eval' argument is deprecated and will be removed in a future release of LightGBM. \"\n",
            "/usr/local/lib/python3.7/dist-packages/lightgbm/engine.py:240: UserWarning: 'verbose_eval' argument is deprecated and will be removed in a future release of LightGBM. Pass 'log_evaluation()' callback via 'callbacks' argument instead.\n",
            "  _log_warning(\"'verbose_eval' argument is deprecated and will be removed in a future release of LightGBM. \"\n",
            "/usr/local/lib/python3.7/dist-packages/lightgbm/engine.py:240: UserWarning: 'verbose_eval' argument is deprecated and will be removed in a future release of LightGBM. Pass 'log_evaluation()' callback via 'callbacks' argument instead.\n",
            "  _log_warning(\"'verbose_eval' argument is deprecated and will be removed in a future release of LightGBM. \"\n",
            "/usr/local/lib/python3.7/dist-packages/lightgbm/engine.py:240: UserWarning: 'verbose_eval' argument is deprecated and will be removed in a future release of LightGBM. Pass 'log_evaluation()' callback via 'callbacks' argument instead.\n",
            "  _log_warning(\"'verbose_eval' argument is deprecated and will be removed in a future release of LightGBM. \"\n",
            "/usr/local/lib/python3.7/dist-packages/lightgbm/engine.py:240: UserWarning: 'verbose_eval' argument is deprecated and will be removed in a future release of LightGBM. Pass 'log_evaluation()' callback via 'callbacks' argument instead.\n",
            "  _log_warning(\"'verbose_eval' argument is deprecated and will be removed in a future release of LightGBM. \"\n",
            "/usr/local/lib/python3.7/dist-packages/lightgbm/engine.py:240: UserWarning: 'verbose_eval' argument is deprecated and will be removed in a future release of LightGBM. Pass 'log_evaluation()' callback via 'callbacks' argument instead.\n",
            "  _log_warning(\"'verbose_eval' argument is deprecated and will be removed in a future release of LightGBM. \"\n",
            "/usr/local/lib/python3.7/dist-packages/lightgbm/engine.py:240: UserWarning: 'verbose_eval' argument is deprecated and will be removed in a future release of LightGBM. Pass 'log_evaluation()' callback via 'callbacks' argument instead.\n",
            "  _log_warning(\"'verbose_eval' argument is deprecated and will be removed in a future release of LightGBM. \"\n",
            "/usr/local/lib/python3.7/dist-packages/lightgbm/engine.py:240: UserWarning: 'verbose_eval' argument is deprecated and will be removed in a future release of LightGBM. Pass 'log_evaluation()' callback via 'callbacks' argument instead.\n",
            "  _log_warning(\"'verbose_eval' argument is deprecated and will be removed in a future release of LightGBM. \"\n",
            "/usr/local/lib/python3.7/dist-packages/lightgbm/engine.py:240: UserWarning: 'verbose_eval' argument is deprecated and will be removed in a future release of LightGBM. Pass 'log_evaluation()' callback via 'callbacks' argument instead.\n",
            "  _log_warning(\"'verbose_eval' argument is deprecated and will be removed in a future release of LightGBM. \"\n",
            "\t0.8453\t = Validation score   (roc_auc)\n",
            "\t5.46s\t = Training   runtime\n",
            "\t0.25s\t = Validation runtime\n",
            "Fitting model: LightGBM_BAG_L1 ...\n",
            "/usr/local/lib/python3.7/dist-packages/lightgbm/engine.py:240: UserWarning: 'verbose_eval' argument is deprecated and will be removed in a future release of LightGBM. Pass 'log_evaluation()' callback via 'callbacks' argument instead.\n",
            "  _log_warning(\"'verbose_eval' argument is deprecated and will be removed in a future release of LightGBM. \"\n",
            "/usr/local/lib/python3.7/dist-packages/lightgbm/engine.py:240: UserWarning: 'verbose_eval' argument is deprecated and will be removed in a future release of LightGBM. Pass 'log_evaluation()' callback via 'callbacks' argument instead.\n",
            "  _log_warning(\"'verbose_eval' argument is deprecated and will be removed in a future release of LightGBM. \"\n",
            "/usr/local/lib/python3.7/dist-packages/lightgbm/engine.py:240: UserWarning: 'verbose_eval' argument is deprecated and will be removed in a future release of LightGBM. Pass 'log_evaluation()' callback via 'callbacks' argument instead.\n",
            "  _log_warning(\"'verbose_eval' argument is deprecated and will be removed in a future release of LightGBM. \"\n",
            "/usr/local/lib/python3.7/dist-packages/lightgbm/engine.py:240: UserWarning: 'verbose_eval' argument is deprecated and will be removed in a future release of LightGBM. Pass 'log_evaluation()' callback via 'callbacks' argument instead.\n",
            "  _log_warning(\"'verbose_eval' argument is deprecated and will be removed in a future release of LightGBM. \"\n",
            "/usr/local/lib/python3.7/dist-packages/lightgbm/engine.py:240: UserWarning: 'verbose_eval' argument is deprecated and will be removed in a future release of LightGBM. Pass 'log_evaluation()' callback via 'callbacks' argument instead.\n",
            "  _log_warning(\"'verbose_eval' argument is deprecated and will be removed in a future release of LightGBM. \"\n",
            "/usr/local/lib/python3.7/dist-packages/lightgbm/engine.py:240: UserWarning: 'verbose_eval' argument is deprecated and will be removed in a future release of LightGBM. Pass 'log_evaluation()' callback via 'callbacks' argument instead.\n",
            "  _log_warning(\"'verbose_eval' argument is deprecated and will be removed in a future release of LightGBM. \"\n",
            "/usr/local/lib/python3.7/dist-packages/lightgbm/engine.py:240: UserWarning: 'verbose_eval' argument is deprecated and will be removed in a future release of LightGBM. Pass 'log_evaluation()' callback via 'callbacks' argument instead.\n",
            "  _log_warning(\"'verbose_eval' argument is deprecated and will be removed in a future release of LightGBM. \"\n",
            "/usr/local/lib/python3.7/dist-packages/lightgbm/engine.py:240: UserWarning: 'verbose_eval' argument is deprecated and will be removed in a future release of LightGBM. Pass 'log_evaluation()' callback via 'callbacks' argument instead.\n",
            "  _log_warning(\"'verbose_eval' argument is deprecated and will be removed in a future release of LightGBM. \"\n",
            "/usr/local/lib/python3.7/dist-packages/lightgbm/engine.py:240: UserWarning: 'verbose_eval' argument is deprecated and will be removed in a future release of LightGBM. Pass 'log_evaluation()' callback via 'callbacks' argument instead.\n",
            "  _log_warning(\"'verbose_eval' argument is deprecated and will be removed in a future release of LightGBM. \"\n",
            "/usr/local/lib/python3.7/dist-packages/lightgbm/engine.py:240: UserWarning: 'verbose_eval' argument is deprecated and will be removed in a future release of LightGBM. Pass 'log_evaluation()' callback via 'callbacks' argument instead.\n",
            "  _log_warning(\"'verbose_eval' argument is deprecated and will be removed in a future release of LightGBM. \"\n",
            "\t0.8434\t = Validation score   (roc_auc)\n",
            "\t5.05s\t = Training   runtime\n",
            "\t0.21s\t = Validation runtime\n",
            "Fitting model: CatBoost_BAG_L1 ...\n",
            "\t0.848\t = Validation score   (roc_auc)\n",
            "\t59.12s\t = Training   runtime\n",
            "\t0.19s\t = Validation runtime\n",
            "Fitting model: XGBoost_BAG_L1 ...\n",
            "\t0.841\t = Validation score   (roc_auc)\n",
            "\t5.67s\t = Training   runtime\n",
            "\t0.18s\t = Validation runtime\n",
            "Fitting model: NeuralNetMXNet_BAG_L1 ...\n",
            "\tWarning: Exception caused NeuralNetMXNet_BAG_L1 to fail during training (ImportError)... Skipping this model.\n",
            "\t\tUnable to import dependency mxnet. A quick tip is to install via `pip install mxnet --upgrade`, or `pip install mxnet_cu101 --upgrade`\n",
            "Fitting model: LightGBMLarge_BAG_L1 ...\n",
            "/usr/local/lib/python3.7/dist-packages/lightgbm/engine.py:240: UserWarning: 'verbose_eval' argument is deprecated and will be removed in a future release of LightGBM. Pass 'log_evaluation()' callback via 'callbacks' argument instead.\n",
            "  _log_warning(\"'verbose_eval' argument is deprecated and will be removed in a future release of LightGBM. \"\n",
            "/usr/local/lib/python3.7/dist-packages/lightgbm/engine.py:240: UserWarning: 'verbose_eval' argument is deprecated and will be removed in a future release of LightGBM. Pass 'log_evaluation()' callback via 'callbacks' argument instead.\n",
            "  _log_warning(\"'verbose_eval' argument is deprecated and will be removed in a future release of LightGBM. \"\n",
            "/usr/local/lib/python3.7/dist-packages/lightgbm/engine.py:240: UserWarning: 'verbose_eval' argument is deprecated and will be removed in a future release of LightGBM. Pass 'log_evaluation()' callback via 'callbacks' argument instead.\n",
            "  _log_warning(\"'verbose_eval' argument is deprecated and will be removed in a future release of LightGBM. \"\n",
            "/usr/local/lib/python3.7/dist-packages/lightgbm/engine.py:240: UserWarning: 'verbose_eval' argument is deprecated and will be removed in a future release of LightGBM. Pass 'log_evaluation()' callback via 'callbacks' argument instead.\n",
            "  _log_warning(\"'verbose_eval' argument is deprecated and will be removed in a future release of LightGBM. \"\n",
            "/usr/local/lib/python3.7/dist-packages/lightgbm/engine.py:240: UserWarning: 'verbose_eval' argument is deprecated and will be removed in a future release of LightGBM. Pass 'log_evaluation()' callback via 'callbacks' argument instead.\n",
            "  _log_warning(\"'verbose_eval' argument is deprecated and will be removed in a future release of LightGBM. \"\n",
            "/usr/local/lib/python3.7/dist-packages/lightgbm/engine.py:240: UserWarning: 'verbose_eval' argument is deprecated and will be removed in a future release of LightGBM. Pass 'log_evaluation()' callback via 'callbacks' argument instead.\n",
            "  _log_warning(\"'verbose_eval' argument is deprecated and will be removed in a future release of LightGBM. \"\n",
            "/usr/local/lib/python3.7/dist-packages/lightgbm/engine.py:240: UserWarning: 'verbose_eval' argument is deprecated and will be removed in a future release of LightGBM. Pass 'log_evaluation()' callback via 'callbacks' argument instead.\n",
            "  _log_warning(\"'verbose_eval' argument is deprecated and will be removed in a future release of LightGBM. \"\n",
            "/usr/local/lib/python3.7/dist-packages/lightgbm/engine.py:240: UserWarning: 'verbose_eval' argument is deprecated and will be removed in a future release of LightGBM. Pass 'log_evaluation()' callback via 'callbacks' argument instead.\n",
            "  _log_warning(\"'verbose_eval' argument is deprecated and will be removed in a future release of LightGBM. \"\n",
            "/usr/local/lib/python3.7/dist-packages/lightgbm/engine.py:240: UserWarning: 'verbose_eval' argument is deprecated and will be removed in a future release of LightGBM. Pass 'log_evaluation()' callback via 'callbacks' argument instead.\n",
            "  _log_warning(\"'verbose_eval' argument is deprecated and will be removed in a future release of LightGBM. \"\n",
            "/usr/local/lib/python3.7/dist-packages/lightgbm/engine.py:240: UserWarning: 'verbose_eval' argument is deprecated and will be removed in a future release of LightGBM. Pass 'log_evaluation()' callback via 'callbacks' argument instead.\n",
            "  _log_warning(\"'verbose_eval' argument is deprecated and will be removed in a future release of LightGBM. \"\n",
            "\t0.8311\t = Validation score   (roc_auc)\n",
            "\t9.57s\t = Training   runtime\n",
            "\t0.23s\t = Validation runtime\n",
            "Fitting model: WeightedEnsemble_L2 ...\n",
            "\t0.8489\t = Validation score   (roc_auc)\n",
            "\t1.47s\t = Training   runtime\n",
            "\t0.0s\t = Validation runtime\n",
            "Fitting 6 L2 models ...\n",
            "Fitting model: LightGBMXT_BAG_L2 ...\n",
            "/usr/local/lib/python3.7/dist-packages/lightgbm/engine.py:240: UserWarning: 'verbose_eval' argument is deprecated and will be removed in a future release of LightGBM. Pass 'log_evaluation()' callback via 'callbacks' argument instead.\n",
            "  _log_warning(\"'verbose_eval' argument is deprecated and will be removed in a future release of LightGBM. \"\n",
            "/usr/local/lib/python3.7/dist-packages/lightgbm/engine.py:240: UserWarning: 'verbose_eval' argument is deprecated and will be removed in a future release of LightGBM. Pass 'log_evaluation()' callback via 'callbacks' argument instead.\n",
            "  _log_warning(\"'verbose_eval' argument is deprecated and will be removed in a future release of LightGBM. \"\n",
            "/usr/local/lib/python3.7/dist-packages/lightgbm/engine.py:240: UserWarning: 'verbose_eval' argument is deprecated and will be removed in a future release of LightGBM. Pass 'log_evaluation()' callback via 'callbacks' argument instead.\n",
            "  _log_warning(\"'verbose_eval' argument is deprecated and will be removed in a future release of LightGBM. \"\n",
            "/usr/local/lib/python3.7/dist-packages/lightgbm/engine.py:240: UserWarning: 'verbose_eval' argument is deprecated and will be removed in a future release of LightGBM. Pass 'log_evaluation()' callback via 'callbacks' argument instead.\n",
            "  _log_warning(\"'verbose_eval' argument is deprecated and will be removed in a future release of LightGBM. \"\n",
            "/usr/local/lib/python3.7/dist-packages/lightgbm/engine.py:240: UserWarning: 'verbose_eval' argument is deprecated and will be removed in a future release of LightGBM. Pass 'log_evaluation()' callback via 'callbacks' argument instead.\n",
            "  _log_warning(\"'verbose_eval' argument is deprecated and will be removed in a future release of LightGBM. \"\n",
            "/usr/local/lib/python3.7/dist-packages/lightgbm/engine.py:240: UserWarning: 'verbose_eval' argument is deprecated and will be removed in a future release of LightGBM. Pass 'log_evaluation()' callback via 'callbacks' argument instead.\n",
            "  _log_warning(\"'verbose_eval' argument is deprecated and will be removed in a future release of LightGBM. \"\n",
            "/usr/local/lib/python3.7/dist-packages/lightgbm/engine.py:240: UserWarning: 'verbose_eval' argument is deprecated and will be removed in a future release of LightGBM. Pass 'log_evaluation()' callback via 'callbacks' argument instead.\n",
            "  _log_warning(\"'verbose_eval' argument is deprecated and will be removed in a future release of LightGBM. \"\n",
            "/usr/local/lib/python3.7/dist-packages/lightgbm/engine.py:240: UserWarning: 'verbose_eval' argument is deprecated and will be removed in a future release of LightGBM. Pass 'log_evaluation()' callback via 'callbacks' argument instead.\n",
            "  _log_warning(\"'verbose_eval' argument is deprecated and will be removed in a future release of LightGBM. \"\n",
            "/usr/local/lib/python3.7/dist-packages/lightgbm/engine.py:240: UserWarning: 'verbose_eval' argument is deprecated and will be removed in a future release of LightGBM. Pass 'log_evaluation()' callback via 'callbacks' argument instead.\n",
            "  _log_warning(\"'verbose_eval' argument is deprecated and will be removed in a future release of LightGBM. \"\n",
            "/usr/local/lib/python3.7/dist-packages/lightgbm/engine.py:240: UserWarning: 'verbose_eval' argument is deprecated and will be removed in a future release of LightGBM. Pass 'log_evaluation()' callback via 'callbacks' argument instead.\n",
            "  _log_warning(\"'verbose_eval' argument is deprecated and will be removed in a future release of LightGBM. \"\n",
            "\t0.8425\t = Validation score   (roc_auc)\n",
            "\t6.09s\t = Training   runtime\n",
            "\t0.22s\t = Validation runtime\n",
            "Fitting model: LightGBM_BAG_L2 ...\n",
            "/usr/local/lib/python3.7/dist-packages/lightgbm/engine.py:240: UserWarning: 'verbose_eval' argument is deprecated and will be removed in a future release of LightGBM. Pass 'log_evaluation()' callback via 'callbacks' argument instead.\n",
            "  _log_warning(\"'verbose_eval' argument is deprecated and will be removed in a future release of LightGBM. \"\n",
            "/usr/local/lib/python3.7/dist-packages/lightgbm/engine.py:240: UserWarning: 'verbose_eval' argument is deprecated and will be removed in a future release of LightGBM. Pass 'log_evaluation()' callback via 'callbacks' argument instead.\n",
            "  _log_warning(\"'verbose_eval' argument is deprecated and will be removed in a future release of LightGBM. \"\n",
            "/usr/local/lib/python3.7/dist-packages/lightgbm/engine.py:240: UserWarning: 'verbose_eval' argument is deprecated and will be removed in a future release of LightGBM. Pass 'log_evaluation()' callback via 'callbacks' argument instead.\n",
            "  _log_warning(\"'verbose_eval' argument is deprecated and will be removed in a future release of LightGBM. \"\n",
            "/usr/local/lib/python3.7/dist-packages/lightgbm/engine.py:240: UserWarning: 'verbose_eval' argument is deprecated and will be removed in a future release of LightGBM. Pass 'log_evaluation()' callback via 'callbacks' argument instead.\n",
            "  _log_warning(\"'verbose_eval' argument is deprecated and will be removed in a future release of LightGBM. \"\n",
            "/usr/local/lib/python3.7/dist-packages/lightgbm/engine.py:240: UserWarning: 'verbose_eval' argument is deprecated and will be removed in a future release of LightGBM. Pass 'log_evaluation()' callback via 'callbacks' argument instead.\n",
            "  _log_warning(\"'verbose_eval' argument is deprecated and will be removed in a future release of LightGBM. \"\n",
            "/usr/local/lib/python3.7/dist-packages/lightgbm/engine.py:240: UserWarning: 'verbose_eval' argument is deprecated and will be removed in a future release of LightGBM. Pass 'log_evaluation()' callback via 'callbacks' argument instead.\n",
            "  _log_warning(\"'verbose_eval' argument is deprecated and will be removed in a future release of LightGBM. \"\n",
            "/usr/local/lib/python3.7/dist-packages/lightgbm/engine.py:240: UserWarning: 'verbose_eval' argument is deprecated and will be removed in a future release of LightGBM. Pass 'log_evaluation()' callback via 'callbacks' argument instead.\n",
            "  _log_warning(\"'verbose_eval' argument is deprecated and will be removed in a future release of LightGBM. \"\n",
            "/usr/local/lib/python3.7/dist-packages/lightgbm/engine.py:240: UserWarning: 'verbose_eval' argument is deprecated and will be removed in a future release of LightGBM. Pass 'log_evaluation()' callback via 'callbacks' argument instead.\n",
            "  _log_warning(\"'verbose_eval' argument is deprecated and will be removed in a future release of LightGBM. \"\n",
            "/usr/local/lib/python3.7/dist-packages/lightgbm/engine.py:240: UserWarning: 'verbose_eval' argument is deprecated and will be removed in a future release of LightGBM. Pass 'log_evaluation()' callback via 'callbacks' argument instead.\n",
            "  _log_warning(\"'verbose_eval' argument is deprecated and will be removed in a future release of LightGBM. \"\n",
            "/usr/local/lib/python3.7/dist-packages/lightgbm/engine.py:240: UserWarning: 'verbose_eval' argument is deprecated and will be removed in a future release of LightGBM. Pass 'log_evaluation()' callback via 'callbacks' argument instead.\n",
            "  _log_warning(\"'verbose_eval' argument is deprecated and will be removed in a future release of LightGBM. \"\n",
            "\t0.8428\t = Validation score   (roc_auc)\n",
            "\t5.9s\t = Training   runtime\n",
            "\t0.2s\t = Validation runtime\n",
            "Fitting model: CatBoost_BAG_L2 ...\n",
            "\t0.8475\t = Validation score   (roc_auc)\n",
            "\t68.63s\t = Training   runtime\n",
            "\t0.2s\t = Validation runtime\n",
            "Fitting model: XGBoost_BAG_L2 ...\n",
            "\t0.8411\t = Validation score   (roc_auc)\n",
            "\t8.08s\t = Training   runtime\n",
            "\t0.17s\t = Validation runtime\n",
            "Fitting model: NeuralNetMXNet_BAG_L2 ...\n",
            "\tWarning: Exception caused NeuralNetMXNet_BAG_L2 to fail during training (ImportError)... Skipping this model.\n",
            "\t\tUnable to import dependency mxnet. A quick tip is to install via `pip install mxnet --upgrade`, or `pip install mxnet_cu101 --upgrade`\n",
            "Fitting model: LightGBMLarge_BAG_L2 ...\n",
            "/usr/local/lib/python3.7/dist-packages/lightgbm/engine.py:240: UserWarning: 'verbose_eval' argument is deprecated and will be removed in a future release of LightGBM. Pass 'log_evaluation()' callback via 'callbacks' argument instead.\n",
            "  _log_warning(\"'verbose_eval' argument is deprecated and will be removed in a future release of LightGBM. \"\n",
            "/usr/local/lib/python3.7/dist-packages/lightgbm/engine.py:240: UserWarning: 'verbose_eval' argument is deprecated and will be removed in a future release of LightGBM. Pass 'log_evaluation()' callback via 'callbacks' argument instead.\n",
            "  _log_warning(\"'verbose_eval' argument is deprecated and will be removed in a future release of LightGBM. \"\n",
            "/usr/local/lib/python3.7/dist-packages/lightgbm/engine.py:240: UserWarning: 'verbose_eval' argument is deprecated and will be removed in a future release of LightGBM. Pass 'log_evaluation()' callback via 'callbacks' argument instead.\n",
            "  _log_warning(\"'verbose_eval' argument is deprecated and will be removed in a future release of LightGBM. \"\n",
            "/usr/local/lib/python3.7/dist-packages/lightgbm/engine.py:240: UserWarning: 'verbose_eval' argument is deprecated and will be removed in a future release of LightGBM. Pass 'log_evaluation()' callback via 'callbacks' argument instead.\n",
            "  _log_warning(\"'verbose_eval' argument is deprecated and will be removed in a future release of LightGBM. \"\n",
            "/usr/local/lib/python3.7/dist-packages/lightgbm/engine.py:240: UserWarning: 'verbose_eval' argument is deprecated and will be removed in a future release of LightGBM. Pass 'log_evaluation()' callback via 'callbacks' argument instead.\n",
            "  _log_warning(\"'verbose_eval' argument is deprecated and will be removed in a future release of LightGBM. \"\n",
            "/usr/local/lib/python3.7/dist-packages/lightgbm/engine.py:240: UserWarning: 'verbose_eval' argument is deprecated and will be removed in a future release of LightGBM. Pass 'log_evaluation()' callback via 'callbacks' argument instead.\n",
            "  _log_warning(\"'verbose_eval' argument is deprecated and will be removed in a future release of LightGBM. \"\n",
            "/usr/local/lib/python3.7/dist-packages/lightgbm/engine.py:240: UserWarning: 'verbose_eval' argument is deprecated and will be removed in a future release of LightGBM. Pass 'log_evaluation()' callback via 'callbacks' argument instead.\n",
            "  _log_warning(\"'verbose_eval' argument is deprecated and will be removed in a future release of LightGBM. \"\n",
            "/usr/local/lib/python3.7/dist-packages/lightgbm/engine.py:240: UserWarning: 'verbose_eval' argument is deprecated and will be removed in a future release of LightGBM. Pass 'log_evaluation()' callback via 'callbacks' argument instead.\n",
            "  _log_warning(\"'verbose_eval' argument is deprecated and will be removed in a future release of LightGBM. \"\n",
            "/usr/local/lib/python3.7/dist-packages/lightgbm/engine.py:240: UserWarning: 'verbose_eval' argument is deprecated and will be removed in a future release of LightGBM. Pass 'log_evaluation()' callback via 'callbacks' argument instead.\n",
            "  _log_warning(\"'verbose_eval' argument is deprecated and will be removed in a future release of LightGBM. \"\n",
            "/usr/local/lib/python3.7/dist-packages/lightgbm/engine.py:240: UserWarning: 'verbose_eval' argument is deprecated and will be removed in a future release of LightGBM. Pass 'log_evaluation()' callback via 'callbacks' argument instead.\n",
            "  _log_warning(\"'verbose_eval' argument is deprecated and will be removed in a future release of LightGBM. \"\n",
            "\t0.8353\t = Validation score   (roc_auc)\n",
            "\t13.28s\t = Training   runtime\n",
            "\t0.22s\t = Validation runtime\n",
            "Fitting model: WeightedEnsemble_L3 ...\n",
            "\t0.848\t = Validation score   (roc_auc)\n",
            "\t1.47s\t = Training   runtime\n",
            "\t0.0s\t = Validation runtime\n",
            "AutoGluon training complete, total runtime = 195.22s ...\n",
            "TabularPredictor saved. To load, use: predictor = TabularPredictor.load(\"AutogluonModels/ag-20211012_205022/\")\n"
          ]
        }
      ]
    },
    {
      "cell_type": "code",
      "metadata": {
        "colab": {
          "base_uri": "https://localhost:8080/"
        },
        "id": "5Uksocu7DLj6",
        "outputId": "d2fdc748-96db-4fc3-84fb-0538cb99c2f4"
      },
      "source": [
        "leaderboard = autogluon_predictor.leaderboard(X_val)"
      ],
      "execution_count": null,
      "outputs": [
        {
          "output_type": "stream",
          "name": "stdout",
          "text": [
            "                   model  score_test  score_val  pred_time_test  pred_time_val    fit_time  pred_time_test_marginal  pred_time_val_marginal  fit_time_marginal  stack_level  can_infer  fit_order\n",
            "0   LightGBMLarge_BAG_L1    0.963068   0.831120        0.312531       0.231018    9.569868                 0.312531                0.231018           9.569868            1       True          5\n",
            "1         XGBoost_BAG_L1    0.895298   0.840954        0.523230       0.180186    5.673973                 0.523230                0.180186           5.673973            1       True          4\n",
            "2        LightGBM_BAG_L1    0.890170   0.843365        0.250852       0.211834    5.046877                 0.250852                0.211834           5.046877            1       True          2\n",
            "3      LightGBMXT_BAG_L2    0.871173   0.842491        1.657568       1.286707   90.963415                 0.250440                0.219426           6.085770            2       True          7\n",
            "4      LightGBMXT_BAG_L1    0.868297   0.845265        0.241288       0.252692    5.462422                 0.241288                0.252692           5.462422            1       True          1\n",
            "5    WeightedEnsemble_L2    0.864050   0.848917        0.575547       0.659047   71.103593                 0.004179                0.002968           1.469789            2       True          6\n",
            "6        LightGBM_BAG_L2    0.858109   0.842841        1.629003       1.268216   90.780025                 0.221875                0.200934           5.902380            2       True          8\n",
            "7    WeightedEnsemble_L3    0.857972   0.847955        2.546282       1.868075  182.232429                 0.004600                0.003025           1.465731            3       True         12\n",
            "8         XGBoost_BAG_L2    0.857886   0.841133        1.943311       1.238384   92.957710                 0.536182                0.171103           8.080065            2       True         10\n",
            "9   LightGBMLarge_BAG_L2    0.857510   0.835310        1.709520       1.291190   98.155297                 0.302392                0.223908          13.277652            2       True         11\n",
            "10       CatBoost_BAG_L2    0.856808   0.847531        1.481233       1.269105  153.506601                 0.074104                0.201823          68.628956            2       True          9\n",
            "11       CatBoost_BAG_L1    0.852031   0.848008        0.079228       0.191553   59.124505                 0.079228                0.191553          59.124505            1       True          3\n"
          ]
        }
      ]
    },
    {
      "cell_type": "code",
      "metadata": {
        "colab": {
          "base_uri": "https://localhost:8080/",
          "height": 441
        },
        "id": "_0rzt7aoDRPn",
        "outputId": "81a84476-a1c9-42f8-e798-763f01ffa6f8"
      },
      "source": [
        "leaderboard"
      ],
      "execution_count": null,
      "outputs": [
        {
          "output_type": "execute_result",
          "data": {
            "text/html": [
              "<div>\n",
              "<style scoped>\n",
              "    .dataframe tbody tr th:only-of-type {\n",
              "        vertical-align: middle;\n",
              "    }\n",
              "\n",
              "    .dataframe tbody tr th {\n",
              "        vertical-align: top;\n",
              "    }\n",
              "\n",
              "    .dataframe thead th {\n",
              "        text-align: right;\n",
              "    }\n",
              "</style>\n",
              "<table border=\"1\" class=\"dataframe\">\n",
              "  <thead>\n",
              "    <tr style=\"text-align: right;\">\n",
              "      <th></th>\n",
              "      <th>model</th>\n",
              "      <th>score_test</th>\n",
              "      <th>score_val</th>\n",
              "      <th>pred_time_test</th>\n",
              "      <th>pred_time_val</th>\n",
              "      <th>fit_time</th>\n",
              "      <th>pred_time_test_marginal</th>\n",
              "      <th>pred_time_val_marginal</th>\n",
              "      <th>fit_time_marginal</th>\n",
              "      <th>stack_level</th>\n",
              "      <th>can_infer</th>\n",
              "      <th>fit_order</th>\n",
              "    </tr>\n",
              "  </thead>\n",
              "  <tbody>\n",
              "    <tr>\n",
              "      <th>0</th>\n",
              "      <td>LightGBMLarge_BAG_L1</td>\n",
              "      <td>0.963068</td>\n",
              "      <td>0.831120</td>\n",
              "      <td>0.312531</td>\n",
              "      <td>0.231018</td>\n",
              "      <td>9.569868</td>\n",
              "      <td>0.312531</td>\n",
              "      <td>0.231018</td>\n",
              "      <td>9.569868</td>\n",
              "      <td>1</td>\n",
              "      <td>True</td>\n",
              "      <td>5</td>\n",
              "    </tr>\n",
              "    <tr>\n",
              "      <th>1</th>\n",
              "      <td>XGBoost_BAG_L1</td>\n",
              "      <td>0.895298</td>\n",
              "      <td>0.840954</td>\n",
              "      <td>0.523230</td>\n",
              "      <td>0.180186</td>\n",
              "      <td>5.673973</td>\n",
              "      <td>0.523230</td>\n",
              "      <td>0.180186</td>\n",
              "      <td>5.673973</td>\n",
              "      <td>1</td>\n",
              "      <td>True</td>\n",
              "      <td>4</td>\n",
              "    </tr>\n",
              "    <tr>\n",
              "      <th>2</th>\n",
              "      <td>LightGBM_BAG_L1</td>\n",
              "      <td>0.890170</td>\n",
              "      <td>0.843365</td>\n",
              "      <td>0.250852</td>\n",
              "      <td>0.211834</td>\n",
              "      <td>5.046877</td>\n",
              "      <td>0.250852</td>\n",
              "      <td>0.211834</td>\n",
              "      <td>5.046877</td>\n",
              "      <td>1</td>\n",
              "      <td>True</td>\n",
              "      <td>2</td>\n",
              "    </tr>\n",
              "    <tr>\n",
              "      <th>3</th>\n",
              "      <td>LightGBMXT_BAG_L2</td>\n",
              "      <td>0.871173</td>\n",
              "      <td>0.842491</td>\n",
              "      <td>1.657568</td>\n",
              "      <td>1.286707</td>\n",
              "      <td>90.963415</td>\n",
              "      <td>0.250440</td>\n",
              "      <td>0.219426</td>\n",
              "      <td>6.085770</td>\n",
              "      <td>2</td>\n",
              "      <td>True</td>\n",
              "      <td>7</td>\n",
              "    </tr>\n",
              "    <tr>\n",
              "      <th>4</th>\n",
              "      <td>LightGBMXT_BAG_L1</td>\n",
              "      <td>0.868297</td>\n",
              "      <td>0.845265</td>\n",
              "      <td>0.241288</td>\n",
              "      <td>0.252692</td>\n",
              "      <td>5.462422</td>\n",
              "      <td>0.241288</td>\n",
              "      <td>0.252692</td>\n",
              "      <td>5.462422</td>\n",
              "      <td>1</td>\n",
              "      <td>True</td>\n",
              "      <td>1</td>\n",
              "    </tr>\n",
              "    <tr>\n",
              "      <th>5</th>\n",
              "      <td>WeightedEnsemble_L2</td>\n",
              "      <td>0.864050</td>\n",
              "      <td>0.848917</td>\n",
              "      <td>0.575547</td>\n",
              "      <td>0.659047</td>\n",
              "      <td>71.103593</td>\n",
              "      <td>0.004179</td>\n",
              "      <td>0.002968</td>\n",
              "      <td>1.469789</td>\n",
              "      <td>2</td>\n",
              "      <td>True</td>\n",
              "      <td>6</td>\n",
              "    </tr>\n",
              "    <tr>\n",
              "      <th>6</th>\n",
              "      <td>LightGBM_BAG_L2</td>\n",
              "      <td>0.858109</td>\n",
              "      <td>0.842841</td>\n",
              "      <td>1.629003</td>\n",
              "      <td>1.268216</td>\n",
              "      <td>90.780025</td>\n",
              "      <td>0.221875</td>\n",
              "      <td>0.200934</td>\n",
              "      <td>5.902380</td>\n",
              "      <td>2</td>\n",
              "      <td>True</td>\n",
              "      <td>8</td>\n",
              "    </tr>\n",
              "    <tr>\n",
              "      <th>7</th>\n",
              "      <td>WeightedEnsemble_L3</td>\n",
              "      <td>0.857972</td>\n",
              "      <td>0.847955</td>\n",
              "      <td>2.546282</td>\n",
              "      <td>1.868075</td>\n",
              "      <td>182.232429</td>\n",
              "      <td>0.004600</td>\n",
              "      <td>0.003025</td>\n",
              "      <td>1.465731</td>\n",
              "      <td>3</td>\n",
              "      <td>True</td>\n",
              "      <td>12</td>\n",
              "    </tr>\n",
              "    <tr>\n",
              "      <th>8</th>\n",
              "      <td>XGBoost_BAG_L2</td>\n",
              "      <td>0.857886</td>\n",
              "      <td>0.841133</td>\n",
              "      <td>1.943311</td>\n",
              "      <td>1.238384</td>\n",
              "      <td>92.957710</td>\n",
              "      <td>0.536182</td>\n",
              "      <td>0.171103</td>\n",
              "      <td>8.080065</td>\n",
              "      <td>2</td>\n",
              "      <td>True</td>\n",
              "      <td>10</td>\n",
              "    </tr>\n",
              "    <tr>\n",
              "      <th>9</th>\n",
              "      <td>LightGBMLarge_BAG_L2</td>\n",
              "      <td>0.857510</td>\n",
              "      <td>0.835310</td>\n",
              "      <td>1.709520</td>\n",
              "      <td>1.291190</td>\n",
              "      <td>98.155297</td>\n",
              "      <td>0.302392</td>\n",
              "      <td>0.223908</td>\n",
              "      <td>13.277652</td>\n",
              "      <td>2</td>\n",
              "      <td>True</td>\n",
              "      <td>11</td>\n",
              "    </tr>\n",
              "    <tr>\n",
              "      <th>10</th>\n",
              "      <td>CatBoost_BAG_L2</td>\n",
              "      <td>0.856808</td>\n",
              "      <td>0.847531</td>\n",
              "      <td>1.481233</td>\n",
              "      <td>1.269105</td>\n",
              "      <td>153.506601</td>\n",
              "      <td>0.074104</td>\n",
              "      <td>0.201823</td>\n",
              "      <td>68.628956</td>\n",
              "      <td>2</td>\n",
              "      <td>True</td>\n",
              "      <td>9</td>\n",
              "    </tr>\n",
              "    <tr>\n",
              "      <th>11</th>\n",
              "      <td>CatBoost_BAG_L1</td>\n",
              "      <td>0.852031</td>\n",
              "      <td>0.848008</td>\n",
              "      <td>0.079228</td>\n",
              "      <td>0.191553</td>\n",
              "      <td>59.124505</td>\n",
              "      <td>0.079228</td>\n",
              "      <td>0.191553</td>\n",
              "      <td>59.124505</td>\n",
              "      <td>1</td>\n",
              "      <td>True</td>\n",
              "      <td>3</td>\n",
              "    </tr>\n",
              "  </tbody>\n",
              "</table>\n",
              "</div>"
            ],
            "text/plain": [
              "                   model  score_test  ...  can_infer  fit_order\n",
              "0   LightGBMLarge_BAG_L1    0.963068  ...       True          5\n",
              "1         XGBoost_BAG_L1    0.895298  ...       True          4\n",
              "2        LightGBM_BAG_L1    0.890170  ...       True          2\n",
              "3      LightGBMXT_BAG_L2    0.871173  ...       True          7\n",
              "4      LightGBMXT_BAG_L1    0.868297  ...       True          1\n",
              "5    WeightedEnsemble_L2    0.864050  ...       True          6\n",
              "6        LightGBM_BAG_L2    0.858109  ...       True          8\n",
              "7    WeightedEnsemble_L3    0.857972  ...       True         12\n",
              "8         XGBoost_BAG_L2    0.857886  ...       True         10\n",
              "9   LightGBMLarge_BAG_L2    0.857510  ...       True         11\n",
              "10       CatBoost_BAG_L2    0.856808  ...       True          9\n",
              "11       CatBoost_BAG_L1    0.852031  ...       True          3\n",
              "\n",
              "[12 rows x 12 columns]"
            ]
          },
          "metadata": {},
          "execution_count": 29
        }
      ]
    },
    {
      "cell_type": "code",
      "metadata": {
        "colab": {
          "base_uri": "https://localhost:8080/",
          "height": 689
        },
        "id": "1ssWo0nODTs8",
        "outputId": "7f27dd59-bfec-4590-b318-9bdbb4c845da"
      },
      "source": [
        "autogluon_predictor.feature_importance(X_val)"
      ],
      "execution_count": null,
      "outputs": [
        {
          "output_type": "stream",
          "name": "stderr",
          "text": [
            "Computing feature importance via permutation shuffling for 19 features using 529 rows with 3 shuffle sets...\n",
            "\t35.14s\t= Expected runtime (11.71s per shuffle set)\n",
            "\t6.9s\t= Actual runtime (Completed 3 of 3 shuffle sets)\n"
          ]
        },
        {
          "output_type": "execute_result",
          "data": {
            "text/html": [
              "<div>\n",
              "<style scoped>\n",
              "    .dataframe tbody tr th:only-of-type {\n",
              "        vertical-align: middle;\n",
              "    }\n",
              "\n",
              "    .dataframe tbody tr th {\n",
              "        vertical-align: top;\n",
              "    }\n",
              "\n",
              "    .dataframe thead th {\n",
              "        text-align: right;\n",
              "    }\n",
              "</style>\n",
              "<table border=\"1\" class=\"dataframe\">\n",
              "  <thead>\n",
              "    <tr style=\"text-align: right;\">\n",
              "      <th></th>\n",
              "      <th>importance</th>\n",
              "      <th>stddev</th>\n",
              "      <th>p_value</th>\n",
              "      <th>n</th>\n",
              "      <th>p99_high</th>\n",
              "      <th>p99_low</th>\n",
              "    </tr>\n",
              "  </thead>\n",
              "  <tbody>\n",
              "    <tr>\n",
              "      <th>ClientPeriod</th>\n",
              "      <td>0.109884</td>\n",
              "      <td>0.013513</td>\n",
              "      <td>0.002502</td>\n",
              "      <td>3</td>\n",
              "      <td>0.187317</td>\n",
              "      <td>0.032451</td>\n",
              "    </tr>\n",
              "    <tr>\n",
              "      <th>HasContractPhone</th>\n",
              "      <td>0.079669</td>\n",
              "      <td>0.014767</td>\n",
              "      <td>0.005629</td>\n",
              "      <td>3</td>\n",
              "      <td>0.164284</td>\n",
              "      <td>-0.004946</td>\n",
              "    </tr>\n",
              "    <tr>\n",
              "      <th>PaymentMethod</th>\n",
              "      <td>0.012299</td>\n",
              "      <td>0.003629</td>\n",
              "      <td>0.013910</td>\n",
              "      <td>3</td>\n",
              "      <td>0.033097</td>\n",
              "      <td>-0.008498</td>\n",
              "    </tr>\n",
              "    <tr>\n",
              "      <th>HasMultiplePhoneNumbers</th>\n",
              "      <td>0.006849</td>\n",
              "      <td>0.001616</td>\n",
              "      <td>0.009032</td>\n",
              "      <td>3</td>\n",
              "      <td>0.016110</td>\n",
              "      <td>-0.002413</td>\n",
              "    </tr>\n",
              "    <tr>\n",
              "      <th>MonthlySpending</th>\n",
              "      <td>0.006775</td>\n",
              "      <td>0.002137</td>\n",
              "      <td>0.015807</td>\n",
              "      <td>3</td>\n",
              "      <td>0.019022</td>\n",
              "      <td>-0.005473</td>\n",
              "    </tr>\n",
              "    <tr>\n",
              "      <th>HasTechSupportAccess</th>\n",
              "      <td>0.006689</td>\n",
              "      <td>0.000985</td>\n",
              "      <td>0.003576</td>\n",
              "      <td>3</td>\n",
              "      <td>0.012334</td>\n",
              "      <td>0.001044</td>\n",
              "    </tr>\n",
              "    <tr>\n",
              "      <th>TotalSpent</th>\n",
              "      <td>0.004820</td>\n",
              "      <td>0.000506</td>\n",
              "      <td>0.001826</td>\n",
              "      <td>3</td>\n",
              "      <td>0.007719</td>\n",
              "      <td>0.001921</td>\n",
              "    </tr>\n",
              "    <tr>\n",
              "      <th>HasInternetService</th>\n",
              "      <td>0.004612</td>\n",
              "      <td>0.006062</td>\n",
              "      <td>0.159166</td>\n",
              "      <td>3</td>\n",
              "      <td>0.039349</td>\n",
              "      <td>-0.030126</td>\n",
              "    </tr>\n",
              "    <tr>\n",
              "      <th>Sex</th>\n",
              "      <td>0.003950</td>\n",
              "      <td>0.000335</td>\n",
              "      <td>0.001193</td>\n",
              "      <td>3</td>\n",
              "      <td>0.005868</td>\n",
              "      <td>0.002031</td>\n",
              "    </tr>\n",
              "    <tr>\n",
              "      <th>HasOnlineBackup</th>\n",
              "      <td>0.003795</td>\n",
              "      <td>0.001446</td>\n",
              "      <td>0.022558</td>\n",
              "      <td>3</td>\n",
              "      <td>0.012079</td>\n",
              "      <td>-0.004489</td>\n",
              "    </tr>\n",
              "    <tr>\n",
              "      <th>HasOnlineSecurityService</th>\n",
              "      <td>0.003693</td>\n",
              "      <td>0.002950</td>\n",
              "      <td>0.081228</td>\n",
              "      <td>3</td>\n",
              "      <td>0.020598</td>\n",
              "      <td>-0.013213</td>\n",
              "    </tr>\n",
              "    <tr>\n",
              "      <th>IsBillingPaperless</th>\n",
              "      <td>0.003453</td>\n",
              "      <td>0.002836</td>\n",
              "      <td>0.084713</td>\n",
              "      <td>3</td>\n",
              "      <td>0.019701</td>\n",
              "      <td>-0.012795</td>\n",
              "    </tr>\n",
              "    <tr>\n",
              "      <th>HasDeviceProtection</th>\n",
              "      <td>0.002837</td>\n",
              "      <td>0.000368</td>\n",
              "      <td>0.002784</td>\n",
              "      <td>3</td>\n",
              "      <td>0.004946</td>\n",
              "      <td>0.000727</td>\n",
              "    </tr>\n",
              "    <tr>\n",
              "      <th>HasChild</th>\n",
              "      <td>0.002791</td>\n",
              "      <td>0.000134</td>\n",
              "      <td>0.000382</td>\n",
              "      <td>3</td>\n",
              "      <td>0.003557</td>\n",
              "      <td>0.002025</td>\n",
              "    </tr>\n",
              "    <tr>\n",
              "      <th>HasMovieSubscription</th>\n",
              "      <td>0.002351</td>\n",
              "      <td>0.001580</td>\n",
              "      <td>0.061609</td>\n",
              "      <td>3</td>\n",
              "      <td>0.011402</td>\n",
              "      <td>-0.006700</td>\n",
              "    </tr>\n",
              "    <tr>\n",
              "      <th>HasOnlineTV</th>\n",
              "      <td>0.002329</td>\n",
              "      <td>0.001204</td>\n",
              "      <td>0.039340</td>\n",
              "      <td>3</td>\n",
              "      <td>0.009225</td>\n",
              "      <td>-0.004568</td>\n",
              "    </tr>\n",
              "    <tr>\n",
              "      <th>HasPartner</th>\n",
              "      <td>0.001946</td>\n",
              "      <td>0.000055</td>\n",
              "      <td>0.000133</td>\n",
              "      <td>3</td>\n",
              "      <td>0.002262</td>\n",
              "      <td>0.001631</td>\n",
              "    </tr>\n",
              "    <tr>\n",
              "      <th>IsSeniorCitizen</th>\n",
              "      <td>0.001347</td>\n",
              "      <td>0.000748</td>\n",
              "      <td>0.044581</td>\n",
              "      <td>3</td>\n",
              "      <td>0.005631</td>\n",
              "      <td>-0.002937</td>\n",
              "    </tr>\n",
              "    <tr>\n",
              "      <th>HasPhoneService</th>\n",
              "      <td>0.001273</td>\n",
              "      <td>0.000154</td>\n",
              "      <td>0.002435</td>\n",
              "      <td>3</td>\n",
              "      <td>0.002158</td>\n",
              "      <td>0.000388</td>\n",
              "    </tr>\n",
              "  </tbody>\n",
              "</table>\n",
              "</div>"
            ],
            "text/plain": [
              "                          importance    stddev   p_value  n  p99_high   p99_low\n",
              "ClientPeriod                0.109884  0.013513  0.002502  3  0.187317  0.032451\n",
              "HasContractPhone            0.079669  0.014767  0.005629  3  0.164284 -0.004946\n",
              "PaymentMethod               0.012299  0.003629  0.013910  3  0.033097 -0.008498\n",
              "HasMultiplePhoneNumbers     0.006849  0.001616  0.009032  3  0.016110 -0.002413\n",
              "MonthlySpending             0.006775  0.002137  0.015807  3  0.019022 -0.005473\n",
              "HasTechSupportAccess        0.006689  0.000985  0.003576  3  0.012334  0.001044\n",
              "TotalSpent                  0.004820  0.000506  0.001826  3  0.007719  0.001921\n",
              "HasInternetService          0.004612  0.006062  0.159166  3  0.039349 -0.030126\n",
              "Sex                         0.003950  0.000335  0.001193  3  0.005868  0.002031\n",
              "HasOnlineBackup             0.003795  0.001446  0.022558  3  0.012079 -0.004489\n",
              "HasOnlineSecurityService    0.003693  0.002950  0.081228  3  0.020598 -0.013213\n",
              "IsBillingPaperless          0.003453  0.002836  0.084713  3  0.019701 -0.012795\n",
              "HasDeviceProtection         0.002837  0.000368  0.002784  3  0.004946  0.000727\n",
              "HasChild                    0.002791  0.000134  0.000382  3  0.003557  0.002025\n",
              "HasMovieSubscription        0.002351  0.001580  0.061609  3  0.011402 -0.006700\n",
              "HasOnlineTV                 0.002329  0.001204  0.039340  3  0.009225 -0.004568\n",
              "HasPartner                  0.001946  0.000055  0.000133  3  0.002262  0.001631\n",
              "IsSeniorCitizen             0.001347  0.000748  0.044581  3  0.005631 -0.002937\n",
              "HasPhoneService             0.001273  0.000154  0.002435  3  0.002158  0.000388"
            ]
          },
          "metadata": {},
          "execution_count": 37
        }
      ]
    },
    {
      "cell_type": "code",
      "metadata": {
        "id": "mCGCko_DDWvj"
      },
      "source": [
        "test_data = pd.read_csv(\"test.csv\")"
      ],
      "execution_count": null,
      "outputs": []
    },
    {
      "cell_type": "code",
      "metadata": {
        "id": "z9yxM3OpDW9q"
      },
      "source": [
        "predictions = autogluon_predictor.predict_proba(test_data)"
      ],
      "execution_count": null,
      "outputs": []
    },
    {
      "cell_type": "code",
      "metadata": {
        "id": "R5wPHK8lDdE1"
      },
      "source": [
        "submit = pd.read_csv(\"submission.csv\")"
      ],
      "execution_count": null,
      "outputs": []
    },
    {
      "cell_type": "code",
      "metadata": {
        "colab": {
          "base_uri": "https://localhost:8080/"
        },
        "id": "pWrZzW8iJliU",
        "outputId": "e5e15b05-c539-4f2f-910f-ae66b32c73a2"
      },
      "source": [
        "predictions.iloc[:, 1]"
      ],
      "execution_count": null,
      "outputs": [
        {
          "output_type": "execute_result",
          "data": {
            "text/plain": [
              "0       0.050078\n",
              "1       0.673095\n",
              "2       0.639743\n",
              "3       0.019725\n",
              "4       0.012005\n",
              "          ...   \n",
              "1756    0.150938\n",
              "1757    0.017809\n",
              "1758    0.823612\n",
              "1759    0.570511\n",
              "1760    0.018176\n",
              "Name: 1, Length: 1761, dtype: float64"
            ]
          },
          "metadata": {},
          "execution_count": 41
        }
      ]
    },
    {
      "cell_type": "code",
      "metadata": {
        "id": "AAJgNd9eJfb7"
      },
      "source": [
        "submit.Churn = predictions.iloc[:, 1]"
      ],
      "execution_count": null,
      "outputs": []
    },
    {
      "cell_type": "code",
      "metadata": {
        "id": "8gtDMOLCJ0-z"
      },
      "source": [
        "submit.to_csv(\"submit.csv\", index = False)"
      ],
      "execution_count": null,
      "outputs": []
    }
  ]
}