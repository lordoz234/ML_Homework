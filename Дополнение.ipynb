{
  "nbformat": 4,
  "nbformat_minor": 0,
  "metadata": {
    "colab": {
      "name": "Untitled70.ipynb",
      "provenance": [],
      "collapsed_sections": [],
      "authorship_tag": "ABX9TyOJ3LEUpzyzQ++y0uQyOWqY",
      "include_colab_link": true
    },
    "kernelspec": {
      "name": "python3",
      "display_name": "Python 3"
    },
    "language_info": {
      "name": "python"
    }
  },
  "cells": [
    {
      "cell_type": "markdown",
      "metadata": {
        "id": "view-in-github",
        "colab_type": "text"
      },
      "source": [
        "<a href=\"https://colab.research.google.com/github/lordoz234/ML_Homework/blob/main/%D0%94%D0%BE%D0%BF%D0%BE%D0%BB%D0%BD%D0%B5%D0%BD%D0%B8%D0%B5.ipynb\" target=\"_parent\"><img src=\"https://colab.research.google.com/assets/colab-badge.svg\" alt=\"Open In Colab\"/></a>"
      ]
    },
    {
      "cell_type": "code",
      "execution_count": 31,
      "metadata": {
        "id": "oU1Qbn-vYLGE"
      },
      "outputs": [],
      "source": [
        "import numpy as np\n",
        "import pandas as pd\n",
        "from matplotlib import pyplot as plt\n",
        "%matplotlib inline\n",
        "from tqdm import tqdm_notebook  \n",
        "from sklearn import preprocessing\n",
        "import warnings\n",
        "warnings.filterwarnings('ignore')"
      ]
    },
    {
      "cell_type": "code",
      "source": [
        "from google.colab import files\n",
        "\n",
        "files.upload()"
      ],
      "metadata": {
        "colab": {
          "resources": {
            "http://localhost:8080/nbextensions/google.colab/files.js": {
              "data": "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",
              "ok": true,
              "headers": [
                [
                  "content-type",
                  "application/javascript"
                ]
              ],
              "status": 200,
              "status_text": ""
            }
          },
          "base_uri": "https://localhost:8080/",
          "height": 91
        },
        "id": "--KLki7cYNPD",
        "outputId": "d379fa9f-8697-46f6-c756-ec277d56bd04"
      },
      "execution_count": 32,
      "outputs": [
        {
          "output_type": "display_data",
          "data": {
            "text/html": [
              "\n",
              "     <input type=\"file\" id=\"files-19a25809-3175-4e72-9595-5a53ef0a1610\" name=\"files[]\" multiple disabled\n",
              "        style=\"border:none\" />\n",
              "     <output id=\"result-19a25809-3175-4e72-9595-5a53ef0a1610\">\n",
              "      Upload widget is only available when the cell has been executed in the\n",
              "      current browser session. Please rerun this cell to enable.\n",
              "      </output>\n",
              "      <script src=\"/nbextensions/google.colab/files.js\"></script> "
            ],
            "text/plain": [
              "<IPython.core.display.HTML object>"
            ]
          },
          "metadata": {}
        },
        {
          "output_type": "stream",
          "name": "stdout",
          "text": [
            "Saving kaggle.json to kaggle (2).json\n"
          ]
        },
        {
          "output_type": "execute_result",
          "data": {
            "text/plain": [
              "{'kaggle.json': b'{\"username\":\"lordozvlad\",\"key\":\"fe816606c5617e40ec838a122df91cae\"}'}"
            ]
          },
          "metadata": {},
          "execution_count": 32
        }
      ]
    },
    {
      "cell_type": "code",
      "source": [
        "! mkdir ~/.kaggle"
      ],
      "metadata": {
        "id": "dYIPC1bVYPlv",
        "colab": {
          "base_uri": "https://localhost:8080/"
        },
        "outputId": "00643bad-cf32-4fb8-817f-3498760691b5"
      },
      "execution_count": 33,
      "outputs": [
        {
          "output_type": "stream",
          "name": "stdout",
          "text": [
            "mkdir: cannot create directory ‘/root/.kaggle’: File exists\n"
          ]
        }
      ]
    },
    {
      "cell_type": "code",
      "source": [
        "! cp kaggle.json ~/.kaggle/"
      ],
      "metadata": {
        "id": "AK9aB2uAYSH_"
      },
      "execution_count": 34,
      "outputs": []
    },
    {
      "cell_type": "code",
      "source": [
        "! chmod 600 ~/.kaggle/kaggle.json"
      ],
      "metadata": {
        "id": "zYeycm5pYTX_"
      },
      "execution_count": 35,
      "outputs": []
    },
    {
      "cell_type": "code",
      "source": [
        "!kaggle competitions download -c advanced-dls-spring-2021"
      ],
      "metadata": {
        "colab": {
          "base_uri": "https://localhost:8080/"
        },
        "id": "u9xPhNIqYUZL",
        "outputId": "f4181a47-aee9-4cb6-e6b2-c2d71f9210cf"
      },
      "execution_count": 36,
      "outputs": [
        {
          "output_type": "stream",
          "name": "stdout",
          "text": [
            "Warning: Looks like you're using an outdated API Version, please consider updating (server 1.5.12 / client 1.5.4)\n",
            "train.csv: Skipping, found more recently modified local copy (use --force to force download)\n",
            "submission.csv: Skipping, found more recently modified local copy (use --force to force download)\n",
            "test.csv: Skipping, found more recently modified local copy (use --force to force download)\n"
          ]
        }
      ]
    },
    {
      "cell_type": "code",
      "source": [
        "data = pd.read_csv(\"train.csv\")"
      ],
      "metadata": {
        "id": "c1DJfQcOYWML"
      },
      "execution_count": 37,
      "outputs": []
    },
    {
      "cell_type": "code",
      "source": [
        "data.info()"
      ],
      "metadata": {
        "colab": {
          "base_uri": "https://localhost:8080/"
        },
        "id": "8CD__1CbYYMX",
        "outputId": "849de2fd-9e2f-45f9-a733-8fe8e0739019"
      },
      "execution_count": 38,
      "outputs": [
        {
          "output_type": "stream",
          "name": "stdout",
          "text": [
            "<class 'pandas.core.frame.DataFrame'>\n",
            "RangeIndex: 5282 entries, 0 to 5281\n",
            "Data columns (total 20 columns):\n",
            " #   Column                    Non-Null Count  Dtype  \n",
            "---  ------                    --------------  -----  \n",
            " 0   ClientPeriod              5282 non-null   int64  \n",
            " 1   MonthlySpending           5282 non-null   float64\n",
            " 2   TotalSpent                5282 non-null   object \n",
            " 3   Sex                       5282 non-null   object \n",
            " 4   IsSeniorCitizen           5282 non-null   int64  \n",
            " 5   HasPartner                5282 non-null   object \n",
            " 6   HasChild                  5282 non-null   object \n",
            " 7   HasPhoneService           5282 non-null   object \n",
            " 8   HasMultiplePhoneNumbers   5282 non-null   object \n",
            " 9   HasInternetService        5282 non-null   object \n",
            " 10  HasOnlineSecurityService  5282 non-null   object \n",
            " 11  HasOnlineBackup           5282 non-null   object \n",
            " 12  HasDeviceProtection       5282 non-null   object \n",
            " 13  HasTechSupportAccess      5282 non-null   object \n",
            " 14  HasOnlineTV               5282 non-null   object \n",
            " 15  HasMovieSubscription      5282 non-null   object \n",
            " 16  HasContractPhone          5282 non-null   object \n",
            " 17  IsBillingPaperless        5282 non-null   object \n",
            " 18  PaymentMethod             5282 non-null   object \n",
            " 19  Churn                     5282 non-null   int64  \n",
            "dtypes: float64(1), int64(3), object(16)\n",
            "memory usage: 825.4+ KB\n"
          ]
        }
      ]
    },
    {
      "cell_type": "code",
      "source": [
        "data = pd.read_csv(\"train.csv\")"
      ],
      "metadata": {
        "id": "yOyRSIEYYZoA"
      },
      "execution_count": 39,
      "outputs": []
    },
    {
      "cell_type": "code",
      "source": [
        "!pip install eli5"
      ],
      "metadata": {
        "colab": {
          "base_uri": "https://localhost:8080/"
        },
        "id": "T-o9PCtJjhWI",
        "outputId": "93745ead-dce0-479d-89c8-5b24daac9ebc"
      },
      "execution_count": 40,
      "outputs": [
        {
          "output_type": "stream",
          "name": "stdout",
          "text": [
            "Requirement already satisfied: eli5 in /usr/local/lib/python3.7/dist-packages (0.11.0)\n",
            "Requirement already satisfied: six in /usr/local/lib/python3.7/dist-packages (from eli5) (1.15.0)\n",
            "Requirement already satisfied: numpy>=1.9.0 in /usr/local/lib/python3.7/dist-packages (from eli5) (1.19.5)\n",
            "Requirement already satisfied: jinja2 in /usr/local/lib/python3.7/dist-packages (from eli5) (2.11.3)\n",
            "Requirement already satisfied: graphviz in /usr/local/lib/python3.7/dist-packages (from eli5) (0.10.1)\n",
            "Requirement already satisfied: scipy in /usr/local/lib/python3.7/dist-packages (from eli5) (1.4.1)\n",
            "Requirement already satisfied: scikit-learn>=0.20 in /usr/local/lib/python3.7/dist-packages (from eli5) (1.0.1)\n",
            "Requirement already satisfied: attrs>16.0.0 in /usr/local/lib/python3.7/dist-packages (from eli5) (21.2.0)\n",
            "Requirement already satisfied: tabulate>=0.7.7 in /usr/local/lib/python3.7/dist-packages (from eli5) (0.8.9)\n",
            "Requirement already satisfied: threadpoolctl>=2.0.0 in /usr/local/lib/python3.7/dist-packages (from scikit-learn>=0.20->eli5) (3.0.0)\n",
            "Requirement already satisfied: joblib>=0.11 in /usr/local/lib/python3.7/dist-packages (from scikit-learn>=0.20->eli5) (1.1.0)\n",
            "Requirement already satisfied: MarkupSafe>=0.23 in /usr/local/lib/python3.7/dist-packages (from jinja2->eli5) (2.0.1)\n"
          ]
        }
      ]
    },
    {
      "cell_type": "code",
      "source": [
        "import eli5\n",
        "from eli5.sklearn import PermutationImportance\n",
        "from sklearn.ensemble import RandomForestClassifier"
      ],
      "metadata": {
        "id": "svGv6BcPjNLV"
      },
      "execution_count": 41,
      "outputs": []
    },
    {
      "cell_type": "code",
      "source": [
        "data['TotalSpent'] = data['TotalSpent'].where(data['ClientPeriod'] > 0, data['MonthlySpending'])\n",
        "data['ClientPeriod'] = data['ClientPeriod'].where(data['ClientPeriod'] > 0, 1)\n",
        "data['TotalSpent'] = pd.to_numeric(data['TotalSpent'])"
      ],
      "metadata": {
        "id": "Un3ND1QUYcoL"
      },
      "execution_count": 42,
      "outputs": []
    },
    {
      "cell_type": "code",
      "source": [
        "cat_cols = [x for x in data.columns if data[x].dtype == 'object']\n",
        "num_cols = [x for x in data.columns if data[x].dtype in ['int64', 'float64'] and x != 'Churn']\n",
        "target_col = \"Churn\"\n",
        "print(\"Категориальные признаки: \", \", \".join(cat_cols))\n",
        "print(\"Числовые признаки: \", \", \".join(num_cols))\n",
        "print(\"Целевой признак: \", target_col)"
      ],
      "metadata": {
        "colab": {
          "base_uri": "https://localhost:8080/"
        },
        "id": "PGfyr6z1Yl23",
        "outputId": "fa3c9ae7-5786-4faf-ce00-46e0d8b14e62"
      },
      "execution_count": 43,
      "outputs": [
        {
          "output_type": "stream",
          "name": "stdout",
          "text": [
            "Категориальные признаки:  Sex, HasPartner, HasChild, HasPhoneService, HasMultiplePhoneNumbers, HasInternetService, HasOnlineSecurityService, HasOnlineBackup, HasDeviceProtection, HasTechSupportAccess, HasOnlineTV, HasMovieSubscription, HasContractPhone, IsBillingPaperless, PaymentMethod\n",
            "Числовые признаки:  ClientPeriod, MonthlySpending, TotalSpent, IsSeniorCitizen\n",
            "Целевой признак:  Churn\n"
          ]
        }
      ]
    },
    {
      "cell_type": "code",
      "source": [
        "X = data[num_cols + cat_cols].copy()\n",
        "y = data['Churn'].copy()"
      ],
      "metadata": {
        "id": "teSZvlunZAcH"
      },
      "execution_count": 137,
      "outputs": []
    },
    {
      "cell_type": "code",
      "source": [
        "from sklearn.preprocessing import MaxAbsScaler\n",
        "from imblearn.pipeline import Pipeline\n",
        "from sklearn.preprocessing import OneHotEncoder\n",
        "\n",
        "num_transform = Pipeline(steps=[\n",
        "                    ('scale', MaxAbsScaler())                             \n",
        "])\n",
        "cat_transfrom = Pipeline(steps=[\n",
        "                    ('onehot', OneHotEncoder(handle_unknown = 'ignore')),\n",
        "                    ('scale', MaxAbsScaler())\n",
        "])"
      ],
      "metadata": {
        "id": "nL7dTCAIYpe3"
      },
      "execution_count": 45,
      "outputs": []
    },
    {
      "cell_type": "code",
      "source": [
        "from sklearn.compose import ColumnTransformer\n",
        "\n",
        "preprocessing = ColumnTransformer(transformers = [\n",
        "                                    ('cat', cat_transfrom, cat_cols),\n",
        "                                    ('num', num_transform, num_cols)\n",
        "])"
      ],
      "metadata": {
        "id": "b9mMrZUqY6yw"
      },
      "execution_count": 46,
      "outputs": []
    },
    {
      "cell_type": "code",
      "source": [
        "from sklearn.preprocessing import MaxAbsScaler\n",
        "from imblearn.pipeline import Pipeline\n",
        "from sklearn.preprocessing import OneHotEncoder\n",
        "\n",
        "num_transform = Pipeline(steps=[\n",
        "                    ('scale', MaxAbsScaler())                             \n",
        "])\n",
        "cat_transfrom = Pipeline(steps=[\n",
        "                    ('onehot', OneHotEncoder(handle_unknown = 'ignore')),\n",
        "                    ('scale', MaxAbsScaler())\n",
        "])"
      ],
      "metadata": {
        "id": "CsV9oJeaY9Q8"
      },
      "execution_count": 47,
      "outputs": []
    },
    {
      "cell_type": "code",
      "source": [
        "from sklearn.compose import ColumnTransformer\n",
        "\n",
        "preprocessing = ColumnTransformer(transformers = [\n",
        "                                    ('cat', cat_transfrom, cat_cols),\n",
        "                                    ('num', num_transform, num_cols)\n",
        "])"
      ],
      "metadata": {
        "id": "FxX2_CBWZD8o"
      },
      "execution_count": 48,
      "outputs": []
    },
    {
      "cell_type": "code",
      "source": [
        "X = preprocessing.fit_transform(X)"
      ],
      "metadata": {
        "id": "HZt4Ag9gwsCR"
      },
      "execution_count": 138,
      "outputs": []
    },
    {
      "cell_type": "code",
      "source": [
        "X = pd.DataFrame(data = X)"
      ],
      "metadata": {
        "id": "PWpw3D7UwwtQ"
      },
      "execution_count": 139,
      "outputs": []
    },
    {
      "cell_type": "code",
      "source": [
        "from sklearn.model_selection import train_test_split\n",
        "X_train, X_test, y_train, y_test = train_test_split(X, y, test_size = 0.2)"
      ],
      "metadata": {
        "id": "WQwufNvAY8PY"
      },
      "execution_count": 140,
      "outputs": []
    },
    {
      "cell_type": "markdown",
      "source": [
        "# Feature Importance"
      ],
      "metadata": {
        "id": "R3fT5tCh26BS"
      }
    },
    {
      "cell_type": "code",
      "source": [
        "modelRF = RandomForestClassifier(random_state = 42).fit(X_train, y_train)\n",
        "perm = PermutationImportance(modelRF, random_state = 42).fit(X_test, y_test)"
      ],
      "metadata": {
        "id": "TByqRndqvFP8"
      },
      "execution_count": 70,
      "outputs": []
    },
    {
      "cell_type": "code",
      "source": [
        "eli5.show_weights(perm)"
      ],
      "metadata": {
        "colab": {
          "base_uri": "https://localhost:8080/",
          "height": 399
        },
        "id": "ImG8htgDv9y5",
        "outputId": "633309ac-9dd3-4f8b-95b9-61718d7180a6"
      },
      "execution_count": 85,
      "outputs": [
        {
          "output_type": "execute_result",
          "data": {
            "text/html": [
              "\n",
              "    <style>\n",
              "    table.eli5-weights tr:hover {\n",
              "        filter: brightness(85%);\n",
              "    }\n",
              "</style>\n",
              "\n",
              "\n",
              "\n",
              "    \n",
              "\n",
              "    \n",
              "\n",
              "    \n",
              "\n",
              "    \n",
              "\n",
              "    \n",
              "\n",
              "    \n",
              "\n",
              "\n",
              "    \n",
              "\n",
              "    \n",
              "\n",
              "    \n",
              "\n",
              "    \n",
              "\n",
              "    \n",
              "\n",
              "    \n",
              "\n",
              "\n",
              "    \n",
              "\n",
              "    \n",
              "\n",
              "    \n",
              "\n",
              "    \n",
              "\n",
              "    \n",
              "        <table class=\"eli5-weights eli5-feature-importances\" style=\"border-collapse: collapse; border: none; margin-top: 0em; table-layout: auto;\">\n",
              "    <thead>\n",
              "    <tr style=\"border: none;\">\n",
              "        <th style=\"padding: 0 1em 0 0.5em; text-align: right; border: none;\">Weight</th>\n",
              "        <th style=\"padding: 0 0.5em 0 0.5em; text-align: left; border: none;\">Feature</th>\n",
              "    </tr>\n",
              "    </thead>\n",
              "    <tbody>\n",
              "    \n",
              "        <tr style=\"background-color: hsl(120, 100.00%, 80.00%); border: none;\">\n",
              "            <td style=\"padding: 0 1em 0 0.5em; text-align: right; border: none;\">\n",
              "                0.0335\n",
              "                \n",
              "                    &plusmn; 0.0091\n",
              "                \n",
              "            </td>\n",
              "            <td style=\"padding: 0 0.5em 0 0.5em; text-align: left; border: none;\">\n",
              "                x41\n",
              "            </td>\n",
              "        </tr>\n",
              "    \n",
              "        <tr style=\"background-color: hsl(120, 100.00%, 87.06%); border: none;\">\n",
              "            <td style=\"padding: 0 1em 0 0.5em; text-align: right; border: none;\">\n",
              "                0.0180\n",
              "                \n",
              "                    &plusmn; 0.0049\n",
              "                \n",
              "            </td>\n",
              "            <td style=\"padding: 0 0.5em 0 0.5em; text-align: left; border: none;\">\n",
              "                x43\n",
              "            </td>\n",
              "        </tr>\n",
              "    \n",
              "        <tr style=\"background-color: hsl(120, 100.00%, 90.95%); border: none;\">\n",
              "            <td style=\"padding: 0 1em 0 0.5em; text-align: right; border: none;\">\n",
              "                0.0108\n",
              "                \n",
              "                    &plusmn; 0.0031\n",
              "                \n",
              "            </td>\n",
              "            <td style=\"padding: 0 0.5em 0 0.5em; text-align: left; border: none;\">\n",
              "                x32\n",
              "            </td>\n",
              "        </tr>\n",
              "    \n",
              "        <tr style=\"background-color: hsl(120, 100.00%, 91.98%); border: none;\">\n",
              "            <td style=\"padding: 0 1em 0 0.5em; text-align: right; border: none;\">\n",
              "                0.0091\n",
              "                \n",
              "                    &plusmn; 0.0088\n",
              "                \n",
              "            </td>\n",
              "            <td style=\"padding: 0 0.5em 0 0.5em; text-align: left; border: none;\">\n",
              "                x12\n",
              "            </td>\n",
              "        </tr>\n",
              "    \n",
              "        <tr style=\"background-color: hsl(120, 100.00%, 92.57%); border: none;\">\n",
              "            <td style=\"padding: 0 1em 0 0.5em; text-align: right; border: none;\">\n",
              "                0.0081\n",
              "                \n",
              "                    &plusmn; 0.0079\n",
              "                \n",
              "            </td>\n",
              "            <td style=\"padding: 0 0.5em 0 0.5em; text-align: left; border: none;\">\n",
              "                x23\n",
              "            </td>\n",
              "        </tr>\n",
              "    \n",
              "        <tr style=\"background-color: hsl(120, 100.00%, 92.69%); border: none;\">\n",
              "            <td style=\"padding: 0 1em 0 0.5em; text-align: right; border: none;\">\n",
              "                0.0079\n",
              "                \n",
              "                    &plusmn; 0.0136\n",
              "                \n",
              "            </td>\n",
              "            <td style=\"padding: 0 0.5em 0 0.5em; text-align: left; border: none;\">\n",
              "                x42\n",
              "            </td>\n",
              "        </tr>\n",
              "    \n",
              "        <tr style=\"background-color: hsl(120, 100.00%, 93.44%); border: none;\">\n",
              "            <td style=\"padding: 0 1em 0 0.5em; text-align: right; border: none;\">\n",
              "                0.0068\n",
              "                \n",
              "                    &plusmn; 0.0082\n",
              "                \n",
              "            </td>\n",
              "            <td style=\"padding: 0 0.5em 0 0.5em; text-align: left; border: none;\">\n",
              "                x10\n",
              "            </td>\n",
              "        </tr>\n",
              "    \n",
              "        <tr style=\"background-color: hsl(120, 100.00%, 93.44%); border: none;\">\n",
              "            <td style=\"padding: 0 1em 0 0.5em; text-align: right; border: none;\">\n",
              "                0.0068\n",
              "                \n",
              "                    &plusmn; 0.0048\n",
              "                \n",
              "            </td>\n",
              "            <td style=\"padding: 0 0.5em 0 0.5em; text-align: left; border: none;\">\n",
              "                x17\n",
              "            </td>\n",
              "        </tr>\n",
              "    \n",
              "        <tr style=\"background-color: hsl(120, 100.00%, 94.50%); border: none;\">\n",
              "            <td style=\"padding: 0 1em 0 0.5em; text-align: right; border: none;\">\n",
              "                0.0053\n",
              "                \n",
              "                    &plusmn; 0.0019\n",
              "                \n",
              "            </td>\n",
              "            <td style=\"padding: 0 0.5em 0 0.5em; text-align: left; border: none;\">\n",
              "                x35\n",
              "            </td>\n",
              "        </tr>\n",
              "    \n",
              "        <tr style=\"background-color: hsl(120, 100.00%, 94.64%); border: none;\">\n",
              "            <td style=\"padding: 0 1em 0 0.5em; text-align: right; border: none;\">\n",
              "                0.0051\n",
              "                \n",
              "                    &plusmn; 0.0076\n",
              "                \n",
              "            </td>\n",
              "            <td style=\"padding: 0 0.5em 0 0.5em; text-align: left; border: none;\">\n",
              "                x44\n",
              "            </td>\n",
              "        </tr>\n",
              "    \n",
              "        <tr style=\"background-color: hsl(120, 100.00%, 95.06%); border: none;\">\n",
              "            <td style=\"padding: 0 1em 0 0.5em; text-align: right; border: none;\">\n",
              "                0.0045\n",
              "                \n",
              "                    &plusmn; 0.0035\n",
              "                \n",
              "            </td>\n",
              "            <td style=\"padding: 0 0.5em 0 0.5em; text-align: left; border: none;\">\n",
              "                x29\n",
              "            </td>\n",
              "        </tr>\n",
              "    \n",
              "        <tr style=\"background-color: hsl(120, 100.00%, 95.50%); border: none;\">\n",
              "            <td style=\"padding: 0 1em 0 0.5em; text-align: right; border: none;\">\n",
              "                0.0040\n",
              "                \n",
              "                    &plusmn; 0.0084\n",
              "                \n",
              "            </td>\n",
              "            <td style=\"padding: 0 0.5em 0 0.5em; text-align: left; border: none;\">\n",
              "                x39\n",
              "            </td>\n",
              "        </tr>\n",
              "    \n",
              "        <tr style=\"background-color: hsl(120, 100.00%, 95.65%); border: none;\">\n",
              "            <td style=\"padding: 0 1em 0 0.5em; text-align: right; border: none;\">\n",
              "                0.0038\n",
              "                \n",
              "                    &plusmn; 0.0034\n",
              "                \n",
              "            </td>\n",
              "            <td style=\"padding: 0 0.5em 0 0.5em; text-align: left; border: none;\">\n",
              "                x20\n",
              "            </td>\n",
              "        </tr>\n",
              "    \n",
              "        <tr style=\"background-color: hsl(120, 100.00%, 95.81%); border: none;\">\n",
              "            <td style=\"padding: 0 1em 0 0.5em; text-align: right; border: none;\">\n",
              "                0.0036\n",
              "                \n",
              "                    &plusmn; 0.0051\n",
              "                \n",
              "            </td>\n",
              "            <td style=\"padding: 0 0.5em 0 0.5em; text-align: left; border: none;\">\n",
              "                x14\n",
              "            </td>\n",
              "        </tr>\n",
              "    \n",
              "        <tr style=\"background-color: hsl(120, 100.00%, 96.12%); border: none;\">\n",
              "            <td style=\"padding: 0 1em 0 0.5em; text-align: right; border: none;\">\n",
              "                0.0032\n",
              "                \n",
              "                    &plusmn; 0.0019\n",
              "                \n",
              "            </td>\n",
              "            <td style=\"padding: 0 0.5em 0 0.5em; text-align: left; border: none;\">\n",
              "                x36\n",
              "            </td>\n",
              "        </tr>\n",
              "    \n",
              "        <tr style=\"background-color: hsl(120, 100.00%, 96.28%); border: none;\">\n",
              "            <td style=\"padding: 0 1em 0 0.5em; text-align: right; border: none;\">\n",
              "                0.0030\n",
              "                \n",
              "                    &plusmn; 0.0044\n",
              "                \n",
              "            </td>\n",
              "            <td style=\"padding: 0 0.5em 0 0.5em; text-align: left; border: none;\">\n",
              "                x1\n",
              "            </td>\n",
              "        </tr>\n",
              "    \n",
              "        <tr style=\"background-color: hsl(120, 100.00%, 96.61%); border: none;\">\n",
              "            <td style=\"padding: 0 1em 0 0.5em; text-align: right; border: none;\">\n",
              "                0.0026\n",
              "                \n",
              "                    &plusmn; 0.0035\n",
              "                \n",
              "            </td>\n",
              "            <td style=\"padding: 0 0.5em 0 0.5em; text-align: left; border: none;\">\n",
              "                x38\n",
              "            </td>\n",
              "        </tr>\n",
              "    \n",
              "        <tr style=\"background-color: hsl(120, 100.00%, 96.96%); border: none;\">\n",
              "            <td style=\"padding: 0 1em 0 0.5em; text-align: right; border: none;\">\n",
              "                0.0023\n",
              "                \n",
              "                    &plusmn; 0.0015\n",
              "                \n",
              "            </td>\n",
              "            <td style=\"padding: 0 0.5em 0 0.5em; text-align: left; border: none;\">\n",
              "                x26\n",
              "            </td>\n",
              "        </tr>\n",
              "    \n",
              "        <tr style=\"background-color: hsl(120, 100.00%, 97.71%); border: none;\">\n",
              "            <td style=\"padding: 0 1em 0 0.5em; text-align: right; border: none;\">\n",
              "                0.0015\n",
              "                \n",
              "                    &plusmn; 0.0078\n",
              "                \n",
              "            </td>\n",
              "            <td style=\"padding: 0 0.5em 0 0.5em; text-align: left; border: none;\">\n",
              "                x0\n",
              "            </td>\n",
              "        </tr>\n",
              "    \n",
              "        <tr style=\"background-color: hsl(120, 100.00%, 98.13%); border: none;\">\n",
              "            <td style=\"padding: 0 1em 0 0.5em; text-align: right; border: none;\">\n",
              "                0.0011\n",
              "                \n",
              "                    &plusmn; 0.0033\n",
              "                \n",
              "            </td>\n",
              "            <td style=\"padding: 0 0.5em 0 0.5em; text-align: left; border: none;\">\n",
              "                x37\n",
              "            </td>\n",
              "        </tr>\n",
              "    \n",
              "    \n",
              "        \n",
              "            <tr style=\"background-color: hsl(120, 100.00%, 98.13%); border: none;\">\n",
              "                <td colspan=\"2\" style=\"padding: 0 0.5em 0 0.5em; text-align: center; border: none; white-space: nowrap;\">\n",
              "                    <i>&hellip; 25 more &hellip;</i>\n",
              "                </td>\n",
              "            </tr>\n",
              "        \n",
              "    \n",
              "    </tbody>\n",
              "</table>\n",
              "    \n",
              "\n",
              "    \n",
              "\n",
              "\n",
              "    \n",
              "\n",
              "    \n",
              "\n",
              "    \n",
              "\n",
              "    \n",
              "\n",
              "    \n",
              "\n",
              "    \n",
              "\n",
              "\n",
              "\n"
            ],
            "text/plain": [
              "<IPython.core.display.HTML object>"
            ]
          },
          "metadata": {},
          "execution_count": 85
        }
      ]
    },
    {
      "cell_type": "code",
      "source": [
        "pi_features = eli5.explain_weights_df(perm, feature_names = X_train.columns.tolist())\n",
        "pi_features = pi_features.loc[pi_features['weight'] >= 0.0001]['feature'].tolist()"
      ],
      "metadata": {
        "id": "-bUe1Q-lwO5V"
      },
      "execution_count": 83,
      "outputs": []
    },
    {
      "cell_type": "code",
      "source": [
        "pi_features[:5]"
      ],
      "metadata": {
        "colab": {
          "base_uri": "https://localhost:8080/"
        },
        "id": "_gj76xdkwUvz",
        "outputId": "97fca475-5c6c-4da8-b517-8619ef497077"
      },
      "execution_count": 141,
      "outputs": [
        {
          "output_type": "execute_result",
          "data": {
            "text/plain": [
              "[41, 43, 32, 12, 23]"
            ]
          },
          "metadata": {},
          "execution_count": 141
        }
      ]
    },
    {
      "cell_type": "code",
      "source": [
        "X_train = X_train.iloc[:, pi_features]\n",
        "X_test  = X_test.iloc[:, pi_features]"
      ],
      "metadata": {
        "id": "Eel6Hz-GwbmH"
      },
      "execution_count": 86,
      "outputs": []
    },
    {
      "cell_type": "code",
      "source": [
        "from sklearn.metrics import roc_auc_score\n",
        "from sklearn.model_selection import GridSearchCV\n",
        "from sklearn.model_selection import cross_val_score, StratifiedKFold, ShuffleSplit, RepeatedKFold, cross_val_predict"
      ],
      "metadata": {
        "id": "eANQzLM5ZFr8"
      },
      "execution_count": 88,
      "outputs": []
    },
    {
      "cell_type": "markdown",
      "source": [
        "# Random Forest"
      ],
      "metadata": {
        "id": "VXvbkmCi24Kn"
      }
    },
    {
      "cell_type": "code",
      "source": [
        "from sklearn.ensemble import RandomForestClassifier"
      ],
      "metadata": {
        "id": "CYdkiBUEZIkc"
      },
      "execution_count": 89,
      "outputs": []
    },
    {
      "cell_type": "code",
      "source": [
        "!pip install bayesian-optimization"
      ],
      "metadata": {
        "colab": {
          "base_uri": "https://localhost:8080/"
        },
        "id": "E-Qp7kaWZ6hQ",
        "outputId": "d2b0f60c-7d43-49e7-e455-0064393feeed"
      },
      "execution_count": 90,
      "outputs": [
        {
          "output_type": "stream",
          "name": "stdout",
          "text": [
            "Collecting bayesian-optimization\n",
            "  Downloading bayesian-optimization-1.2.0.tar.gz (14 kB)\n",
            "Requirement already satisfied: numpy>=1.9.0 in /usr/local/lib/python3.7/dist-packages (from bayesian-optimization) (1.19.5)\n",
            "Requirement already satisfied: scipy>=0.14.0 in /usr/local/lib/python3.7/dist-packages (from bayesian-optimization) (1.4.1)\n",
            "Requirement already satisfied: scikit-learn>=0.18.0 in /usr/local/lib/python3.7/dist-packages (from bayesian-optimization) (1.0.1)\n",
            "Requirement already satisfied: joblib>=0.11 in /usr/local/lib/python3.7/dist-packages (from scikit-learn>=0.18.0->bayesian-optimization) (1.1.0)\n",
            "Requirement already satisfied: threadpoolctl>=2.0.0 in /usr/local/lib/python3.7/dist-packages (from scikit-learn>=0.18.0->bayesian-optimization) (3.0.0)\n",
            "Building wheels for collected packages: bayesian-optimization\n",
            "  Building wheel for bayesian-optimization (setup.py) ... \u001b[?25l\u001b[?25hdone\n",
            "  Created wheel for bayesian-optimization: filename=bayesian_optimization-1.2.0-py3-none-any.whl size=11685 sha256=344ae3ffb142606bb44ce781c8cf9bc06e0b18c4ebe460785aecbf3e398bc112\n",
            "  Stored in directory: /root/.cache/pip/wheels/fd/9b/71/f127d694e02eb40bcf18c7ae9613b88a6be4470f57a8528c5b\n",
            "Successfully built bayesian-optimization\n",
            "Installing collected packages: bayesian-optimization\n",
            "Successfully installed bayesian-optimization-1.2.0\n"
          ]
        }
      ]
    },
    {
      "cell_type": "code",
      "source": [
        "from bayes_opt import BayesianOptimization"
      ],
      "metadata": {
        "id": "ZN2-sLLrZO43"
      },
      "execution_count": 91,
      "outputs": []
    },
    {
      "cell_type": "code",
      "source": [
        "from sklearn.metrics import roc_auc_score"
      ],
      "metadata": {
        "id": "pStucH0jcQ5V"
      },
      "execution_count": 92,
      "outputs": []
    },
    {
      "cell_type": "code",
      "source": [
        "def rf (n_estimators, max_features):\n",
        "    params = {\n",
        "        'max_features':max_features,\n",
        "        'n_estimators':int(n_estimators)\n",
        "    }\n",
        "    clf = RandomForestClassifier(max_features=params['max_features'], n_estimators=params['n_estimators'])\n",
        "    clf.fit(X_train, y_train)\n",
        "    return roc_auc_score(y_test, clf.predict_proba(X_test)[:, 1])"
      ],
      "metadata": {
        "id": "kPbTQEgTaExQ"
      },
      "execution_count": 96,
      "outputs": []
    },
    {
      "cell_type": "code",
      "source": [
        "rf_bo = BayesianOptimization(rf, {\n",
        "                            'max_features':(0.1, 1),\n",
        "                            'n_estimators':(100, 1000)\n",
        "                            })"
      ],
      "metadata": {
        "id": "uydfDSEJakV2"
      },
      "execution_count": 97,
      "outputs": []
    },
    {
      "cell_type": "code",
      "source": [
        "results = rf_bo.maximize(n_iter = 30, init_points = 5, acq = 'ei')"
      ],
      "metadata": {
        "colab": {
          "base_uri": "https://localhost:8080/"
        },
        "id": "fwd-XXIpaql4",
        "outputId": "e84f24f2-b734-4e24-8fce-fd5ce1c68305"
      },
      "execution_count": 98,
      "outputs": [
        {
          "output_type": "stream",
          "name": "stdout",
          "text": [
            "|   iter    |  target   | max_fe... | n_esti... |\n",
            "-------------------------------------------------\n",
            "| \u001b[0m 1       \u001b[0m | \u001b[0m 0.8169  \u001b[0m | \u001b[0m 0.4219  \u001b[0m | \u001b[0m 180.3   \u001b[0m |\n",
            "| \u001b[0m 2       \u001b[0m | \u001b[0m 0.8132  \u001b[0m | \u001b[0m 0.7171  \u001b[0m | \u001b[0m 512.9   \u001b[0m |\n",
            "| \u001b[95m 3       \u001b[0m | \u001b[95m 0.8186  \u001b[0m | \u001b[95m 0.1159  \u001b[0m | \u001b[95m 170.9   \u001b[0m |\n",
            "| \u001b[0m 4       \u001b[0m | \u001b[0m 0.8158  \u001b[0m | \u001b[0m 0.437   \u001b[0m | \u001b[0m 775.5   \u001b[0m |\n",
            "| \u001b[95m 5       \u001b[0m | \u001b[95m 0.8196  \u001b[0m | \u001b[95m 0.322   \u001b[0m | \u001b[95m 597.8   \u001b[0m |\n",
            "| \u001b[0m 6       \u001b[0m | \u001b[0m 0.8095  \u001b[0m | \u001b[0m 0.9592  \u001b[0m | \u001b[0m 597.8   \u001b[0m |\n",
            "| \u001b[0m 7       \u001b[0m | \u001b[0m 0.8115  \u001b[0m | \u001b[0m 0.5852  \u001b[0m | \u001b[0m 124.9   \u001b[0m |\n",
            "| \u001b[0m 8       \u001b[0m | \u001b[0m 0.819   \u001b[0m | \u001b[0m 0.1934  \u001b[0m | \u001b[0m 620.9   \u001b[0m |\n",
            "| \u001b[95m 9       \u001b[0m | \u001b[95m 0.8218  \u001b[0m | \u001b[95m 0.1756  \u001b[0m | \u001b[95m 239.3   \u001b[0m |\n",
            "| \u001b[0m 10      \u001b[0m | \u001b[0m 0.814   \u001b[0m | \u001b[0m 0.6687  \u001b[0m | \u001b[0m 554.0   \u001b[0m |\n",
            "| \u001b[0m 11      \u001b[0m | \u001b[0m 0.8206  \u001b[0m | \u001b[0m 0.157   \u001b[0m | \u001b[0m 134.1   \u001b[0m |\n",
            "| \u001b[0m 12      \u001b[0m | \u001b[0m 0.8148  \u001b[0m | \u001b[0m 0.4853  \u001b[0m | \u001b[0m 436.3   \u001b[0m |\n",
            "| \u001b[0m 13      \u001b[0m | \u001b[0m 0.8153  \u001b[0m | \u001b[0m 0.5785  \u001b[0m | \u001b[0m 486.7   \u001b[0m |\n",
            "| \u001b[0m 14      \u001b[0m | \u001b[0m 0.8177  \u001b[0m | \u001b[0m 0.3592  \u001b[0m | \u001b[0m 588.8   \u001b[0m |\n",
            "| \u001b[0m 15      \u001b[0m | \u001b[0m 0.8111  \u001b[0m | \u001b[0m 0.8596  \u001b[0m | \u001b[0m 514.3   \u001b[0m |\n",
            "| \u001b[0m 16      \u001b[0m | \u001b[0m 0.8218  \u001b[0m | \u001b[0m 0.2237  \u001b[0m | \u001b[0m 848.6   \u001b[0m |\n",
            "| \u001b[0m 17      \u001b[0m | \u001b[0m 0.8116  \u001b[0m | \u001b[0m 0.8604  \u001b[0m | \u001b[0m 877.1   \u001b[0m |\n",
            "| \u001b[0m 18      \u001b[0m | \u001b[0m 0.8136  \u001b[0m | \u001b[0m 0.6728  \u001b[0m | \u001b[0m 640.1   \u001b[0m |\n",
            "| \u001b[0m 19      \u001b[0m | \u001b[0m 0.8139  \u001b[0m | \u001b[0m 0.555   \u001b[0m | \u001b[0m 289.8   \u001b[0m |\n",
            "| \u001b[0m 20      \u001b[0m | \u001b[0m 0.8196  \u001b[0m | \u001b[0m 0.1334  \u001b[0m | \u001b[0m 655.6   \u001b[0m |\n",
            "| \u001b[0m 21      \u001b[0m | \u001b[0m 0.8132  \u001b[0m | \u001b[0m 0.5315  \u001b[0m | \u001b[0m 652.8   \u001b[0m |\n",
            "| \u001b[0m 22      \u001b[0m | \u001b[0m 0.8188  \u001b[0m | \u001b[0m 0.1623  \u001b[0m | \u001b[0m 967.6   \u001b[0m |\n",
            "| \u001b[0m 23      \u001b[0m | \u001b[0m 0.819   \u001b[0m | \u001b[0m 0.2644  \u001b[0m | \u001b[0m 637.8   \u001b[0m |\n",
            "| \u001b[0m 24      \u001b[0m | \u001b[0m 0.8109  \u001b[0m | \u001b[0m 0.9157  \u001b[0m | \u001b[0m 919.0   \u001b[0m |\n",
            "| \u001b[0m 25      \u001b[0m | \u001b[0m 0.8156  \u001b[0m | \u001b[0m 0.5379  \u001b[0m | \u001b[0m 451.4   \u001b[0m |\n",
            "| \u001b[0m 26      \u001b[0m | \u001b[0m 0.8186  \u001b[0m | \u001b[0m 0.3018  \u001b[0m | \u001b[0m 929.2   \u001b[0m |\n",
            "| \u001b[0m 27      \u001b[0m | \u001b[0m 0.8113  \u001b[0m | \u001b[0m 0.9641  \u001b[0m | \u001b[0m 952.1   \u001b[0m |\n",
            "| \u001b[0m 28      \u001b[0m | \u001b[0m 0.8136  \u001b[0m | \u001b[0m 0.5473  \u001b[0m | \u001b[0m 755.9   \u001b[0m |\n",
            "| \u001b[0m 29      \u001b[0m | \u001b[0m 0.8164  \u001b[0m | \u001b[0m 0.4487  \u001b[0m | \u001b[0m 744.4   \u001b[0m |\n",
            "| \u001b[0m 30      \u001b[0m | \u001b[0m 0.8104  \u001b[0m | \u001b[0m 0.749   \u001b[0m | \u001b[0m 170.5   \u001b[0m |\n",
            "| \u001b[0m 31      \u001b[0m | \u001b[0m 0.8205  \u001b[0m | \u001b[0m 0.1183  \u001b[0m | \u001b[0m 269.0   \u001b[0m |\n",
            "| \u001b[0m 32      \u001b[0m | \u001b[0m 0.8125  \u001b[0m | \u001b[0m 0.7133  \u001b[0m | \u001b[0m 505.8   \u001b[0m |\n",
            "| \u001b[0m 33      \u001b[0m | \u001b[0m 0.8201  \u001b[0m | \u001b[0m 0.2248  \u001b[0m | \u001b[0m 274.8   \u001b[0m |\n",
            "| \u001b[0m 34      \u001b[0m | \u001b[0m 0.8121  \u001b[0m | \u001b[0m 0.7416  \u001b[0m | \u001b[0m 494.9   \u001b[0m |\n",
            "| \u001b[0m 35      \u001b[0m | \u001b[0m 0.8203  \u001b[0m | \u001b[0m 0.216   \u001b[0m | \u001b[0m 535.4   \u001b[0m |\n",
            "=================================================\n"
          ]
        }
      ]
    },
    {
      "cell_type": "code",
      "source": [
        "params = rf_bo.max['params']\n",
        "params['n_estimators']= int(params['n_estimators'])"
      ],
      "metadata": {
        "id": "moAj1Y86fXVU"
      },
      "execution_count": 142,
      "outputs": []
    },
    {
      "cell_type": "code",
      "source": [
        "params"
      ],
      "metadata": {
        "colab": {
          "base_uri": "https://localhost:8080/"
        },
        "id": "W0f-gLwygSq8",
        "outputId": "52d8dcc1-3867-492b-892d-7b8cb874512b"
      },
      "execution_count": 143,
      "outputs": [
        {
          "output_type": "execute_result",
          "data": {
            "text/plain": [
              "{'max_features': 0.175588762229762, 'n_estimators': 239}"
            ]
          },
          "metadata": {},
          "execution_count": 143
        }
      ]
    },
    {
      "cell_type": "code",
      "source": [
        "clf = RandomForestClassifier(**params)"
      ],
      "metadata": {
        "id": "9xhB1o9kgTz8"
      },
      "execution_count": 144,
      "outputs": []
    },
    {
      "cell_type": "code",
      "source": [
        "clf.fit(X, y)"
      ],
      "metadata": {
        "colab": {
          "base_uri": "https://localhost:8080/"
        },
        "id": "X_vv35nzgW_A",
        "outputId": "0443d082-2378-49aa-8503-c415a19c9dda"
      },
      "execution_count": 145,
      "outputs": [
        {
          "output_type": "execute_result",
          "data": {
            "text/plain": [
              "RandomForestClassifier(max_features=0.175588762229762, n_estimators=239)"
            ]
          },
          "metadata": {},
          "execution_count": 145
        }
      ]
    },
    {
      "cell_type": "code",
      "source": [
        "X_test_origin = pd.read_csv('test.csv')\n",
        "X_test_origin['TotalSpent'] = X_test_origin['TotalSpent'].where(X_test_origin['ClientPeriod'] > 0, X_test_origin['MonthlySpending'])\n",
        "X_test_origin['ClientPeriod'] = X_test_origin['ClientPeriod'].where(X_test_origin['ClientPeriod'] > 0, 1)\n",
        "X_test_origin['TotalSpent'] = pd.to_numeric(X_test_origin['TotalSpent'])\n",
        "X_test_origin = preprocessing.transform(X_test_origin)\n",
        "X_test_origin = pd.DataFrame(data = X_test_origin)\n",
        "submission = pd.read_csv('submission.csv')\n",
        "submission['Churn'] = clf.predict_proba(X_test_origin)[:, 1]\n",
        "submission.to_csv('my_submission.csv', index=False)"
      ],
      "metadata": {
        "id": "DzSsXovCghC4"
      },
      "execution_count": 146,
      "outputs": []
    },
    {
      "cell_type": "markdown",
      "source": [
        "# Gradient Boosting"
      ],
      "metadata": {
        "id": "2gigt1Oc2zmO"
      }
    },
    {
      "cell_type": "code",
      "source": [
        "from sklearn.ensemble import GradientBoostingClassifier"
      ],
      "metadata": {
        "id": "9GqkH3hUnXw0"
      },
      "execution_count": 147,
      "outputs": []
    },
    {
      "cell_type": "code",
      "source": [
        "def gboost(min_samples_split, max_features, learning_rate, max_depth, n_estimators):\n",
        "    params = {\n",
        "        'min_samples_split': int(min_samples_split),\n",
        "        'max_features': max_features,\n",
        "        'learning_rate': learning_rate,\n",
        "        'max_depth': int(max_depth),\n",
        "        'n_estimators': int(n_estimators)\n",
        "    }\n",
        "    clf = GradientBoostingClassifier(**params)\n",
        "    return np.mean(cross_val_score(clf, X, y, scoring='roc_auc'))"
      ],
      "metadata": {
        "id": "vaXb0tRKncW4"
      },
      "execution_count": 148,
      "outputs": []
    },
    {
      "cell_type": "code",
      "source": [
        "gboost = BayesianOptimization(gboost, {\n",
        "                            'min_samples_split': (2, 5),\n",
        "                            'max_features':(0.1, 1),\n",
        "                            'learning_rate': (0.001, 0.1),\n",
        "                            'max_depth': (2, 5),\n",
        "                            'n_estimators': (200, 300)\n",
        "                            })"
      ],
      "metadata": {
        "id": "Tuur05Xxn5O9"
      },
      "execution_count": 149,
      "outputs": []
    },
    {
      "cell_type": "code",
      "source": [
        "results = gboost.maximize(n_iter = 50, init_points = 10, acq = 'ei')"
      ],
      "metadata": {
        "colab": {
          "base_uri": "https://localhost:8080/"
        },
        "id": "GivzJcd-oHbp",
        "outputId": "b374cf9c-f221-4249-8718-1a6bcb7375bf"
      },
      "execution_count": 150,
      "outputs": [
        {
          "output_type": "stream",
          "name": "stdout",
          "text": [
            "|   iter    |  target   | learni... | max_depth | max_fe... | min_sa... | n_esti... |\n",
            "-------------------------------------------------------------------------------------\n",
            "| \u001b[0m 1       \u001b[0m | \u001b[0m 0.8351  \u001b[0m | \u001b[0m 0.09575 \u001b[0m | \u001b[0m 3.709   \u001b[0m | \u001b[0m 0.3646  \u001b[0m | \u001b[0m 4.242   \u001b[0m | \u001b[0m 284.5   \u001b[0m |\n",
            "| \u001b[95m 2       \u001b[0m | \u001b[95m 0.8465  \u001b[0m | \u001b[95m 0.06073 \u001b[0m | \u001b[95m 2.265   \u001b[0m | \u001b[95m 0.2987  \u001b[0m | \u001b[95m 4.72    \u001b[0m | \u001b[95m 253.8   \u001b[0m |\n",
            "| \u001b[0m 3       \u001b[0m | \u001b[0m 0.8346  \u001b[0m | \u001b[0m 0.07659 \u001b[0m | \u001b[0m 4.717   \u001b[0m | \u001b[0m 0.4352  \u001b[0m | \u001b[0m 2.428   \u001b[0m | \u001b[0m 258.5   \u001b[0m |\n",
            "| \u001b[0m 4       \u001b[0m | \u001b[0m 0.8364  \u001b[0m | \u001b[0m 0.08668 \u001b[0m | \u001b[0m 3.734   \u001b[0m | \u001b[0m 0.8471  \u001b[0m | \u001b[0m 3.815   \u001b[0m | \u001b[0m 233.4   \u001b[0m |\n",
            "| \u001b[0m 5       \u001b[0m | \u001b[0m 0.8364  \u001b[0m | \u001b[0m 0.05859 \u001b[0m | \u001b[0m 4.08    \u001b[0m | \u001b[0m 0.692   \u001b[0m | \u001b[0m 3.439   \u001b[0m | \u001b[0m 249.8   \u001b[0m |\n",
            "| \u001b[0m 6       \u001b[0m | \u001b[0m 0.8406  \u001b[0m | \u001b[0m 0.04188 \u001b[0m | \u001b[0m 4.004   \u001b[0m | \u001b[0m 0.6003  \u001b[0m | \u001b[0m 2.633   \u001b[0m | \u001b[0m 211.9   \u001b[0m |\n",
            "| \u001b[0m 7       \u001b[0m | \u001b[0m 0.8404  \u001b[0m | \u001b[0m 0.0626  \u001b[0m | \u001b[0m 3.21    \u001b[0m | \u001b[0m 0.5313  \u001b[0m | \u001b[0m 4.439   \u001b[0m | \u001b[0m 291.7   \u001b[0m |\n",
            "| \u001b[95m 8       \u001b[0m | \u001b[95m 0.8472  \u001b[0m | \u001b[95m 0.01827 \u001b[0m | \u001b[95m 2.624   \u001b[0m | \u001b[95m 0.2887  \u001b[0m | \u001b[95m 4.123   \u001b[0m | \u001b[95m 276.6   \u001b[0m |\n",
            "| \u001b[0m 9       \u001b[0m | \u001b[0m 0.8334  \u001b[0m | \u001b[0m 0.07854 \u001b[0m | \u001b[0m 4.033   \u001b[0m | \u001b[0m 0.3728  \u001b[0m | \u001b[0m 3.161   \u001b[0m | \u001b[0m 277.7   \u001b[0m |\n",
            "| \u001b[0m 10      \u001b[0m | \u001b[0m 0.8328  \u001b[0m | \u001b[0m 0.08352 \u001b[0m | \u001b[0m 4.781   \u001b[0m | \u001b[0m 0.6125  \u001b[0m | \u001b[0m 3.407   \u001b[0m | \u001b[0m 253.3   \u001b[0m |\n",
            "| \u001b[0m 11      \u001b[0m | \u001b[0m 0.839   \u001b[0m | \u001b[0m 0.09222 \u001b[0m | \u001b[0m 3.209   \u001b[0m | \u001b[0m 0.5432  \u001b[0m | \u001b[0m 4.016   \u001b[0m | \u001b[0m 209.6   \u001b[0m |\n",
            "| \u001b[0m 12      \u001b[0m | \u001b[0m 0.8382  \u001b[0m | \u001b[0m 0.0649  \u001b[0m | \u001b[0m 4.022   \u001b[0m | \u001b[0m 0.1108  \u001b[0m | \u001b[0m 2.009   \u001b[0m | \u001b[0m 290.4   \u001b[0m |\n",
            "| \u001b[0m 13      \u001b[0m | \u001b[0m 0.8467  \u001b[0m | \u001b[0m 0.01915 \u001b[0m | \u001b[0m 2.528   \u001b[0m | \u001b[0m 0.7595  \u001b[0m | \u001b[0m 4.85    \u001b[0m | \u001b[0m 227.6   \u001b[0m |\n",
            "| \u001b[0m 14      \u001b[0m | \u001b[0m 0.8331  \u001b[0m | \u001b[0m 0.09839 \u001b[0m | \u001b[0m 4.639   \u001b[0m | \u001b[0m 0.7076  \u001b[0m | \u001b[0m 4.457   \u001b[0m | \u001b[0m 205.7   \u001b[0m |\n",
            "| \u001b[0m 15      \u001b[0m | \u001b[0m 0.8388  \u001b[0m | \u001b[0m 0.08095 \u001b[0m | \u001b[0m 3.273   \u001b[0m | \u001b[0m 0.9281  \u001b[0m | \u001b[0m 3.479   \u001b[0m | \u001b[0m 214.8   \u001b[0m |\n",
            "| \u001b[95m 16      \u001b[0m | \u001b[95m 0.8478  \u001b[0m | \u001b[95m 0.0234  \u001b[0m | \u001b[95m 2.401   \u001b[0m | \u001b[95m 0.7544  \u001b[0m | \u001b[95m 4.218   \u001b[0m | \u001b[95m 251.9   \u001b[0m |\n",
            "| \u001b[95m 17      \u001b[0m | \u001b[95m 0.848   \u001b[0m | \u001b[95m 0.02938 \u001b[0m | \u001b[95m 2.368   \u001b[0m | \u001b[95m 0.6796  \u001b[0m | \u001b[95m 4.301   \u001b[0m | \u001b[95m 252.2   \u001b[0m |\n",
            "| \u001b[0m 18      \u001b[0m | \u001b[0m 0.8463  \u001b[0m | \u001b[0m 0.08043 \u001b[0m | \u001b[0m 2.265   \u001b[0m | \u001b[0m 0.1624  \u001b[0m | \u001b[0m 4.645   \u001b[0m | \u001b[0m 251.7   \u001b[0m |\n",
            "| \u001b[0m 19      \u001b[0m | \u001b[0m 0.8463  \u001b[0m | \u001b[0m 0.09667 \u001b[0m | \u001b[0m 2.166   \u001b[0m | \u001b[0m 0.1107  \u001b[0m | \u001b[0m 4.283   \u001b[0m | \u001b[0m 276.2   \u001b[0m |\n",
            "| \u001b[0m 20      \u001b[0m | \u001b[0m 0.8429  \u001b[0m | \u001b[0m 0.09334 \u001b[0m | \u001b[0m 2.077   \u001b[0m | \u001b[0m 0.601   \u001b[0m | \u001b[0m 3.908   \u001b[0m | \u001b[0m 252.3   \u001b[0m |\n",
            "| \u001b[0m 21      \u001b[0m | \u001b[0m 0.8443  \u001b[0m | \u001b[0m 0.07696 \u001b[0m | \u001b[0m 2.79    \u001b[0m | \u001b[0m 0.4117  \u001b[0m | \u001b[0m 4.704   \u001b[0m | \u001b[0m 252.7   \u001b[0m |\n",
            "| \u001b[0m 22      \u001b[0m | \u001b[0m 0.8407  \u001b[0m | \u001b[0m 0.007368\u001b[0m | \u001b[0m 2.478   \u001b[0m | \u001b[0m 0.6531  \u001b[0m | \u001b[0m 4.658   \u001b[0m | \u001b[0m 252.2   \u001b[0m |\n",
            "| \u001b[0m 23      \u001b[0m | \u001b[0m 0.8464  \u001b[0m | \u001b[0m 0.0204  \u001b[0m | \u001b[0m 3.367   \u001b[0m | \u001b[0m 0.6102  \u001b[0m | \u001b[0m 2.818   \u001b[0m | \u001b[0m 266.8   \u001b[0m |\n",
            "| \u001b[0m 24      \u001b[0m | \u001b[0m 0.8452  \u001b[0m | \u001b[0m 0.06001 \u001b[0m | \u001b[0m 2.524   \u001b[0m | \u001b[0m 0.8335  \u001b[0m | \u001b[0m 2.523   \u001b[0m | \u001b[0m 247.7   \u001b[0m |\n",
            "| \u001b[0m 25      \u001b[0m | \u001b[0m 0.8415  \u001b[0m | \u001b[0m 0.006472\u001b[0m | \u001b[0m 2.415   \u001b[0m | \u001b[0m 0.2729  \u001b[0m | \u001b[0m 4.161   \u001b[0m | \u001b[0m 276.5   \u001b[0m |\n",
            "| \u001b[0m 26      \u001b[0m | \u001b[0m 0.8426  \u001b[0m | \u001b[0m 0.06388 \u001b[0m | \u001b[0m 3.384   \u001b[0m | \u001b[0m 0.418   \u001b[0m | \u001b[0m 3.117   \u001b[0m | \u001b[0m 220.5   \u001b[0m |\n",
            "| \u001b[0m 27      \u001b[0m | \u001b[0m 0.8454  \u001b[0m | \u001b[0m 0.06175 \u001b[0m | \u001b[0m 2.667   \u001b[0m | \u001b[0m 0.4584  \u001b[0m | \u001b[0m 4.231   \u001b[0m | \u001b[0m 252.3   \u001b[0m |\n",
            "| \u001b[0m 28      \u001b[0m | \u001b[0m 0.8405  \u001b[0m | \u001b[0m 0.07011 \u001b[0m | \u001b[0m 3.818   \u001b[0m | \u001b[0m 0.4962  \u001b[0m | \u001b[0m 3.165   \u001b[0m | \u001b[0m 237.1   \u001b[0m |\n",
            "| \u001b[0m 29      \u001b[0m | \u001b[0m 0.84    \u001b[0m | \u001b[0m 0.07895 \u001b[0m | \u001b[0m 3.291   \u001b[0m | \u001b[0m 0.2914  \u001b[0m | \u001b[0m 4.992   \u001b[0m | \u001b[0m 279.6   \u001b[0m |\n",
            "| \u001b[0m 30      \u001b[0m | \u001b[0m 0.8384  \u001b[0m | \u001b[0m 0.04614 \u001b[0m | \u001b[0m 4.854   \u001b[0m | \u001b[0m 0.5446  \u001b[0m | \u001b[0m 2.858   \u001b[0m | \u001b[0m 256.1   \u001b[0m |\n",
            "| \u001b[0m 31      \u001b[0m | \u001b[0m 0.8475  \u001b[0m | \u001b[0m 0.04152 \u001b[0m | \u001b[0m 2.808   \u001b[0m | \u001b[0m 0.4538  \u001b[0m | \u001b[0m 4.271   \u001b[0m | \u001b[0m 252.3   \u001b[0m |\n",
            "| \u001b[0m 32      \u001b[0m | \u001b[0m 0.8475  \u001b[0m | \u001b[0m 0.03557 \u001b[0m | \u001b[0m 2.14    \u001b[0m | \u001b[0m 0.6153  \u001b[0m | \u001b[0m 3.815   \u001b[0m | \u001b[0m 252.4   \u001b[0m |\n",
            "| \u001b[0m 33      \u001b[0m | \u001b[0m 0.8468  \u001b[0m | \u001b[0m 0.01997 \u001b[0m | \u001b[0m 3.391   \u001b[0m | \u001b[0m 0.6324  \u001b[0m | \u001b[0m 4.331   \u001b[0m | \u001b[0m 267.2   \u001b[0m |\n",
            "| \u001b[0m 34      \u001b[0m | \u001b[0m 0.8473  \u001b[0m | \u001b[0m 0.01999 \u001b[0m | \u001b[0m 2.263   \u001b[0m | \u001b[0m 0.6735  \u001b[0m | \u001b[0m 4.296   \u001b[0m | \u001b[0m 251.9   \u001b[0m |\n",
            "| \u001b[0m 35      \u001b[0m | \u001b[0m 0.8377  \u001b[0m | \u001b[0m 0.09932 \u001b[0m | \u001b[0m 3.021   \u001b[0m | \u001b[0m 0.1705  \u001b[0m | \u001b[0m 4.838   \u001b[0m | \u001b[0m 294.6   \u001b[0m |\n",
            "| \u001b[0m 36      \u001b[0m | \u001b[0m 0.8441  \u001b[0m | \u001b[0m 0.0764  \u001b[0m | \u001b[0m 2.906   \u001b[0m | \u001b[0m 0.5242  \u001b[0m | \u001b[0m 4.419   \u001b[0m | \u001b[0m 252.2   \u001b[0m |\n",
            "| \u001b[0m 37      \u001b[0m | \u001b[0m 0.8433  \u001b[0m | \u001b[0m 0.08156 \u001b[0m | \u001b[0m 2.747   \u001b[0m | \u001b[0m 0.716   \u001b[0m | \u001b[0m 4.213   \u001b[0m | \u001b[0m 252.3   \u001b[0m |\n",
            "| \u001b[0m 38      \u001b[0m | \u001b[0m 0.8442  \u001b[0m | \u001b[0m 0.03124 \u001b[0m | \u001b[0m 3.616   \u001b[0m | \u001b[0m 0.8771  \u001b[0m | \u001b[0m 2.951   \u001b[0m | \u001b[0m 248.4   \u001b[0m |\n",
            "| \u001b[0m 39      \u001b[0m | \u001b[0m 0.8456  \u001b[0m | \u001b[0m 0.05619 \u001b[0m | \u001b[0m 2.475   \u001b[0m | \u001b[0m 0.6307  \u001b[0m | \u001b[0m 4.073   \u001b[0m | \u001b[0m 252.0   \u001b[0m |\n",
            "| \u001b[0m 40      \u001b[0m | \u001b[0m 0.847   \u001b[0m | \u001b[0m 0.01885 \u001b[0m | \u001b[0m 2.369   \u001b[0m | \u001b[0m 0.8292  \u001b[0m | \u001b[0m 3.549   \u001b[0m | \u001b[0m 252.3   \u001b[0m |\n",
            "| \u001b[0m 41      \u001b[0m | \u001b[0m 0.8442  \u001b[0m | \u001b[0m 0.06429 \u001b[0m | \u001b[0m 2.778   \u001b[0m | \u001b[0m 0.6665  \u001b[0m | \u001b[0m 4.322   \u001b[0m | \u001b[0m 252.3   \u001b[0m |\n",
            "| \u001b[0m 42      \u001b[0m | \u001b[0m 0.8429  \u001b[0m | \u001b[0m 0.07787 \u001b[0m | \u001b[0m 2.604   \u001b[0m | \u001b[0m 0.8327  \u001b[0m | \u001b[0m 3.288   \u001b[0m | \u001b[0m 267.2   \u001b[0m |\n",
            "| \u001b[0m 43      \u001b[0m | \u001b[0m 0.8462  \u001b[0m | \u001b[0m 0.04884 \u001b[0m | \u001b[0m 2.285   \u001b[0m | \u001b[0m 0.9477  \u001b[0m | \u001b[0m 2.202   \u001b[0m | \u001b[0m 238.7   \u001b[0m |\n",
            "| \u001b[0m 44      \u001b[0m | \u001b[0m 0.848   \u001b[0m | \u001b[0m 0.02394 \u001b[0m | \u001b[0m 2.242   \u001b[0m | \u001b[0m 0.4917  \u001b[0m | \u001b[0m 3.737   \u001b[0m | \u001b[0m 252.2   \u001b[0m |\n",
            "| \u001b[0m 45      \u001b[0m | \u001b[0m 0.8358  \u001b[0m | \u001b[0m 0.08801 \u001b[0m | \u001b[0m 3.67    \u001b[0m | \u001b[0m 0.7355  \u001b[0m | \u001b[0m 3.918   \u001b[0m | \u001b[0m 251.7   \u001b[0m |\n",
            "| \u001b[0m 46      \u001b[0m | \u001b[0m 0.8474  \u001b[0m | \u001b[0m 0.02996 \u001b[0m | \u001b[0m 3.196   \u001b[0m | \u001b[0m 0.1852  \u001b[0m | \u001b[0m 3.515   \u001b[0m | \u001b[0m 224.5   \u001b[0m |\n",
            "| \u001b[0m 47      \u001b[0m | \u001b[0m 0.8478  \u001b[0m | \u001b[0m 0.04486 \u001b[0m | \u001b[0m 3.293   \u001b[0m | \u001b[0m 0.1052  \u001b[0m | \u001b[0m 3.399   \u001b[0m | \u001b[0m 224.4   \u001b[0m |\n",
            "| \u001b[0m 48      \u001b[0m | \u001b[0m 0.8424  \u001b[0m | \u001b[0m 0.0946  \u001b[0m | \u001b[0m 2.364   \u001b[0m | \u001b[0m 0.6551  \u001b[0m | \u001b[0m 3.859   \u001b[0m | \u001b[0m 252.5   \u001b[0m |\n",
            "| \u001b[0m 49      \u001b[0m | \u001b[0m 0.8466  \u001b[0m | \u001b[0m 0.01189 \u001b[0m | \u001b[0m 3.352   \u001b[0m | \u001b[0m 0.6706  \u001b[0m | \u001b[0m 4.041   \u001b[0m | \u001b[0m 267.2   \u001b[0m |\n",
            "| \u001b[0m 50      \u001b[0m | \u001b[0m 0.8441  \u001b[0m | \u001b[0m 0.06986 \u001b[0m | \u001b[0m 2.085   \u001b[0m | \u001b[0m 0.59    \u001b[0m | \u001b[0m 3.657   \u001b[0m | \u001b[0m 252.2   \u001b[0m |\n",
            "| \u001b[0m 51      \u001b[0m | \u001b[0m 0.8426  \u001b[0m | \u001b[0m 0.04593 \u001b[0m | \u001b[0m 3.63    \u001b[0m | \u001b[0m 0.8944  \u001b[0m | \u001b[0m 2.14    \u001b[0m | \u001b[0m 253.4   \u001b[0m |\n",
            "| \u001b[0m 52      \u001b[0m | \u001b[0m 0.8439  \u001b[0m | \u001b[0m 0.06442 \u001b[0m | \u001b[0m 3.123   \u001b[0m | \u001b[0m 0.182   \u001b[0m | \u001b[0m 3.386   \u001b[0m | \u001b[0m 224.4   \u001b[0m |\n",
            "| \u001b[0m 53      \u001b[0m | \u001b[0m 0.8318  \u001b[0m | \u001b[0m 0.001833\u001b[0m | \u001b[0m 2.397   \u001b[0m | \u001b[0m 0.6888  \u001b[0m | \u001b[0m 3.759   \u001b[0m | \u001b[0m 252.0   \u001b[0m |\n",
            "| \u001b[0m 54      \u001b[0m | \u001b[0m 0.844   \u001b[0m | \u001b[0m 0.007168\u001b[0m | \u001b[0m 4.724   \u001b[0m | \u001b[0m 0.869   \u001b[0m | \u001b[0m 3.528   \u001b[0m | \u001b[0m 252.6   \u001b[0m |\n",
            "| \u001b[0m 55      \u001b[0m | \u001b[0m 0.8335  \u001b[0m | \u001b[0m 0.09608 \u001b[0m | \u001b[0m 3.169   \u001b[0m | \u001b[0m 0.9556  \u001b[0m | \u001b[0m 3.584   \u001b[0m | \u001b[0m 283.9   \u001b[0m |\n",
            "| \u001b[0m 56      \u001b[0m | \u001b[0m 0.8432  \u001b[0m | \u001b[0m 0.01422 \u001b[0m | \u001b[0m 2.556   \u001b[0m | \u001b[0m 0.1226  \u001b[0m | \u001b[0m 3.034   \u001b[0m | \u001b[0m 203.9   \u001b[0m |\n",
            "| \u001b[0m 57      \u001b[0m | \u001b[0m 0.8451  \u001b[0m | \u001b[0m 0.05789 \u001b[0m | \u001b[0m 2.435   \u001b[0m | \u001b[0m 0.7242  \u001b[0m | \u001b[0m 2.669   \u001b[0m | \u001b[0m 259.0   \u001b[0m |\n",
            "| \u001b[0m 58      \u001b[0m | \u001b[0m 0.8445  \u001b[0m | \u001b[0m 0.007965\u001b[0m | \u001b[0m 4.531   \u001b[0m | \u001b[0m 0.8648  \u001b[0m | \u001b[0m 3.936   \u001b[0m | \u001b[0m 253.8   \u001b[0m |\n",
            "| \u001b[0m 59      \u001b[0m | \u001b[0m 0.8439  \u001b[0m | \u001b[0m 0.005781\u001b[0m | \u001b[0m 4.913   \u001b[0m | \u001b[0m 0.8097  \u001b[0m | \u001b[0m 2.097   \u001b[0m | \u001b[0m 267.4   \u001b[0m |\n",
            "| \u001b[0m 60      \u001b[0m | \u001b[0m 0.8449  \u001b[0m | \u001b[0m 0.06792 \u001b[0m | \u001b[0m 2.114   \u001b[0m | \u001b[0m 0.3943  \u001b[0m | \u001b[0m 3.843   \u001b[0m | \u001b[0m 252.4   \u001b[0m |\n",
            "=====================================================================================\n"
          ]
        }
      ]
    },
    {
      "cell_type": "code",
      "source": [
        "params = gboost.max['params']\n",
        "params['n_estimators']= int(params['n_estimators'])\n",
        "params['max_depth']= int(params['max_depth'])\n",
        "params['min_samples_split']= int(params['min_samples_split'])"
      ],
      "metadata": {
        "id": "wxXhEDZYpC-g"
      },
      "execution_count": 151,
      "outputs": []
    },
    {
      "cell_type": "code",
      "source": [
        "params"
      ],
      "metadata": {
        "colab": {
          "base_uri": "https://localhost:8080/"
        },
        "id": "CtyDPLcnpLD9",
        "outputId": "ce487bbc-6ed0-4649-9733-14fdecc41e15"
      },
      "execution_count": 152,
      "outputs": [
        {
          "output_type": "execute_result",
          "data": {
            "text/plain": [
              "{'learning_rate': 0.02938215271491487,\n",
              " 'max_depth': 2,\n",
              " 'max_features': 0.67961686099773,\n",
              " 'min_samples_split': 4,\n",
              " 'n_estimators': 252}"
            ]
          },
          "metadata": {},
          "execution_count": 152
        }
      ]
    },
    {
      "cell_type": "code",
      "source": [
        "clf = GradientBoostingClassifier(**params)"
      ],
      "metadata": {
        "id": "B83cFw2FpMto"
      },
      "execution_count": 153,
      "outputs": []
    },
    {
      "cell_type": "code",
      "source": [
        "clf.fit(X, y)"
      ],
      "metadata": {
        "colab": {
          "base_uri": "https://localhost:8080/"
        },
        "id": "DH7hs4Trpe9v",
        "outputId": "41768608-cddc-4191-84ea-ff79fbb745ca"
      },
      "execution_count": 154,
      "outputs": [
        {
          "output_type": "execute_result",
          "data": {
            "text/plain": [
              "GradientBoostingClassifier(learning_rate=0.02938215271491487, max_depth=2,\n",
              "                           max_features=0.67961686099773, min_samples_split=4,\n",
              "                           n_estimators=252)"
            ]
          },
          "metadata": {},
          "execution_count": 154
        }
      ]
    },
    {
      "cell_type": "code",
      "source": [
        "X_test_origin = pd.read_csv('test.csv')\n",
        "X_test_origin['TotalSpent'] = X_test_origin['TotalSpent'].where(X_test_origin['ClientPeriod'] > 0, X_test_origin['MonthlySpending'])\n",
        "X_test_origin['ClientPeriod'] = X_test_origin['ClientPeriod'].where(X_test_origin['ClientPeriod'] > 0, 1)\n",
        "X_test_origin['TotalSpent'] = pd.to_numeric(X_test_origin['TotalSpent'])\n",
        "X_test_origin = preprocessing.transform(X_test_origin)\n",
        "X_test_origin = pd.DataFrame(data = X_test_origin)\n",
        "submission = pd.read_csv('submission.csv')\n",
        "submission['Churn'] = clf.predict_proba(X_test_origin)[:, 1]\n",
        "submission.to_csv('my_submission.csv', index=False)"
      ],
      "metadata": {
        "id": "EJJbW177pjeI"
      },
      "execution_count": 155,
      "outputs": []
    }
  ]
}