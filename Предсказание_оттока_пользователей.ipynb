{
  "nbformat": 4,
  "nbformat_minor": 0,
  "metadata": {
    "colab": {
      "name": "Предсказание оттока пользователей.ipynb",
      "provenance": [],
      "collapsed_sections": [],
      "toc_visible": true,
      "authorship_tag": "ABX9TyMcRhMxo7vt6Foc2dqcJH6a",
      "include_colab_link": true
    },
    "kernelspec": {
      "name": "python3",
      "display_name": "Python 3"
    },
    "language_info": {
      "name": "python"
    }
  },
  "cells": [
    {
      "cell_type": "markdown",
      "metadata": {
        "id": "view-in-github",
        "colab_type": "text"
      },
      "source": [
        "<a href=\"https://colab.research.google.com/github/lordoz234/ML_Homework/blob/main/%D0%9F%D1%80%D0%B5%D0%B4%D1%81%D0%BA%D0%B0%D0%B7%D0%B0%D0%BD%D0%B8%D0%B5_%D0%BE%D1%82%D1%82%D0%BE%D0%BA%D0%B0_%D0%BF%D0%BE%D0%BB%D1%8C%D0%B7%D0%BE%D0%B2%D0%B0%D1%82%D0%B5%D0%BB%D0%B5%D0%B9.ipynb\" target=\"_parent\"><img src=\"https://colab.research.google.com/assets/colab-badge.svg\" alt=\"Open In Colab\"/></a>"
      ]
    },
    {
      "cell_type": "markdown",
      "metadata": {
        "id": "frbm0QVI61Iy"
      },
      "source": [
        "# Предсказание оттока пользователей"
      ]
    },
    {
      "cell_type": "markdown",
      "metadata": {
        "id": "HFUoYAnVHySI"
      },
      "source": [
        "Имеется следующий набор данных:\n",
        "\n",
        "1.   **ClientPeriod** - период пользования услугами компании\n",
        "2.   **MonthlySpending** - траты клиента за месяц\n",
        "3.   **TotalSpent** - общие траты клиента\n",
        "4.   **Sex** - пол клиента\n",
        "5.   **IsSeniorCitizen** - находится ли клиент в пожилом возрасте\n",
        "6.   **HasPartner** - семейное положение\n",
        "7.   **HasChild** - наличие детей\n",
        "8.   **HasPhoneService** - наличие мобильного телефона\n",
        "9.   **HasMultiplePhoneNumbers** - наличие нескольких телефонных номеров\n",
        "10.  **HasOnlineBackup** - наличие облачных хранилищ у клиента\n",
        "11.  **HasDeviceProtection** - наличие защиты устройства \n",
        "12.  **HasTechSupportAccess** - наличие доступа к технической поддержке\n",
        "13.  **HasOnlineTV** - наличие стримингового сервиса\n",
        "14.  **HasMovieSubscription** - наличие подписки в онлайн кинотеатре\n",
        "15.  **HasContractPhone** - наличие контактного телефона\n",
        "16.  **IsBillingPaperless** - является ли счет электронным\n",
        "17.  **PaymentMethod** - метод оплаты\n",
        "\n",
        "По этим данным необходимо предсказать отток пользователей. Целевой переменной явялется **Churn**, которая принимает одно из двух значений: **0** - клиент остался, **1** - клиент ушел\n"
      ]
    },
    {
      "cell_type": "markdown",
      "metadata": {
        "id": "4hcW5nz764fm"
      },
      "source": [
        "Предстоит научиться моделировать отток клиентов телеком компании. Эта задача очень важна на практике, и алгоритмы для ее решения используются в реальных телеком компаниях, ведь если мы знаем, что клиент собирается уйти от нас, то мы попытаться удержать его, предложив различные бонусы"
      ]
    },
    {
      "cell_type": "code",
      "metadata": {
        "id": "YWGQ3BH8LFLI"
      },
      "source": [
        "import numpy as np\n",
        "import pandas as pd\n",
        "from matplotlib import pyplot as plt\n",
        "%matplotlib inline\n",
        "from tqdm import tqdm_notebook  \n",
        "from sklearn import preprocessing\n",
        "import warnings\n",
        "warnings.filterwarnings('ignore')"
      ],
      "execution_count": null,
      "outputs": []
    },
    {
      "cell_type": "code",
      "metadata": {
        "id": "L739kuyTPSV8"
      },
      "source": [
        "data = pd.read_csv(\"train.csv\")"
      ],
      "execution_count": null,
      "outputs": []
    },
    {
      "cell_type": "markdown",
      "metadata": {
        "id": "FoHj90awPcC3"
      },
      "source": [
        "Посмотрим на признаки:"
      ]
    },
    {
      "cell_type": "code",
      "metadata": {
        "colab": {
          "base_uri": "https://localhost:8080/"
        },
        "id": "B8yD0X0VPeml",
        "outputId": "b0029dd6-0f8f-47ba-c57c-26ad8fba0dde"
      },
      "source": [
        "data.info()"
      ],
      "execution_count": null,
      "outputs": [
        {
          "output_type": "stream",
          "name": "stdout",
          "text": [
            "<class 'pandas.core.frame.DataFrame'>\n",
            "RangeIndex: 5282 entries, 0 to 5281\n",
            "Data columns (total 20 columns):\n",
            " #   Column                    Non-Null Count  Dtype  \n",
            "---  ------                    --------------  -----  \n",
            " 0   ClientPeriod              5282 non-null   int64  \n",
            " 1   MonthlySpending           5282 non-null   float64\n",
            " 2   TotalSpent                5282 non-null   object \n",
            " 3   Sex                       5282 non-null   object \n",
            " 4   IsSeniorCitizen           5282 non-null   int64  \n",
            " 5   HasPartner                5282 non-null   object \n",
            " 6   HasChild                  5282 non-null   object \n",
            " 7   HasPhoneService           5282 non-null   object \n",
            " 8   HasMultiplePhoneNumbers   5282 non-null   object \n",
            " 9   HasInternetService        5282 non-null   object \n",
            " 10  HasOnlineSecurityService  5282 non-null   object \n",
            " 11  HasOnlineBackup           5282 non-null   object \n",
            " 12  HasDeviceProtection       5282 non-null   object \n",
            " 13  HasTechSupportAccess      5282 non-null   object \n",
            " 14  HasOnlineTV               5282 non-null   object \n",
            " 15  HasMovieSubscription      5282 non-null   object \n",
            " 16  HasContractPhone          5282 non-null   object \n",
            " 17  IsBillingPaperless        5282 non-null   object \n",
            " 18  PaymentMethod             5282 non-null   object \n",
            " 19  Churn                     5282 non-null   int64  \n",
            "dtypes: float64(1), int64(3), object(16)\n",
            "memory usage: 825.4+ KB\n"
          ]
        }
      ]
    },
    {
      "cell_type": "code",
      "metadata": {
        "colab": {
          "base_uri": "https://localhost:8080/",
          "height": 275
        },
        "id": "re-f8FL9PW5Q",
        "outputId": "e308508a-7be6-4a3b-d538-a577b0b7c2de"
      },
      "source": [
        "data.head()"
      ],
      "execution_count": null,
      "outputs": [
        {
          "output_type": "execute_result",
          "data": {
            "text/html": [
              "<div>\n",
              "<style scoped>\n",
              "    .dataframe tbody tr th:only-of-type {\n",
              "        vertical-align: middle;\n",
              "    }\n",
              "\n",
              "    .dataframe tbody tr th {\n",
              "        vertical-align: top;\n",
              "    }\n",
              "\n",
              "    .dataframe thead th {\n",
              "        text-align: right;\n",
              "    }\n",
              "</style>\n",
              "<table border=\"1\" class=\"dataframe\">\n",
              "  <thead>\n",
              "    <tr style=\"text-align: right;\">\n",
              "      <th></th>\n",
              "      <th>ClientPeriod</th>\n",
              "      <th>MonthlySpending</th>\n",
              "      <th>TotalSpent</th>\n",
              "      <th>Sex</th>\n",
              "      <th>IsSeniorCitizen</th>\n",
              "      <th>HasPartner</th>\n",
              "      <th>HasChild</th>\n",
              "      <th>HasPhoneService</th>\n",
              "      <th>HasMultiplePhoneNumbers</th>\n",
              "      <th>HasInternetService</th>\n",
              "      <th>HasOnlineSecurityService</th>\n",
              "      <th>HasOnlineBackup</th>\n",
              "      <th>HasDeviceProtection</th>\n",
              "      <th>HasTechSupportAccess</th>\n",
              "      <th>HasOnlineTV</th>\n",
              "      <th>HasMovieSubscription</th>\n",
              "      <th>HasContractPhone</th>\n",
              "      <th>IsBillingPaperless</th>\n",
              "      <th>PaymentMethod</th>\n",
              "      <th>Churn</th>\n",
              "    </tr>\n",
              "  </thead>\n",
              "  <tbody>\n",
              "    <tr>\n",
              "      <th>0</th>\n",
              "      <td>55</td>\n",
              "      <td>19.50</td>\n",
              "      <td>1026.35</td>\n",
              "      <td>Male</td>\n",
              "      <td>0</td>\n",
              "      <td>Yes</td>\n",
              "      <td>Yes</td>\n",
              "      <td>Yes</td>\n",
              "      <td>No</td>\n",
              "      <td>No</td>\n",
              "      <td>No internet service</td>\n",
              "      <td>No internet service</td>\n",
              "      <td>No internet service</td>\n",
              "      <td>No internet service</td>\n",
              "      <td>No internet service</td>\n",
              "      <td>No internet service</td>\n",
              "      <td>One year</td>\n",
              "      <td>No</td>\n",
              "      <td>Mailed check</td>\n",
              "      <td>0</td>\n",
              "    </tr>\n",
              "    <tr>\n",
              "      <th>1</th>\n",
              "      <td>72</td>\n",
              "      <td>25.85</td>\n",
              "      <td>1872.2</td>\n",
              "      <td>Male</td>\n",
              "      <td>0</td>\n",
              "      <td>Yes</td>\n",
              "      <td>No</td>\n",
              "      <td>Yes</td>\n",
              "      <td>Yes</td>\n",
              "      <td>No</td>\n",
              "      <td>No internet service</td>\n",
              "      <td>No internet service</td>\n",
              "      <td>No internet service</td>\n",
              "      <td>No internet service</td>\n",
              "      <td>No internet service</td>\n",
              "      <td>No internet service</td>\n",
              "      <td>Two year</td>\n",
              "      <td>No</td>\n",
              "      <td>Credit card (automatic)</td>\n",
              "      <td>0</td>\n",
              "    </tr>\n",
              "    <tr>\n",
              "      <th>2</th>\n",
              "      <td>1</td>\n",
              "      <td>75.90</td>\n",
              "      <td>75.9</td>\n",
              "      <td>Male</td>\n",
              "      <td>0</td>\n",
              "      <td>No</td>\n",
              "      <td>No</td>\n",
              "      <td>Yes</td>\n",
              "      <td>No</td>\n",
              "      <td>Fiber optic</td>\n",
              "      <td>No</td>\n",
              "      <td>No</td>\n",
              "      <td>No</td>\n",
              "      <td>Yes</td>\n",
              "      <td>No</td>\n",
              "      <td>No</td>\n",
              "      <td>Month-to-month</td>\n",
              "      <td>Yes</td>\n",
              "      <td>Electronic check</td>\n",
              "      <td>1</td>\n",
              "    </tr>\n",
              "    <tr>\n",
              "      <th>3</th>\n",
              "      <td>32</td>\n",
              "      <td>79.30</td>\n",
              "      <td>2570</td>\n",
              "      <td>Female</td>\n",
              "      <td>1</td>\n",
              "      <td>Yes</td>\n",
              "      <td>No</td>\n",
              "      <td>Yes</td>\n",
              "      <td>Yes</td>\n",
              "      <td>Fiber optic</td>\n",
              "      <td>No</td>\n",
              "      <td>No</td>\n",
              "      <td>Yes</td>\n",
              "      <td>No</td>\n",
              "      <td>No</td>\n",
              "      <td>No</td>\n",
              "      <td>Month-to-month</td>\n",
              "      <td>No</td>\n",
              "      <td>Mailed check</td>\n",
              "      <td>0</td>\n",
              "    </tr>\n",
              "    <tr>\n",
              "      <th>4</th>\n",
              "      <td>60</td>\n",
              "      <td>115.25</td>\n",
              "      <td>6758.45</td>\n",
              "      <td>Female</td>\n",
              "      <td>0</td>\n",
              "      <td>Yes</td>\n",
              "      <td>Yes</td>\n",
              "      <td>Yes</td>\n",
              "      <td>Yes</td>\n",
              "      <td>Fiber optic</td>\n",
              "      <td>Yes</td>\n",
              "      <td>Yes</td>\n",
              "      <td>Yes</td>\n",
              "      <td>Yes</td>\n",
              "      <td>Yes</td>\n",
              "      <td>Yes</td>\n",
              "      <td>Two year</td>\n",
              "      <td>No</td>\n",
              "      <td>Credit card (automatic)</td>\n",
              "      <td>0</td>\n",
              "    </tr>\n",
              "  </tbody>\n",
              "</table>\n",
              "</div>"
            ],
            "text/plain": [
              "   ClientPeriod  MonthlySpending  ...            PaymentMethod Churn\n",
              "0            55            19.50  ...             Mailed check     0\n",
              "1            72            25.85  ...  Credit card (automatic)     0\n",
              "2             1            75.90  ...         Electronic check     1\n",
              "3            32            79.30  ...             Mailed check     0\n",
              "4            60           115.25  ...  Credit card (automatic)     0\n",
              "\n",
              "[5 rows x 20 columns]"
            ]
          },
          "metadata": {},
          "execution_count": 13
        }
      ]
    },
    {
      "cell_type": "markdown",
      "metadata": {
        "id": "809gW3k0P2pP"
      },
      "source": [
        "Как видно из таблицы, поставлена задача *бинарной классификации*, состоящая в предсказании оттока пользователей"
      ]
    },
    {
      "cell_type": "code",
      "metadata": {
        "colab": {
          "base_uri": "https://localhost:8080/",
          "height": 297
        },
        "id": "Regt1melU0Bz",
        "outputId": "430c0560-5c0a-48e0-d119-d35efe50cd71"
      },
      "source": [
        "data.describe()"
      ],
      "execution_count": null,
      "outputs": [
        {
          "output_type": "execute_result",
          "data": {
            "text/html": [
              "<div>\n",
              "<style scoped>\n",
              "    .dataframe tbody tr th:only-of-type {\n",
              "        vertical-align: middle;\n",
              "    }\n",
              "\n",
              "    .dataframe tbody tr th {\n",
              "        vertical-align: top;\n",
              "    }\n",
              "\n",
              "    .dataframe thead th {\n",
              "        text-align: right;\n",
              "    }\n",
              "</style>\n",
              "<table border=\"1\" class=\"dataframe\">\n",
              "  <thead>\n",
              "    <tr style=\"text-align: right;\">\n",
              "      <th></th>\n",
              "      <th>ClientPeriod</th>\n",
              "      <th>MonthlySpending</th>\n",
              "      <th>IsSeniorCitizen</th>\n",
              "      <th>Churn</th>\n",
              "    </tr>\n",
              "  </thead>\n",
              "  <tbody>\n",
              "    <tr>\n",
              "      <th>count</th>\n",
              "      <td>5282.000000</td>\n",
              "      <td>5282.000000</td>\n",
              "      <td>5282.000000</td>\n",
              "      <td>5282.000000</td>\n",
              "    </tr>\n",
              "    <tr>\n",
              "      <th>mean</th>\n",
              "      <td>32.397009</td>\n",
              "      <td>64.924754</td>\n",
              "      <td>0.159409</td>\n",
              "      <td>0.262022</td>\n",
              "    </tr>\n",
              "    <tr>\n",
              "      <th>std</th>\n",
              "      <td>24.550326</td>\n",
              "      <td>30.176464</td>\n",
              "      <td>0.366092</td>\n",
              "      <td>0.439776</td>\n",
              "    </tr>\n",
              "    <tr>\n",
              "      <th>min</th>\n",
              "      <td>0.000000</td>\n",
              "      <td>18.250000</td>\n",
              "      <td>0.000000</td>\n",
              "      <td>0.000000</td>\n",
              "    </tr>\n",
              "    <tr>\n",
              "      <th>25%</th>\n",
              "      <td>9.000000</td>\n",
              "      <td>35.462500</td>\n",
              "      <td>0.000000</td>\n",
              "      <td>0.000000</td>\n",
              "    </tr>\n",
              "    <tr>\n",
              "      <th>50%</th>\n",
              "      <td>29.000000</td>\n",
              "      <td>70.400000</td>\n",
              "      <td>0.000000</td>\n",
              "      <td>0.000000</td>\n",
              "    </tr>\n",
              "    <tr>\n",
              "      <th>75%</th>\n",
              "      <td>55.000000</td>\n",
              "      <td>90.050000</td>\n",
              "      <td>0.000000</td>\n",
              "      <td>1.000000</td>\n",
              "    </tr>\n",
              "    <tr>\n",
              "      <th>max</th>\n",
              "      <td>72.000000</td>\n",
              "      <td>118.750000</td>\n",
              "      <td>1.000000</td>\n",
              "      <td>1.000000</td>\n",
              "    </tr>\n",
              "  </tbody>\n",
              "</table>\n",
              "</div>"
            ],
            "text/plain": [
              "       ClientPeriod  MonthlySpending  IsSeniorCitizen        Churn\n",
              "count   5282.000000      5282.000000      5282.000000  5282.000000\n",
              "mean      32.397009        64.924754         0.159409     0.262022\n",
              "std       24.550326        30.176464         0.366092     0.439776\n",
              "min        0.000000        18.250000         0.000000     0.000000\n",
              "25%        9.000000        35.462500         0.000000     0.000000\n",
              "50%       29.000000        70.400000         0.000000     0.000000\n",
              "75%       55.000000        90.050000         0.000000     1.000000\n",
              "max       72.000000       118.750000         1.000000     1.000000"
            ]
          },
          "metadata": {},
          "execution_count": 14
        }
      ]
    },
    {
      "cell_type": "markdown",
      "metadata": {
        "id": "9H7cDMkRYkzH"
      },
      "source": [
        "#Обработка пропусков"
      ]
    },
    {
      "cell_type": "markdown",
      "metadata": {
        "id": "YaCK2fI3Da2W"
      },
      "source": [
        "Проверим наличие пропусков в датасете:"
      ]
    },
    {
      "cell_type": "code",
      "metadata": {
        "colab": {
          "base_uri": "https://localhost:8080/"
        },
        "id": "q16lFZ_OYmyH",
        "outputId": "15b3720c-a6f4-4ddb-d0a9-48edbf887408"
      },
      "source": [
        "data.isnull().sum()"
      ],
      "execution_count": null,
      "outputs": [
        {
          "output_type": "execute_result",
          "data": {
            "text/plain": [
              "ClientPeriod                0\n",
              "MonthlySpending             0\n",
              "TotalSpent                  0\n",
              "Sex                         0\n",
              "IsSeniorCitizen             0\n",
              "HasPartner                  0\n",
              "HasChild                    0\n",
              "HasPhoneService             0\n",
              "HasMultiplePhoneNumbers     0\n",
              "HasInternetService          0\n",
              "HasOnlineSecurityService    0\n",
              "HasOnlineBackup             0\n",
              "HasDeviceProtection         0\n",
              "HasTechSupportAccess        0\n",
              "HasOnlineTV                 0\n",
              "HasMovieSubscription        0\n",
              "HasContractPhone            0\n",
              "IsBillingPaperless          0\n",
              "PaymentMethod               0\n",
              "Churn                       0\n",
              "dtype: int64"
            ]
          },
          "metadata": {},
          "execution_count": 15
        }
      ]
    },
    {
      "cell_type": "markdown",
      "metadata": {
        "id": "-wCpYkAqYrKy"
      },
      "source": [
        "Пропусков данный датасет не содержит, однако признак TotalSpent не является числовым"
      ]
    },
    {
      "cell_type": "code",
      "metadata": {
        "colab": {
          "base_uri": "https://localhost:8080/",
          "height": 467
        },
        "id": "2tmUHpYnYz2_",
        "outputId": "36e842eb-35c7-4755-da9d-b6f9c79e40bb"
      },
      "source": [
        "data.query('TotalSpent == \" \"')"
      ],
      "execution_count": null,
      "outputs": [
        {
          "output_type": "execute_result",
          "data": {
            "text/html": [
              "<div>\n",
              "<style scoped>\n",
              "    .dataframe tbody tr th:only-of-type {\n",
              "        vertical-align: middle;\n",
              "    }\n",
              "\n",
              "    .dataframe tbody tr th {\n",
              "        vertical-align: top;\n",
              "    }\n",
              "\n",
              "    .dataframe thead th {\n",
              "        text-align: right;\n",
              "    }\n",
              "</style>\n",
              "<table border=\"1\" class=\"dataframe\">\n",
              "  <thead>\n",
              "    <tr style=\"text-align: right;\">\n",
              "      <th></th>\n",
              "      <th>ClientPeriod</th>\n",
              "      <th>MonthlySpending</th>\n",
              "      <th>TotalSpent</th>\n",
              "      <th>Sex</th>\n",
              "      <th>IsSeniorCitizen</th>\n",
              "      <th>HasPartner</th>\n",
              "      <th>HasChild</th>\n",
              "      <th>HasPhoneService</th>\n",
              "      <th>HasMultiplePhoneNumbers</th>\n",
              "      <th>HasInternetService</th>\n",
              "      <th>HasOnlineSecurityService</th>\n",
              "      <th>HasOnlineBackup</th>\n",
              "      <th>HasDeviceProtection</th>\n",
              "      <th>HasTechSupportAccess</th>\n",
              "      <th>HasOnlineTV</th>\n",
              "      <th>HasMovieSubscription</th>\n",
              "      <th>HasContractPhone</th>\n",
              "      <th>IsBillingPaperless</th>\n",
              "      <th>PaymentMethod</th>\n",
              "      <th>Churn</th>\n",
              "    </tr>\n",
              "  </thead>\n",
              "  <tbody>\n",
              "    <tr>\n",
              "      <th>1048</th>\n",
              "      <td>0</td>\n",
              "      <td>25.75</td>\n",
              "      <td></td>\n",
              "      <td>Male</td>\n",
              "      <td>0</td>\n",
              "      <td>Yes</td>\n",
              "      <td>Yes</td>\n",
              "      <td>Yes</td>\n",
              "      <td>Yes</td>\n",
              "      <td>No</td>\n",
              "      <td>No internet service</td>\n",
              "      <td>No internet service</td>\n",
              "      <td>No internet service</td>\n",
              "      <td>No internet service</td>\n",
              "      <td>No internet service</td>\n",
              "      <td>No internet service</td>\n",
              "      <td>Two year</td>\n",
              "      <td>No</td>\n",
              "      <td>Mailed check</td>\n",
              "      <td>0</td>\n",
              "    </tr>\n",
              "    <tr>\n",
              "      <th>1707</th>\n",
              "      <td>0</td>\n",
              "      <td>73.35</td>\n",
              "      <td></td>\n",
              "      <td>Female</td>\n",
              "      <td>0</td>\n",
              "      <td>Yes</td>\n",
              "      <td>Yes</td>\n",
              "      <td>Yes</td>\n",
              "      <td>Yes</td>\n",
              "      <td>DSL</td>\n",
              "      <td>No</td>\n",
              "      <td>Yes</td>\n",
              "      <td>Yes</td>\n",
              "      <td>Yes</td>\n",
              "      <td>Yes</td>\n",
              "      <td>No</td>\n",
              "      <td>Two year</td>\n",
              "      <td>No</td>\n",
              "      <td>Mailed check</td>\n",
              "      <td>0</td>\n",
              "    </tr>\n",
              "    <tr>\n",
              "      <th>2543</th>\n",
              "      <td>0</td>\n",
              "      <td>19.70</td>\n",
              "      <td></td>\n",
              "      <td>Male</td>\n",
              "      <td>0</td>\n",
              "      <td>Yes</td>\n",
              "      <td>Yes</td>\n",
              "      <td>Yes</td>\n",
              "      <td>No</td>\n",
              "      <td>No</td>\n",
              "      <td>No internet service</td>\n",
              "      <td>No internet service</td>\n",
              "      <td>No internet service</td>\n",
              "      <td>No internet service</td>\n",
              "      <td>No internet service</td>\n",
              "      <td>No internet service</td>\n",
              "      <td>One year</td>\n",
              "      <td>Yes</td>\n",
              "      <td>Mailed check</td>\n",
              "      <td>0</td>\n",
              "    </tr>\n",
              "    <tr>\n",
              "      <th>3078</th>\n",
              "      <td>0</td>\n",
              "      <td>80.85</td>\n",
              "      <td></td>\n",
              "      <td>Female</td>\n",
              "      <td>0</td>\n",
              "      <td>Yes</td>\n",
              "      <td>Yes</td>\n",
              "      <td>Yes</td>\n",
              "      <td>No</td>\n",
              "      <td>DSL</td>\n",
              "      <td>Yes</td>\n",
              "      <td>Yes</td>\n",
              "      <td>Yes</td>\n",
              "      <td>No</td>\n",
              "      <td>Yes</td>\n",
              "      <td>Yes</td>\n",
              "      <td>Two year</td>\n",
              "      <td>No</td>\n",
              "      <td>Mailed check</td>\n",
              "      <td>0</td>\n",
              "    </tr>\n",
              "    <tr>\n",
              "      <th>3697</th>\n",
              "      <td>0</td>\n",
              "      <td>20.00</td>\n",
              "      <td></td>\n",
              "      <td>Female</td>\n",
              "      <td>0</td>\n",
              "      <td>Yes</td>\n",
              "      <td>Yes</td>\n",
              "      <td>Yes</td>\n",
              "      <td>No</td>\n",
              "      <td>No</td>\n",
              "      <td>No internet service</td>\n",
              "      <td>No internet service</td>\n",
              "      <td>No internet service</td>\n",
              "      <td>No internet service</td>\n",
              "      <td>No internet service</td>\n",
              "      <td>No internet service</td>\n",
              "      <td>Two year</td>\n",
              "      <td>No</td>\n",
              "      <td>Mailed check</td>\n",
              "      <td>0</td>\n",
              "    </tr>\n",
              "    <tr>\n",
              "      <th>4002</th>\n",
              "      <td>0</td>\n",
              "      <td>61.90</td>\n",
              "      <td></td>\n",
              "      <td>Male</td>\n",
              "      <td>0</td>\n",
              "      <td>No</td>\n",
              "      <td>Yes</td>\n",
              "      <td>Yes</td>\n",
              "      <td>Yes</td>\n",
              "      <td>DSL</td>\n",
              "      <td>Yes</td>\n",
              "      <td>Yes</td>\n",
              "      <td>No</td>\n",
              "      <td>Yes</td>\n",
              "      <td>No</td>\n",
              "      <td>No</td>\n",
              "      <td>Two year</td>\n",
              "      <td>Yes</td>\n",
              "      <td>Bank transfer (automatic)</td>\n",
              "      <td>0</td>\n",
              "    </tr>\n",
              "    <tr>\n",
              "      <th>4326</th>\n",
              "      <td>0</td>\n",
              "      <td>25.35</td>\n",
              "      <td></td>\n",
              "      <td>Male</td>\n",
              "      <td>0</td>\n",
              "      <td>Yes</td>\n",
              "      <td>Yes</td>\n",
              "      <td>Yes</td>\n",
              "      <td>Yes</td>\n",
              "      <td>No</td>\n",
              "      <td>No internet service</td>\n",
              "      <td>No internet service</td>\n",
              "      <td>No internet service</td>\n",
              "      <td>No internet service</td>\n",
              "      <td>No internet service</td>\n",
              "      <td>No internet service</td>\n",
              "      <td>Two year</td>\n",
              "      <td>No</td>\n",
              "      <td>Mailed check</td>\n",
              "      <td>0</td>\n",
              "    </tr>\n",
              "    <tr>\n",
              "      <th>4551</th>\n",
              "      <td>0</td>\n",
              "      <td>52.55</td>\n",
              "      <td></td>\n",
              "      <td>Female</td>\n",
              "      <td>0</td>\n",
              "      <td>Yes</td>\n",
              "      <td>Yes</td>\n",
              "      <td>No</td>\n",
              "      <td>No phone service</td>\n",
              "      <td>DSL</td>\n",
              "      <td>Yes</td>\n",
              "      <td>No</td>\n",
              "      <td>Yes</td>\n",
              "      <td>Yes</td>\n",
              "      <td>Yes</td>\n",
              "      <td>No</td>\n",
              "      <td>Two year</td>\n",
              "      <td>Yes</td>\n",
              "      <td>Bank transfer (automatic)</td>\n",
              "      <td>0</td>\n",
              "    </tr>\n",
              "    <tr>\n",
              "      <th>4598</th>\n",
              "      <td>0</td>\n",
              "      <td>56.05</td>\n",
              "      <td></td>\n",
              "      <td>Female</td>\n",
              "      <td>0</td>\n",
              "      <td>Yes</td>\n",
              "      <td>Yes</td>\n",
              "      <td>No</td>\n",
              "      <td>No phone service</td>\n",
              "      <td>DSL</td>\n",
              "      <td>Yes</td>\n",
              "      <td>Yes</td>\n",
              "      <td>Yes</td>\n",
              "      <td>Yes</td>\n",
              "      <td>Yes</td>\n",
              "      <td>No</td>\n",
              "      <td>Two year</td>\n",
              "      <td>No</td>\n",
              "      <td>Credit card (automatic)</td>\n",
              "      <td>0</td>\n",
              "    </tr>\n",
              "  </tbody>\n",
              "</table>\n",
              "</div>"
            ],
            "text/plain": [
              "      ClientPeriod  MonthlySpending  ...              PaymentMethod Churn\n",
              "1048             0            25.75  ...               Mailed check     0\n",
              "1707             0            73.35  ...               Mailed check     0\n",
              "2543             0            19.70  ...               Mailed check     0\n",
              "3078             0            80.85  ...               Mailed check     0\n",
              "3697             0            20.00  ...               Mailed check     0\n",
              "4002             0            61.90  ...  Bank transfer (automatic)     0\n",
              "4326             0            25.35  ...               Mailed check     0\n",
              "4551             0            52.55  ...  Bank transfer (automatic)     0\n",
              "4598             0            56.05  ...    Credit card (automatic)     0\n",
              "\n",
              "[9 rows x 20 columns]"
            ]
          },
          "metadata": {},
          "execution_count": 16
        }
      ]
    },
    {
      "cell_type": "code",
      "metadata": {
        "id": "d8a3rNEzZa9h"
      },
      "source": [
        "data['TotalSpent'] = data['TotalSpent'].where(data['ClientPeriod'] > 0, data['MonthlySpending'])\n",
        "data['ClientPeriod'] = data['ClientPeriod'].where(data['ClientPeriod'] > 0, 1)\n",
        "data['TotalSpent'] = pd.to_numeric(data['TotalSpent'])"
      ],
      "execution_count": null,
      "outputs": []
    },
    {
      "cell_type": "markdown",
      "metadata": {
        "id": "0_wj0K68czL7"
      },
      "source": [
        "#Анализ данных"
      ]
    },
    {
      "cell_type": "markdown",
      "metadata": {
        "id": "5iq8AC1zQQrI"
      },
      "source": [
        "Разделим признаки на числовые и категориальные:"
      ]
    },
    {
      "cell_type": "code",
      "metadata": {
        "colab": {
          "base_uri": "https://localhost:8080/"
        },
        "id": "XI72IGqPQrUL",
        "outputId": "42b0ac49-8610-4fcb-f2d8-c5bc1f9982eb"
      },
      "source": [
        "cat_cols = [x for x in data.columns if data[x].dtype == 'object']\n",
        "num_cols = [x for x in data.columns if data[x].dtype in ['int64', 'float64'] and x != 'Churn']\n",
        "target_col = \"Churn\"\n",
        "print(\"Категориальные признаки: \", \", \".join(cat_cols))\n",
        "print(\"Числовые признаки: \", \", \".join(num_cols))\n",
        "print(\"Целевой признак: \", target_col)"
      ],
      "execution_count": null,
      "outputs": [
        {
          "output_type": "stream",
          "name": "stdout",
          "text": [
            "Категориальные признаки:  Sex, HasPartner, HasChild, HasPhoneService, HasMultiplePhoneNumbers, HasInternetService, HasOnlineSecurityService, HasOnlineBackup, HasDeviceProtection, HasTechSupportAccess, HasOnlineTV, HasMovieSubscription, HasContractPhone, IsBillingPaperless, PaymentMethod\n",
            "Числовые признаки:  ClientPeriod, MonthlySpending, TotalSpent, IsSeniorCitizen\n",
            "Целевой признак:  Churn\n"
          ]
        }
      ]
    },
    {
      "cell_type": "markdown",
      "metadata": {
        "id": "h8vQz6iIRdsG"
      },
      "source": [
        "Посмотрим на распределение целевой переменной:"
      ]
    },
    {
      "cell_type": "code",
      "metadata": {
        "colab": {
          "base_uri": "https://localhost:8080/",
          "height": 248
        },
        "id": "BLBJW0CcRhyC",
        "outputId": "3836f492-254f-47e3-f551-439a7c20029f"
      },
      "source": [
        "plt.pie(data.Churn.value_counts(), labels = [\"False\", \"True\"], autopct='%1.1f%%')\n",
        "pass"
      ],
      "execution_count": null,
      "outputs": [
        {
          "output_type": "display_data",
          "data": {
            "image/png": "[encoded data removed]",
            "text/plain": [
              "<Figure size 432x288 with 1 Axes>"
            ]
          },
          "metadata": {}
        }
      ]
    },
    {
      "cell_type": "markdown",
      "metadata": {
        "id": "8bmGHTCRSzJp"
      },
      "source": [
        "Можно сделать *вывод* о том, что выборка несбалансированна"
      ]
    },
    {
      "cell_type": "code",
      "metadata": {
        "colab": {
          "base_uri": "https://localhost:8080/",
          "height": 1000
        },
        "id": "cOsH9tDMXIjC",
        "outputId": "73841062-3170-44ff-c975-da7a02768da4"
      },
      "source": [
        "cat_cols.append(\"Churn\")\n",
        "fig, axes = plt.subplots(4, 4, figsize=(20, 20))\n",
        "fig.suptitle(\"Categorical attributes\", fontweight=\"bold\", fontsize = 20)\n",
        "for i, col in enumerate(cat_cols):\n",
        "    column_values = data[col].value_counts()\n",
        "    labels = column_values.index\n",
        "    sizes = column_values.values\n",
        "\n",
        "    axes[i//4, i%4].pie(sizes, labels=labels, autopct='%1.1f%%', startangle=90)\n",
        "    axes[i//4, i%4].axis('equal')\n",
        "    axes[i//4, i%4].set_title(col)\n",
        "plt.show()\n",
        "cat_cols.remove(\"Churn\")"
      ],
      "execution_count": null,
      "outputs": [
        {
          "output_type": "display_data",
          "data": {
            "image/png": "[encoded data removed]",
            "text/plain": [
              "<Figure size 1440x1440 with 16 Axes>"
            ]
          },
          "metadata": {}
        }
      ]
    },
    {
      "cell_type": "markdown",
      "metadata": {
        "id": "IrNYliKNwzWA"
      },
      "source": [
        "При наличии HasMultiplePhoneNumbers мы можем отказаться от HasPhoneService. \"No phone service\" можно отнести к значению \"No\""
      ]
    },
    {
      "cell_type": "code",
      "metadata": {
        "colab": {
          "base_uri": "https://localhost:8080/",
          "height": 430
        },
        "id": "jetQP6zR-Zfa",
        "outputId": "71869f3d-e741-43d5-dbd9-8e82bce831df"
      },
      "source": [
        "import seaborn as sns\n",
        "f,ax=plt.subplots(1,2,figsize=(15,6))\n",
        "data[['Sex','Churn']].groupby(['Sex']).mean().plot.bar(ax=ax[0])\n",
        "ax[0].set_title('Churn vs Sex')\n",
        "sns.countplot('Sex',hue='Churn',data=data,ax=ax[1])\n",
        "ax[1].set_title('Sex:Churn')\n",
        "plt.show()"
      ],
      "execution_count": null,
      "outputs": [
        {
          "output_type": "display_data",
          "data": {
            "image/png": "[encoded data removed]",
            "text/plain": [
              "<Figure size 1080x432 with 2 Axes>"
            ]
          },
          "metadata": {
            "needs_background": "light"
          }
        }
      ]
    },
    {
      "cell_type": "markdown",
      "metadata": {
        "id": "R8doiKcc_N2S"
      },
      "source": [
        "**Вывод:** отток пользователей не зависит от пола клиента"
      ]
    },
    {
      "cell_type": "code",
      "metadata": {
        "colab": {
          "base_uri": "https://localhost:8080/",
          "height": 410
        },
        "id": "DiYQJMw0-28G",
        "outputId": "13866f53-f4f3-458a-863c-d99546d6f21a"
      },
      "source": [
        "f,ax=plt.subplots(1,2,figsize=(15,6))\n",
        "data[['HasChild','Churn']].groupby(['HasChild']).mean().plot.bar(ax=ax[0])\n",
        "ax[0].set_title('Churn vs HasChild')\n",
        "sns.countplot('HasChild',hue='Churn',data=data,ax=ax[1])\n",
        "ax[1].set_title('HasChild:Churn')\n",
        "plt.show()"
      ],
      "execution_count": null,
      "outputs": [
        {
          "output_type": "display_data",
          "data": {
            "image/png": "[encoded data removed]",
            "text/plain": [
              "<Figure size 1080x432 with 2 Axes>"
            ]
          },
          "metadata": {
            "needs_background": "light"
          }
        }
      ]
    },
    {
      "cell_type": "markdown",
      "metadata": {
        "id": "-un5syk3_bBI"
      },
      "source": [
        "**Вывод:** вероятность того, что уйдет клиент, у которого нет детей, выше"
      ]
    },
    {
      "cell_type": "code",
      "metadata": {
        "colab": {
          "base_uri": "https://localhost:8080/",
          "height": 523
        },
        "id": "TXKFtuEcA24F",
        "outputId": "56fc655a-b746-46ee-fef6-61fc7b03e191"
      },
      "source": [
        "f,ax=plt.subplots(1,2,figsize=(15,6))\n",
        "data[['PaymentMethod','Churn']].groupby(['PaymentMethod']).mean().plot.bar(ax=ax[0])\n",
        "ax[0].set_title('Churn vs PaymentMethods')\n",
        "plt.xticks(rotation='vertical')\n",
        "sns.countplot('PaymentMethod',hue='Churn',data=data,ax=ax[1])\n",
        "ax[1].set_title('PaymentMethod:Churn')\n",
        "plt.show()"
      ],
      "execution_count": null,
      "outputs": [
        {
          "output_type": "display_data",
          "data": {
            "image/png": "[encoded data removed]",
            "text/plain": [
              "<Figure size 1080x432 with 2 Axes>"
            ]
          },
          "metadata": {
            "needs_background": "light"
          }
        }
      ]
    },
    {
      "cell_type": "markdown",
      "metadata": {
        "id": "kSMKHXooCJPN"
      },
      "source": [
        "**Вывод:** при оплате кредитной картой клиент с большой долей вероятности останется клиентом данного сервиса"
      ]
    },
    {
      "cell_type": "code",
      "metadata": {
        "colab": {
          "base_uri": "https://localhost:8080/",
          "height": 400
        },
        "id": "HpXh0UdJCiy6",
        "outputId": "40d96a6a-f610-4a51-d33c-8f69735d3ed4"
      },
      "source": [
        "f,ax=plt.subplots(1,2,figsize=(15,6))\n",
        "data[['IsSeniorCitizen','Churn']].groupby(['IsSeniorCitizen']).mean().plot.bar(ax=ax[0])\n",
        "ax[0].set_title('Churn vs IsSeniorCitizen')\n",
        "plt.xticks(rotation='vertical')\n",
        "sns.countplot('IsSeniorCitizen',hue='Churn',data=data,ax=ax[1])\n",
        "ax[1].set_title('IsSeniorCitizen:Churn')\n",
        "plt.show()"
      ],
      "execution_count": null,
      "outputs": [
        {
          "output_type": "display_data",
          "data": {
            "image/png": "[encoded data removed]",
            "text/plain": [
              "<Figure size 1080x432 with 2 Axes>"
            ]
          },
          "metadata": {
            "needs_background": "light"
          }
        }
      ]
    },
    {
      "cell_type": "markdown",
      "metadata": {
        "id": "cd0AMxd7DFQl"
      },
      "source": [
        "**Вывод:** молодые пользователи очень часто покидают данный сервис"
      ]
    },
    {
      "cell_type": "markdown",
      "metadata": {
        "id": "NvxHNBEyWMjc"
      },
      "source": [
        "Посмотрим на box plot числовых призвнаков:"
      ]
    },
    {
      "cell_type": "code",
      "metadata": {
        "colab": {
          "base_uri": "https://localhost:8080/",
          "height": 449
        },
        "id": "gnTIGz61UvUM",
        "outputId": "a6d960ea-60fd-4c6a-a043-2cee3c608910"
      },
      "source": [
        "number_cols = ['ClientPeriod', 'MonthlySpending']\n",
        "plt.figure(figsize=(5, 7))\n",
        "data[number_cols].boxplot()\n",
        "plt.title(\"Numerical variables in dataset\", fontsize=20)\n",
        "plt.show()"
      ],
      "execution_count": null,
      "outputs": [
        {
          "output_type": "display_data",
          "data": {
            "image/png": "[encoded data removed]",
            "text/plain": [
              "<Figure size 360x504 with 1 Axes>"
            ]
          },
          "metadata": {
            "needs_background": "light"
          }
        }
      ]
    },
    {
      "cell_type": "code",
      "metadata": {
        "colab": {
          "base_uri": "https://localhost:8080/",
          "height": 449
        },
        "id": "U9K5CXFvVmLQ",
        "outputId": "48c6e001-3333-424f-b3fe-3169e169f14b"
      },
      "source": [
        "number_cols = ['TotalSpent']\n",
        "plt.figure(figsize=(5, 7))\n",
        "data[number_cols].boxplot()\n",
        "plt.title(\"TotalSpent\", fontsize=20)\n",
        "plt.show()"
      ],
      "execution_count": null,
      "outputs": [
        {
          "output_type": "display_data",
          "data": {
            "image/png": "[encoded data removed]",
            "text/plain": [
              "<Figure size 360x504 with 1 Axes>"
            ]
          },
          "metadata": {
            "needs_background": "light"
          }
        }
      ]
    },
    {
      "cell_type": "markdown",
      "metadata": {
        "id": "Rnivf2UKxxY9"
      },
      "source": [
        "На box plot наблюаем среднее и разброс значений. Среднее значение TotalSpent находится в пределах от 0 до 2000, наибольшее же значение находится около 8000"
      ]
    },
    {
      "cell_type": "code",
      "metadata": {
        "colab": {
          "base_uri": "https://localhost:8080/",
          "height": 550
        },
        "id": "6T131sMOWhwn",
        "outputId": "0bd3a3d2-fd1c-4229-abab-f729d57d561e"
      },
      "source": [
        "sns.pairplot(data[num_cols[:3] + [target_col]], hue=target_col);"
      ],
      "execution_count": null,
      "outputs": [
        {
          "output_type": "display_data",
          "data": {
            "image/png": "[encoded data removed]",
            "text/plain": [
              "<Figure size 582.375x540 with 12 Axes>"
            ]
          },
          "metadata": {
            "needs_background": "light"
          }
        }
      ]
    },
    {
      "cell_type": "markdown",
      "metadata": {
        "id": "w4_KoWgTXWeq"
      },
      "source": [
        "Из данных графиков видно, что сервис в основном покидали новые пользователи"
      ]
    },
    {
      "cell_type": "code",
      "metadata": {
        "colab": {
          "base_uri": "https://localhost:8080/",
          "height": 282
        },
        "id": "76EK5KFG9XYG",
        "outputId": "30e72b1c-a154-4163-decb-3c28f7e14127"
      },
      "source": [
        "plt.scatter(data['ClientPeriod'], data['TotalSpent'])"
      ],
      "execution_count": null,
      "outputs": [
        {
          "output_type": "execute_result",
          "data": {
            "text/plain": [
              "<matplotlib.collections.PathCollection at 0x7f4b9b80b9d0>"
            ]
          },
          "metadata": {},
          "execution_count": 125
        },
        {
          "output_type": "display_data",
          "data": {
            "image/png": "[encoded data removed]",
            "text/plain": [
              "<Figure size 432x288 with 1 Axes>"
            ]
          },
          "metadata": {
            "needs_background": "light"
          }
        }
      ]
    },
    {
      "cell_type": "markdown",
      "metadata": {
        "id": "rcVsGPuGzEjn"
      },
      "source": [
        "График показывает довольно очевидную вещь: чем дольше человек является пользователем сервиса, тем больше он заплатил "
      ]
    },
    {
      "cell_type": "code",
      "metadata": {
        "colab": {
          "base_uri": "https://localhost:8080/",
          "height": 282
        },
        "id": "jJaz7tv-VuKI",
        "outputId": "481d2339-096a-4866-aeb1-eba7bf42c6e1"
      },
      "source": [
        "plt.scatter(data['ClientPeriod'], data['MonthlySpending'])"
      ],
      "execution_count": null,
      "outputs": [
        {
          "output_type": "execute_result",
          "data": {
            "text/plain": [
              "<matplotlib.collections.PathCollection at 0x7f4b9b80be10>"
            ]
          },
          "metadata": {},
          "execution_count": 126
        },
        {
          "output_type": "display_data",
          "data": {
            "image/png": "[encoded data removed]",
            "text/plain": [
              "<Figure size 432x288 with 1 Axes>"
            ]
          },
          "metadata": {
            "needs_background": "light"
          }
        }
      ]
    },
    {
      "cell_type": "markdown",
      "metadata": {
        "id": "V_RoPvuB-pyS"
      },
      "source": [
        "Можем сделать вывод о том, что новые пользователи платят меньше. Новые пользователи в основном тратят от 60 - 100. Старые пользователи платят больше: от 80 - 120"
      ]
    },
    {
      "cell_type": "code",
      "metadata": {
        "colab": {
          "base_uri": "https://localhost:8080/",
          "height": 204
        },
        "id": "fqAp9NP1_AKa",
        "outputId": "41afae59-1ac3-4fb1-9785-ee1481974ea6"
      },
      "source": [
        "corr_mat = data.corr()\n",
        "corr_mat"
      ],
      "execution_count": null,
      "outputs": [
        {
          "output_type": "execute_result",
          "data": {
            "text/html": [
              "<div>\n",
              "<style scoped>\n",
              "    .dataframe tbody tr th:only-of-type {\n",
              "        vertical-align: middle;\n",
              "    }\n",
              "\n",
              "    .dataframe tbody tr th {\n",
              "        vertical-align: top;\n",
              "    }\n",
              "\n",
              "    .dataframe thead th {\n",
              "        text-align: right;\n",
              "    }\n",
              "</style>\n",
              "<table border=\"1\" class=\"dataframe\">\n",
              "  <thead>\n",
              "    <tr style=\"text-align: right;\">\n",
              "      <th></th>\n",
              "      <th>ClientPeriod</th>\n",
              "      <th>MonthlySpending</th>\n",
              "      <th>TotalSpent</th>\n",
              "      <th>IsSeniorCitizen</th>\n",
              "      <th>Churn</th>\n",
              "    </tr>\n",
              "  </thead>\n",
              "  <tbody>\n",
              "    <tr>\n",
              "      <th>ClientPeriod</th>\n",
              "      <td>1.000000</td>\n",
              "      <td>0.249393</td>\n",
              "      <td>0.826647</td>\n",
              "      <td>0.011532</td>\n",
              "      <td>-0.350713</td>\n",
              "    </tr>\n",
              "    <tr>\n",
              "      <th>MonthlySpending</th>\n",
              "      <td>0.249393</td>\n",
              "      <td>1.000000</td>\n",
              "      <td>0.652027</td>\n",
              "      <td>0.215456</td>\n",
              "      <td>0.184769</td>\n",
              "    </tr>\n",
              "    <tr>\n",
              "      <th>TotalSpent</th>\n",
              "      <td>0.826647</td>\n",
              "      <td>0.652027</td>\n",
              "      <td>1.000000</td>\n",
              "      <td>0.094628</td>\n",
              "      <td>-0.200061</td>\n",
              "    </tr>\n",
              "    <tr>\n",
              "      <th>IsSeniorCitizen</th>\n",
              "      <td>0.011532</td>\n",
              "      <td>0.215456</td>\n",
              "      <td>0.094628</td>\n",
              "      <td>1.000000</td>\n",
              "      <td>0.156872</td>\n",
              "    </tr>\n",
              "    <tr>\n",
              "      <th>Churn</th>\n",
              "      <td>-0.350713</td>\n",
              "      <td>0.184769</td>\n",
              "      <td>-0.200061</td>\n",
              "      <td>0.156872</td>\n",
              "      <td>1.000000</td>\n",
              "    </tr>\n",
              "  </tbody>\n",
              "</table>\n",
              "</div>"
            ],
            "text/plain": [
              "                 ClientPeriod  MonthlySpending  ...  IsSeniorCitizen     Churn\n",
              "ClientPeriod         1.000000         0.249393  ...         0.011532 -0.350713\n",
              "MonthlySpending      0.249393         1.000000  ...         0.215456  0.184769\n",
              "TotalSpent           0.826647         0.652027  ...         0.094628 -0.200061\n",
              "IsSeniorCitizen      0.011532         0.215456  ...         1.000000  0.156872\n",
              "Churn               -0.350713         0.184769  ...         0.156872  1.000000\n",
              "\n",
              "[5 rows x 5 columns]"
            ]
          },
          "metadata": {},
          "execution_count": 127
        }
      ]
    },
    {
      "cell_type": "code",
      "metadata": {
        "colab": {
          "base_uri": "https://localhost:8080/",
          "height": 363
        },
        "id": "T_lF3Ied_D49",
        "outputId": "cb0c9f84-cdc7-4266-c98e-a16f31b1a14c"
      },
      "source": [
        "sns.heatmap(corr_mat)"
      ],
      "execution_count": null,
      "outputs": [
        {
          "output_type": "execute_result",
          "data": {
            "text/plain": [
              "<matplotlib.axes._subplots.AxesSubplot at 0x7f4b9bb4fdd0>"
            ]
          },
          "metadata": {},
          "execution_count": 128
        },
        {
          "output_type": "display_data",
          "data": {
            "image/png": "[encoded data removed]",
            "text/plain": [
              "<Figure size 432x288 with 2 Axes>"
            ]
          },
          "metadata": {
            "needs_background": "light"
          }
        }
      ]
    },
    {
      "cell_type": "markdown",
      "metadata": {
        "id": "NZTi5JX9_asr"
      },
      "source": [
        "Total Spent коррелирует с MonthlySpending и TotalSpent"
      ]
    },
    {
      "cell_type": "markdown",
      "metadata": {
        "id": "rZjkuD7xdtoT"
      },
      "source": [
        "Разделим данные на X и y:"
      ]
    },
    {
      "cell_type": "code",
      "metadata": {
        "id": "VF9M3rRWdwVI"
      },
      "source": [
        "X = data[num_cols + cat_cols].copy()\n",
        "y = data['Churn'].copy()"
      ],
      "execution_count": null,
      "outputs": []
    },
    {
      "cell_type": "markdown",
      "metadata": {
        "id": "eQzG9ROZd_xg"
      },
      "source": [
        "Посмотрим на размерность:"
      ]
    },
    {
      "cell_type": "code",
      "metadata": {
        "colab": {
          "base_uri": "https://localhost:8080/"
        },
        "id": "ZKZqZ55yeGJM",
        "outputId": "a502b870-a686-478e-9ecb-a789b2125630"
      },
      "source": [
        "X.shape, y.shape"
      ],
      "execution_count": null,
      "outputs": [
        {
          "output_type": "execute_result",
          "data": {
            "text/plain": [
              "((5282, 19), (5282,))"
            ]
          },
          "metadata": {},
          "execution_count": 130
        }
      ]
    },
    {
      "cell_type": "markdown",
      "metadata": {
        "id": "W-MjdU7VfCeG"
      },
      "source": [
        "#Предобработка данных"
      ]
    },
    {
      "cell_type": "markdown",
      "metadata": {
        "id": "lzCuiV8qS5n3"
      },
      "source": [
        "Для предобработки категориальных данных воспользуемся OneHotEncoding и затем нормализуем значения"
      ]
    },
    {
      "cell_type": "code",
      "metadata": {
        "id": "DGignBF4fF5h"
      },
      "source": [
        "from sklearn.preprocessing import MaxAbsScaler\n",
        "from imblearn.pipeline import Pipeline\n",
        "from sklearn.preprocessing import OneHotEncoder\n",
        "\n",
        "num_transform = Pipeline(steps=[\n",
        "                    ('scale', MaxAbsScaler())                             \n",
        "])\n",
        "cat_transfrom = Pipeline(steps=[\n",
        "                    ('onehot', OneHotEncoder(handle_unknown = 'ignore')),\n",
        "                    ('scale', MaxAbsScaler())\n",
        "])"
      ],
      "execution_count": null,
      "outputs": []
    },
    {
      "cell_type": "code",
      "metadata": {
        "id": "QQ7jLDahfsg5"
      },
      "source": [
        "from sklearn.compose import ColumnTransformer\n",
        "\n",
        "preprocessing = ColumnTransformer(transformers = [\n",
        "                                    ('cat', cat_transfrom, cat_cols),\n",
        "                                    ('num', num_transform, num_cols)\n",
        "])"
      ],
      "execution_count": null,
      "outputs": []
    },
    {
      "cell_type": "markdown",
      "metadata": {
        "id": "Lk2F89eggH32"
      },
      "source": [
        "Разделим выборку на train/test:"
      ]
    },
    {
      "cell_type": "code",
      "metadata": {
        "id": "i_Qp5ashgLSH"
      },
      "source": [
        "from sklearn.model_selection import train_test_split\n",
        "X_train, X_test, y_train, y_test = train_test_split(X, y, test_size = 0.1)"
      ],
      "execution_count": null,
      "outputs": []
    },
    {
      "cell_type": "code",
      "metadata": {
        "colab": {
          "base_uri": "https://localhost:8080/"
        },
        "id": "9XmAZgYBiSSb",
        "outputId": "81225ffd-2dfe-4e50-f73b-59ececd6f909"
      },
      "source": [
        "X_train.shape, y_train.shape"
      ],
      "execution_count": null,
      "outputs": [
        {
          "output_type": "execute_result",
          "data": {
            "text/plain": [
              "((4753, 19), (4753,))"
            ]
          },
          "metadata": {},
          "execution_count": 134
        }
      ]
    },
    {
      "cell_type": "code",
      "metadata": {
        "colab": {
          "base_uri": "https://localhost:8080/"
        },
        "id": "3EYsRFWAiURn",
        "outputId": "cc74f696-ef0a-4f50-c783-158ac8ba8ef8"
      },
      "source": [
        "X_test.shape, y_test.shape"
      ],
      "execution_count": null,
      "outputs": [
        {
          "output_type": "execute_result",
          "data": {
            "text/plain": [
              "((529, 19), (529,))"
            ]
          },
          "metadata": {},
          "execution_count": 135
        }
      ]
    },
    {
      "cell_type": "markdown",
      "metadata": {
        "id": "5frB8fBhgsB_"
      },
      "source": [
        "Применим oversampling для устранения несбалансированности классов:"
      ]
    },
    {
      "cell_type": "code",
      "metadata": {
        "id": "6Iz2W8BCguko"
      },
      "source": [
        "from imblearn.over_sampling import SMOTE\n",
        "smt = SMOTE(random_state=1)"
      ],
      "execution_count": null,
      "outputs": []
    },
    {
      "cell_type": "markdown",
      "metadata": {
        "id": "32OkSI7ceKyX"
      },
      "source": [
        "#Построение классификаторов"
      ]
    },
    {
      "cell_type": "markdown",
      "metadata": {
        "id": "vfPzJiZ2eQWe"
      },
      "source": [
        "##Построение линейных моделей"
      ]
    },
    {
      "cell_type": "code",
      "metadata": {
        "id": "M0OS5E5lmyqk"
      },
      "source": [
        "from sklearn.metrics import roc_auc_score\n",
        "from sklearn.model_selection import GridSearchCV\n",
        "from sklearn.model_selection import cross_val_score, StratifiedKFold, ShuffleSplit, RepeatedKFold, cross_val_predict"
      ],
      "execution_count": null,
      "outputs": []
    },
    {
      "cell_type": "markdown",
      "metadata": {
        "id": "k338VuFagyY4"
      },
      "source": [
        "###LogisticRegression"
      ]
    },
    {
      "cell_type": "markdown",
      "metadata": {
        "id": "SOTpy9hXq9cI"
      },
      "source": [
        "Обучим Логистическую регрессию и с помощью GridSearch переберем параметр C. GridSearch будем использовать кросс-валидацию с праметром 5."
      ]
    },
    {
      "cell_type": "code",
      "metadata": {
        "id": "pNvHbr7og3RZ"
      },
      "source": [
        "from sklearn.linear_model import LogisticRegression\n",
        "parameters = {'C': [100, 10, 1, 0.1, 0.01, 0.001]}\n",
        "best_log = GridSearchCV(LogisticRegression(), parameters, scoring='roc_auc', cv = 5)\n",
        "my_pipeline_log = Pipeline(steps=[\n",
        "                        ('preprocessing', preprocessing),\n",
        "                        ('sampling', smt),\n",
        "                        ('model', best_log)\n",
        "])"
      ],
      "execution_count": null,
      "outputs": []
    },
    {
      "cell_type": "code",
      "metadata": {
        "id": "XDWIJQcyhv1E"
      },
      "source": [
        "my_pipeline_log.fit(X_train, y_train)"
      ],
      "execution_count": null,
      "outputs": []
    },
    {
      "cell_type": "code",
      "metadata": {
        "colab": {
          "base_uri": "https://localhost:8080/"
        },
        "id": "yIWUxdUbieIk",
        "outputId": "70b0cce4-7bde-4c8a-d696-42c8d1704dd1"
      },
      "source": [
        "my_pipeline_log[2].best_score_"
      ],
      "execution_count": null,
      "outputs": [
        {
          "output_type": "execute_result",
          "data": {
            "text/plain": [
              "0.8570279059650165"
            ]
          },
          "metadata": {},
          "execution_count": 61
        }
      ]
    },
    {
      "cell_type": "markdown",
      "metadata": {
        "id": "QOYE2FLkvRbX"
      },
      "source": [
        "Параметры алгоритма, при которых достигается лучший результат классификации:"
      ]
    },
    {
      "cell_type": "code",
      "metadata": {
        "id": "asV6sGX9ihnG",
        "colab": {
          "base_uri": "https://localhost:8080/"
        },
        "outputId": "1a1fbf97-6752-43e4-ad4c-1357e9252b71"
      },
      "source": [
        "my_pipeline_log[2].best_params_"
      ],
      "execution_count": null,
      "outputs": [
        {
          "output_type": "execute_result",
          "data": {
            "text/plain": [
              "{'C': 100}"
            ]
          },
          "metadata": {},
          "execution_count": 62
        }
      ]
    },
    {
      "cell_type": "code",
      "metadata": {
        "id": "HvniMf2BAz0f"
      },
      "source": [
        "predicted = my_pipeline_log.predict_proba(X_test)"
      ],
      "execution_count": null,
      "outputs": []
    },
    {
      "cell_type": "code",
      "metadata": {
        "colab": {
          "base_uri": "https://localhost:8080/"
        },
        "id": "78SNRVBLA_oK",
        "outputId": "108076af-8406-4ba8-fd47-45e6dd58c725"
      },
      "source": [
        "roc_auc_score(y_test, predicted[:, 1])"
      ],
      "execution_count": null,
      "outputs": [
        {
          "output_type": "execute_result",
          "data": {
            "text/plain": [
              "0.8736136614028646"
            ]
          },
          "metadata": {},
          "execution_count": 66
        }
      ]
    },
    {
      "cell_type": "markdown",
      "metadata": {
        "id": "eb5rLjcaqi-5"
      },
      "source": [
        "Результаты **LogisticRegression**:\n",
        "\n",
        "\n",
        "*   Значение roc-auc на кросс-валидации: 0.86\n",
        "*   Значение roc-auc на тестовой выборке: 0.87\n",
        "\n"
      ]
    },
    {
      "cell_type": "markdown",
      "metadata": {
        "id": "B5pVPwekmuaU"
      },
      "source": [
        "###DecisionTree без undersampling"
      ]
    },
    {
      "cell_type": "markdown",
      "metadata": {
        "id": "t3bA6T_Sr2tK"
      },
      "source": [
        "Обучим Дерево решений с перебором следующих параметров:\n",
        "\n",
        "\n",
        "*   Max_depth\n",
        "*   Criterion\n",
        "*   Max_features\n",
        "*   Min_samples_split\n",
        "*   Splitter\n"
      ]
    },
    {
      "cell_type": "code",
      "metadata": {
        "id": "jj1s5AAbmwEY"
      },
      "source": [
        "from sklearn.tree import DecisionTreeClassifier\n",
        "depth = np.arange(10, 50)\n",
        "parameters = {'criterion': ['gini', 'entropy'],\n",
        "              'max_depth': depth,\n",
        "              'max_features': ['sqrt', 'log2'],\n",
        "              'min_samples_split': [5, 10, 20],\n",
        "              'splitter': ['best', 'random']\n",
        "             }\n",
        "best_tree = GridSearchCV(DecisionTreeClassifier(), parameters, scoring='roc_auc', cv = 5)"
      ],
      "execution_count": null,
      "outputs": []
    },
    {
      "cell_type": "code",
      "metadata": {
        "id": "wq2CHBMNnE1r"
      },
      "source": [
        "my_pipeline_tree = Pipeline(steps=[\n",
        "                        ('preprocessing', preprocessing),\n",
        "                        \n",
        "                        ('model', best_tree)\n",
        "])"
      ],
      "execution_count": null,
      "outputs": []
    },
    {
      "cell_type": "code",
      "metadata": {
        "id": "WyKqLJW6neNG"
      },
      "source": [
        "my_pipeline_tree.fit(X_train, y_train)"
      ],
      "execution_count": null,
      "outputs": []
    },
    {
      "cell_type": "code",
      "metadata": {
        "colab": {
          "base_uri": "https://localhost:8080/"
        },
        "id": "iFltx9xNnnhz",
        "outputId": "4ba72e52-b651-4b2d-ffee-2e92f4526530"
      },
      "source": [
        "my_pipeline_tree[1].best_score_"
      ],
      "execution_count": null,
      "outputs": [
        {
          "output_type": "execute_result",
          "data": {
            "text/plain": [
              "0.7960914688744696"
            ]
          },
          "metadata": {},
          "execution_count": 94
        }
      ]
    },
    {
      "cell_type": "markdown",
      "metadata": {
        "id": "yY4gWC4EvPR3"
      },
      "source": [
        "Параметры алгоритма, при которых достигается лучший результат классификации:"
      ]
    },
    {
      "cell_type": "code",
      "metadata": {
        "colab": {
          "base_uri": "https://localhost:8080/"
        },
        "id": "hWv2ZCOhnp29",
        "outputId": "1c746466-1e26-40db-b6ba-9a790241e989"
      },
      "source": [
        "my_pipeline_tree[1].best_params_"
      ],
      "execution_count": null,
      "outputs": [
        {
          "output_type": "execute_result",
          "data": {
            "text/plain": [
              "{'criterion': 'entropy',\n",
              " 'max_depth': 11,\n",
              " 'max_features': 'sqrt',\n",
              " 'min_samples_split': 20,\n",
              " 'splitter': 'best'}"
            ]
          },
          "metadata": {},
          "execution_count": 96
        }
      ]
    },
    {
      "cell_type": "code",
      "metadata": {
        "id": "4zYObbQ9BPAS"
      },
      "source": [
        "predicted = my_pipeline_tree.predict_proba(X_test)"
      ],
      "execution_count": null,
      "outputs": []
    },
    {
      "cell_type": "code",
      "metadata": {
        "colab": {
          "base_uri": "https://localhost:8080/"
        },
        "id": "q_SWuuTABTrI",
        "outputId": "a29af552-90b3-4cad-9cfe-f75fccf21115"
      },
      "source": [
        "roc_auc_score(y_test, predicted[:, 1])"
      ],
      "execution_count": null,
      "outputs": [
        {
          "output_type": "execute_result",
          "data": {
            "text/plain": [
              "0.7792565947242206"
            ]
          },
          "metadata": {},
          "execution_count": 98
        }
      ]
    },
    {
      "cell_type": "markdown",
      "metadata": {
        "id": "ZSm0WYjGsjn6"
      },
      "source": [
        "Результаты **DecisionTree**:\n",
        "\n",
        "\n",
        "*   Значение roc-auc на кросс-валидации: 0.8\n",
        "*   Значение roc-auc на тестовой выборке: 0.78\n",
        "\n"
      ]
    },
    {
      "cell_type": "markdown",
      "metadata": {
        "id": "2YZraP5rY3s_"
      },
      "source": [
        "### DecisonTree"
      ]
    },
    {
      "cell_type": "markdown",
      "metadata": {
        "id": "11opCpq2s-mr"
      },
      "source": [
        "Обучим Дерево решений с перебором следующих параметров:\n",
        "\n",
        "\n",
        "*   Max_depth\n",
        "*   Criterion\n",
        "*   Max_features\n",
        "*   Min_samples_split\n",
        "*   Splitter"
      ]
    },
    {
      "cell_type": "code",
      "metadata": {
        "id": "8A3RwCGpZQyg"
      },
      "source": [
        "from sklearn.tree import DecisionTreeClassifier\n",
        "depth = np.arange(10, 50)\n",
        "parameters = {'criterion': ['gini', 'entropy'],\n",
        "              'max_depth': depth,\n",
        "              'max_features': ['sqrt', 'log2'],\n",
        "              'min_samples_split': [5, 10, 20],\n",
        "              'splitter': ['best', 'random']\n",
        "             }\n",
        "best_tree = GridSearchCV(DecisionTreeClassifier(), parameters, scoring='roc_auc', cv = 5)"
      ],
      "execution_count": null,
      "outputs": []
    },
    {
      "cell_type": "code",
      "metadata": {
        "id": "QF1XFZnjZmeV"
      },
      "source": [
        "my_pipeline_tree = Pipeline(steps=[\n",
        "                        ('preprocessing', preprocessing),\n",
        "                        ('smt', smt),\n",
        "                        ('model', best_tree)\n",
        "])"
      ],
      "execution_count": null,
      "outputs": []
    },
    {
      "cell_type": "code",
      "metadata": {
        "id": "K8V56kgjZTod"
      },
      "source": [
        "my_pipeline_tree.fit(X_train, y_train)"
      ],
      "execution_count": null,
      "outputs": []
    },
    {
      "cell_type": "code",
      "metadata": {
        "colab": {
          "base_uri": "https://localhost:8080/"
        },
        "id": "A2KHIitaZYrE",
        "outputId": "5e18d7fb-291c-418a-c291-f268bf799599"
      },
      "source": [
        "my_pipeline_tree[2].best_score_"
      ],
      "execution_count": null,
      "outputs": [
        {
          "output_type": "execute_result",
          "data": {
            "text/plain": [
              "0.8728179540546692"
            ]
          },
          "metadata": {},
          "execution_count": 106
        }
      ]
    },
    {
      "cell_type": "markdown",
      "metadata": {
        "id": "mAlRG6JBvNSh"
      },
      "source": [
        "Параметры алгоритма, при которых достигается лучший результат классификации:"
      ]
    },
    {
      "cell_type": "code",
      "metadata": {
        "colab": {
          "base_uri": "https://localhost:8080/"
        },
        "id": "HJjTp2x_Zbyk",
        "outputId": "e3bd1a47-7aaa-4810-f6a1-61a7b8ae5a9a"
      },
      "source": [
        "my_pipeline_tree[2].best_params_"
      ],
      "execution_count": null,
      "outputs": [
        {
          "output_type": "execute_result",
          "data": {
            "text/plain": [
              "{'criterion': 'entropy',\n",
              " 'max_depth': 21,\n",
              " 'max_features': 'sqrt',\n",
              " 'min_samples_split': 20,\n",
              " 'splitter': 'random'}"
            ]
          },
          "metadata": {},
          "execution_count": 107
        }
      ]
    },
    {
      "cell_type": "code",
      "metadata": {
        "id": "qtb7DHtRZfDs"
      },
      "source": [
        "predicted = my_pipeline_tree.predict_proba(X_test)"
      ],
      "execution_count": null,
      "outputs": []
    },
    {
      "cell_type": "code",
      "metadata": {
        "colab": {
          "base_uri": "https://localhost:8080/"
        },
        "id": "wAFsMPriZgtI",
        "outputId": "3feb1192-80de-4f3b-e08c-b21d9269748f"
      },
      "source": [
        "roc_auc_score(y_test, predicted[:, 1])"
      ],
      "execution_count": null,
      "outputs": [
        {
          "output_type": "execute_result",
          "data": {
            "text/plain": [
              "0.7858328721638075"
            ]
          },
          "metadata": {},
          "execution_count": 109
        }
      ]
    },
    {
      "cell_type": "markdown",
      "metadata": {
        "id": "xokiXPDctCCR"
      },
      "source": [
        "Результаты **DecisionTree**:\n",
        "\n",
        "\n",
        "*   Значение roc-auc на кросс-валидации: 0.87\n",
        "*   Значение roc-auc на тестовой выборке: 0.79\n",
        "\n"
      ]
    },
    {
      "cell_type": "markdown",
      "metadata": {
        "id": "UvdArfagKgPd"
      },
      "source": [
        "### KNN"
      ]
    },
    {
      "cell_type": "markdown",
      "metadata": {
        "id": "oMsrI0PItHKk"
      },
      "source": [
        "Обучим Метод k ближайших соседей с перебором следующих параметров:\n",
        "\n",
        "*   N_neighbors\n",
        "*   Weights\n",
        "*   Metric\n"
      ]
    },
    {
      "cell_type": "code",
      "metadata": {
        "id": "x-spfqkKKroD"
      },
      "source": [
        "from sklearn.neighbors import KNeighborsClassifier"
      ],
      "execution_count": null,
      "outputs": []
    },
    {
      "cell_type": "code",
      "metadata": {
        "id": "vac59MBxKsIn"
      },
      "source": [
        "param_grid = {'n_neighbors':np.arange(1, 20), \n",
        "              'weights': ['uniform', 'distance'],\n",
        "              'metric': ['minkowski', 'euclidean'],\n",
        "              }\n",
        "best_knn = GridSearchCV(KNeighborsClassifier(), param_grid=param_grid, scoring='roc_auc', cv = 5)"
      ],
      "execution_count": null,
      "outputs": []
    },
    {
      "cell_type": "code",
      "metadata": {
        "id": "ZqLG09BeKx2X"
      },
      "source": [
        "my_pipeline_knn = Pipeline(steps=[\n",
        "                        ('preprocessing', preprocessing),\n",
        "                        ('sampling', smt),\n",
        "                        ('model', best_knn)\n",
        "])"
      ],
      "execution_count": null,
      "outputs": []
    },
    {
      "cell_type": "code",
      "metadata": {
        "id": "-ND2LmjBSzdx"
      },
      "source": [
        "my_pipeline_knn.fit(X_train, y_train)"
      ],
      "execution_count": null,
      "outputs": []
    },
    {
      "cell_type": "code",
      "metadata": {
        "colab": {
          "base_uri": "https://localhost:8080/"
        },
        "id": "WIZtTyTkK1iT",
        "outputId": "68c06883-2e48-440a-9435-13bd2a9c4e59"
      },
      "source": [
        "my_pipeline_knn[2].best_score_"
      ],
      "execution_count": null,
      "outputs": [
        {
          "output_type": "execute_result",
          "data": {
            "text/plain": [
              "0.8846838493114794"
            ]
          },
          "metadata": {},
          "execution_count": 33
        }
      ]
    },
    {
      "cell_type": "markdown",
      "metadata": {
        "id": "-S9hTBVdvLXn"
      },
      "source": [
        "Параметры алгоритма, при которых достигается лучший результат классификации:"
      ]
    },
    {
      "cell_type": "code",
      "metadata": {
        "colab": {
          "base_uri": "https://localhost:8080/"
        },
        "id": "s5b_5H1NK39n",
        "outputId": "df9427d2-d297-41f3-9f93-70883ca13a22"
      },
      "source": [
        "my_pipeline_knn[2].best_params_"
      ],
      "execution_count": null,
      "outputs": [
        {
          "output_type": "execute_result",
          "data": {
            "text/plain": [
              "{'metric': 'minkowski', 'n_neighbors': 12, 'weights': 'distance'}"
            ]
          },
          "metadata": {},
          "execution_count": 34
        }
      ]
    },
    {
      "cell_type": "code",
      "metadata": {
        "id": "DrZ813aXK6kv"
      },
      "source": [
        "predicted = my_pipeline_knn.predict_proba(X_test)"
      ],
      "execution_count": null,
      "outputs": []
    },
    {
      "cell_type": "code",
      "metadata": {
        "colab": {
          "base_uri": "https://localhost:8080/"
        },
        "id": "FMdjpwNXK9lF",
        "outputId": "151b526e-679c-4306-b5db-74be01a03f7c"
      },
      "source": [
        "roc_auc_score(y_test, predicted[:, 1])"
      ],
      "execution_count": null,
      "outputs": [
        {
          "output_type": "execute_result",
          "data": {
            "text/plain": [
              "0.7829554995801847"
            ]
          },
          "metadata": {},
          "execution_count": 37
        }
      ]
    },
    {
      "cell_type": "markdown",
      "metadata": {
        "id": "zCrhSNIvtfLs"
      },
      "source": [
        "Результаты **KNN**:\n",
        "\n",
        "\n",
        "*   Значение roc-auc на кросс-валидации: 0.88\n",
        "*   Значение roc-auc на тестовой выборке: 0.78\n"
      ]
    },
    {
      "cell_type": "markdown",
      "metadata": {
        "id": "F7xrPAqok_Mn"
      },
      "source": [
        "## Random Forest"
      ]
    },
    {
      "cell_type": "markdown",
      "metadata": {
        "id": "bhEYnBU0tlj6"
      },
      "source": [
        "Обучим случайный лес с перебором следующих параметров:\n",
        "\n",
        "*   Criterion\n",
        "*   Max_features"
      ]
    },
    {
      "cell_type": "code",
      "metadata": {
        "id": "9oPB8I2UlE2o"
      },
      "source": [
        "from sklearn.ensemble import RandomForestClassifier"
      ],
      "execution_count": null,
      "outputs": []
    },
    {
      "cell_type": "code",
      "metadata": {
        "id": "r4xMJO1jlVvk"
      },
      "source": [
        "param_grid = {\n",
        "     'criterion':('gini', 'entropy'),\n",
        "     'max_features': ['sqrt', 'log2'],\n",
        "}\n",
        "best_forest = GridSearchCV(RandomForestClassifier(), param_grid=param_grid, scoring='roc_auc', cv = 5)"
      ],
      "execution_count": null,
      "outputs": []
    },
    {
      "cell_type": "code",
      "metadata": {
        "id": "qZqGJOlOlk0k"
      },
      "source": [
        "my_pipeline_rf = Pipeline(steps=[\n",
        "                        ('preprocessing', preprocessing),\n",
        "                        ('sampling', smt),\n",
        "                        ('model', best_forest)\n",
        "])"
      ],
      "execution_count": null,
      "outputs": []
    },
    {
      "cell_type": "code",
      "metadata": {
        "id": "yZvK68_nlst9"
      },
      "source": [
        "my_pipeline_rf.fit(X_train, y_train)"
      ],
      "execution_count": null,
      "outputs": []
    },
    {
      "cell_type": "code",
      "metadata": {
        "colab": {
          "base_uri": "https://localhost:8080/"
        },
        "id": "FqEiarZhOKRD",
        "outputId": "3f86271d-8690-440c-db38-b62532675978"
      },
      "source": [
        "my_pipeline_rf[2].best_score_"
      ],
      "execution_count": null,
      "outputs": [
        {
          "output_type": "execute_result",
          "data": {
            "text/plain": [
              "0.9353836847874669"
            ]
          },
          "metadata": {},
          "execution_count": 72
        }
      ]
    },
    {
      "cell_type": "markdown",
      "metadata": {
        "id": "hfrWr7EWvJ4U"
      },
      "source": [
        "Параметры алгоритма, при которых достигается лучший результат классификации:"
      ]
    },
    {
      "cell_type": "code",
      "metadata": {
        "colab": {
          "base_uri": "https://localhost:8080/"
        },
        "id": "L25VX3L7OZk4",
        "outputId": "276aaaea-4b55-4e3c-fc41-ec49b6771c11"
      },
      "source": [
        "my_pipeline_rf[2].best_params_"
      ],
      "execution_count": null,
      "outputs": [
        {
          "output_type": "execute_result",
          "data": {
            "text/plain": [
              "{'criterion': 'gini', 'max_features': 'log2'}"
            ]
          },
          "metadata": {},
          "execution_count": 73
        }
      ]
    },
    {
      "cell_type": "code",
      "metadata": {
        "id": "xCUhxYW0OcP1"
      },
      "source": [
        "predicted = my_pipeline_rf.predict_proba(X_test)"
      ],
      "execution_count": null,
      "outputs": []
    },
    {
      "cell_type": "code",
      "metadata": {
        "colab": {
          "base_uri": "https://localhost:8080/"
        },
        "id": "okFIJ3pLOiZk",
        "outputId": "a0e05ff7-acc2-4d14-d8fa-97fd1e93a5a5"
      },
      "source": [
        "roc_auc_score(y_test, predicted[:, 1])"
      ],
      "execution_count": null,
      "outputs": [
        {
          "output_type": "execute_result",
          "data": {
            "text/plain": [
              "0.829293488286294"
            ]
          },
          "metadata": {},
          "execution_count": 75
        }
      ]
    },
    {
      "cell_type": "markdown",
      "metadata": {
        "id": "2faaAyo6tv4A"
      },
      "source": [
        "Результаты **RandomForest**:\n",
        "\n",
        "\n",
        "*   Значение roc-auc на кросс-валидации: 0.94\n",
        "*   Значение roc-auc на тестовой выборке: 0.83\n"
      ]
    },
    {
      "cell_type": "markdown",
      "metadata": {
        "id": "zPV9yybwedyq"
      },
      "source": [
        "##Применение градиентного метода"
      ]
    },
    {
      "cell_type": "markdown",
      "metadata": {
        "id": "9P9XSpHWoZCz"
      },
      "source": [
        "###Gradient Boosting"
      ]
    },
    {
      "cell_type": "markdown",
      "metadata": {
        "id": "gijLRa2St3i-"
      },
      "source": [
        "Обучим Градиентный метод с перебором следующих параметров:\n",
        "\n",
        "*   Learning_rate\n",
        "*   Max_depth\n",
        "*   N_estimators"
      ]
    },
    {
      "cell_type": "code",
      "metadata": {
        "id": "8L8api0jXl-z"
      },
      "source": [
        "from sklearn.ensemble import GradientBoostingClassifier"
      ],
      "execution_count": null,
      "outputs": []
    },
    {
      "cell_type": "code",
      "metadata": {
        "id": "dQxnRU22ob0p"
      },
      "source": [
        "parameters = {\n",
        "    \"learning_rate\": [0.01, 0.02],\n",
        "    \"max_depth\": range(5, 10),\n",
        "    \"n_estimators\":[100],\n",
        "}\n",
        "best_boost = GridSearchCV(GradientBoostingClassifier(), param_grid=parameters, scoring='roc_auc', cv = 5)"
      ],
      "execution_count": null,
      "outputs": []
    },
    {
      "cell_type": "code",
      "metadata": {
        "id": "ENlguOCyouuC"
      },
      "source": [
        "my_pipeline_boost = Pipeline(steps=[\n",
        "                        ('preprocessing', preprocessing),\n",
        "                        ('smote', smt),\n",
        "                        ('model', best_boost)\n",
        "])"
      ],
      "execution_count": null,
      "outputs": []
    },
    {
      "cell_type": "code",
      "metadata": {
        "id": "w9pecrUlopi4"
      },
      "source": [
        "my_pipeline_boost.fit(X_train, y_train)"
      ],
      "execution_count": null,
      "outputs": []
    },
    {
      "cell_type": "code",
      "metadata": {
        "colab": {
          "base_uri": "https://localhost:8080/"
        },
        "id": "9-MdD2QWo2f0",
        "outputId": "d0dd31a2-3841-43c6-a5e2-abaa86610eb3"
      },
      "source": [
        "my_pipeline_boost[2].best_score_"
      ],
      "execution_count": null,
      "outputs": [
        {
          "output_type": "execute_result",
          "data": {
            "text/plain": [
              "0.917395814106525"
            ]
          },
          "metadata": {},
          "execution_count": 125
        }
      ]
    },
    {
      "cell_type": "markdown",
      "metadata": {
        "id": "MB645kEgvG2i"
      },
      "source": [
        "Параметры алгоритма, при которых достигается лучший результат классификации:"
      ]
    },
    {
      "cell_type": "code",
      "metadata": {
        "colab": {
          "base_uri": "https://localhost:8080/"
        },
        "id": "UyPdn_4Yo5rZ",
        "outputId": "feb191e3-e800-4556-b4fc-bb2f9a85421c"
      },
      "source": [
        "my_pipeline_boost[2].best_params_"
      ],
      "execution_count": null,
      "outputs": [
        {
          "output_type": "execute_result",
          "data": {
            "text/plain": [
              "{'learning_rate': 0.02, 'max_depth': 9, 'n_estimators': 100}"
            ]
          },
          "metadata": {},
          "execution_count": 129
        }
      ]
    },
    {
      "cell_type": "code",
      "metadata": {
        "id": "Wus4DEliAOrd"
      },
      "source": [
        "predicted = my_pipeline_boost.predict_proba(X_test)"
      ],
      "execution_count": null,
      "outputs": []
    },
    {
      "cell_type": "code",
      "metadata": {
        "colab": {
          "base_uri": "https://localhost:8080/"
        },
        "id": "yDfOclI9BmlZ",
        "outputId": "94fb8db1-95dd-46f6-c1fb-878fe08fb7c6"
      },
      "source": [
        "roc_auc_score(y_test, predicted[:, 1])"
      ],
      "execution_count": null,
      "outputs": [
        {
          "output_type": "execute_result",
          "data": {
            "text/plain": [
              "0.8452437213070483"
            ]
          },
          "metadata": {},
          "execution_count": 131
        }
      ]
    },
    {
      "cell_type": "markdown",
      "metadata": {
        "id": "GWD_hjrYuFGH"
      },
      "source": [
        "Результаты **GradientBoosting**:\n",
        "\n",
        "\n",
        "*   Значение roc-auc на кросс-валидации: 0.92\n",
        "*   Значение roc-auc на тестовой выборке: 0.85\n"
      ]
    },
    {
      "cell_type": "markdown",
      "metadata": {
        "id": "fKfrHDAxuJqR"
      },
      "source": [
        "Получение результатов для **Kaggle**:"
      ]
    },
    {
      "cell_type": "code",
      "metadata": {
        "id": "IdwDVHu1A8Pw"
      },
      "source": [
        "X_test_origin = pd.read_csv('test.csv')\n",
        "X_test_origin['TotalSpent'] = X_test_origin['TotalSpent'].where(X_test_origin['ClientPeriod'] > 0, X_test_origin['MonthlySpending'])\n",
        "X_test_origin['ClientPeriod'] = X_test_origin['ClientPeriod'].where(X_test_origin['ClientPeriod'] > 0, 1)\n",
        "X_test_origin['TotalSpent'] = pd.to_numeric(X_test_origin['TotalSpent'])\n",
        "submission = pd.read_csv('submission.csv')\n",
        "submission['Churn'] = my_pipeline_boost.predict_proba(X_test_origin)[:, 1]\n",
        "submission.to_csv('my_submission.csv', index=False)"
      ],
      "execution_count": null,
      "outputs": []
    },
    {
      "cell_type": "markdown",
      "metadata": {
        "id": "2_jRwwpqdeDM"
      },
      "source": [
        "### Catboost"
      ]
    },
    {
      "cell_type": "markdown",
      "metadata": {
        "id": "UXRWU5xauQ8T"
      },
      "source": [
        "Установка **catboost** от Yandex:"
      ]
    },
    {
      "cell_type": "code",
      "metadata": {
        "id": "Yaes6Yt9jCZU"
      },
      "source": [
        "!pip install catboost"
      ],
      "execution_count": null,
      "outputs": []
    },
    {
      "cell_type": "code",
      "metadata": {
        "id": "K0ak7jiqdhgS"
      },
      "source": [
        "from catboost import CatBoostClassifier"
      ],
      "execution_count": null,
      "outputs": []
    },
    {
      "cell_type": "markdown",
      "metadata": {
        "id": "9Z1Vvx5duW2T"
      },
      "source": [
        "Получение данных:"
      ]
    },
    {
      "cell_type": "code",
      "metadata": {
        "id": "UDeQNPOleV29"
      },
      "source": [
        "data = pd.read_csv(\"train.csv\")"
      ],
      "execution_count": null,
      "outputs": []
    },
    {
      "cell_type": "code",
      "metadata": {
        "id": "ln1fgt6yeTIL"
      },
      "source": [
        "X_train, X_test, y_train, y_test = train_test_split(data.iloc[:, :-1], data.iloc[:, -1], test_size=0.1)"
      ],
      "execution_count": null,
      "outputs": []
    },
    {
      "cell_type": "markdown",
      "metadata": {
        "id": "9-0YCs43uZp1"
      },
      "source": [
        " Catboost умеет работать с категориальными признаками, а также нормализует данные, поэтому не делаем предобработки исходных данных"
      ]
    },
    {
      "cell_type": "markdown",
      "metadata": {
        "id": "8y6eNg-8usvW"
      },
      "source": [
        "Обучим Catboost с перебором следующих параметров:\n",
        "\n",
        "*   Learning_rate\n",
        "*   Depth\n",
        "*   N_estimators"
      ]
    },
    {
      "cell_type": "code",
      "metadata": {
        "id": "Wy6p7VISdjZ_"
      },
      "source": [
        "boosting_model = CatBoostClassifier(eval_metric='AUC',\n",
        "                                  silent=True, cat_features=cat_cols)\n",
        "\n",
        "best_model_info = boosting_model.grid_search({'n_estimators': [50, 70, 100, 150],\n",
        "                            'learning_rate': [0.01, 0.1, 0.2],\n",
        "                            'depth' : [3, 5, 7]}, \n",
        "                           data.iloc[:, :-1], \n",
        "                           data.iloc[:, -1], plot=True, refit=True)"
      ],
      "execution_count": null,
      "outputs": []
    },
    {
      "cell_type": "markdown",
      "metadata": {
        "id": "ShSRJy_tu3zf"
      },
      "source": [
        "Параметры алгоритма, при которых достигается лучший результат классификации:"
      ]
    },
    {
      "cell_type": "code",
      "metadata": {
        "colab": {
          "base_uri": "https://localhost:8080/"
        },
        "id": "uIApfoUfgZ5r",
        "outputId": "74608dd6-65b5-4626-efe9-9ca5dd9f09e4"
      },
      "source": [
        "best_model_info['params']"
      ],
      "execution_count": null,
      "outputs": [
        {
          "output_type": "execute_result",
          "data": {
            "text/plain": [
              "{'depth': 3, 'iterations': 50, 'learning_rate': 0.2}"
            ]
          },
          "metadata": {},
          "execution_count": 72
        }
      ]
    },
    {
      "cell_type": "code",
      "metadata": {
        "id": "JidaVIWme3Dc"
      },
      "source": [
        "from sklearn.metrics import f1_score\n",
        "y_true = boosting_model.predict_proba(X_test)"
      ],
      "execution_count": null,
      "outputs": []
    },
    {
      "cell_type": "markdown",
      "metadata": {
        "id": "0XTbQE6cvVWs"
      },
      "source": [
        "Результат catboost на тестовой выборке:"
      ]
    },
    {
      "cell_type": "code",
      "metadata": {
        "colab": {
          "base_uri": "https://localhost:8080/"
        },
        "id": "SozKWx4Li8uG",
        "outputId": "949b42e3-98e9-47db-c5f2-b57cfd7c01bb"
      },
      "source": [
        "roc_auc_score(y_test, y_true[:, 1])"
      ],
      "execution_count": null,
      "outputs": [
        {
          "output_type": "execute_result",
          "data": {
            "text/plain": [
              "0.8234744001511431"
            ]
          },
          "metadata": {},
          "execution_count": 78
        }
      ]
    },
    {
      "cell_type": "code",
      "metadata": {
        "id": "GZ7mVFcSfPpl"
      },
      "source": [
        "X_test_origin = pd.read_csv('test.csv')\n",
        "submission = pd.read_csv('submission.csv')\n",
        "submission['Churn'] = boosting_model.predict_proba(X_test_origin)[:, 1]\n",
        "submission.to_csv('my_submission.csv', index=False)"
      ],
      "execution_count": null,
      "outputs": []
    },
    {
      "cell_type": "markdown",
      "metadata": {
        "id": "Ko-W75IwjG9V"
      },
      "source": [
        "## Stacking"
      ]
    },
    {
      "cell_type": "markdown",
      "metadata": {
        "id": "Mx1x6e0yvfGr"
      },
      "source": [
        "Применим идею stacking для следующих классификаторов:\n",
        "\n",
        "\n",
        "*   RandomForest\n",
        "*   KNN\n",
        "*   GradientBoosting\n",
        "\n"
      ]
    },
    {
      "cell_type": "code",
      "metadata": {
        "id": "5OrE3yfojKE-"
      },
      "source": [
        "from sklearn.ensemble import StackingClassifier\n",
        "from sklearn.ensemble import AdaBoostClassifier"
      ],
      "execution_count": null,
      "outputs": []
    },
    {
      "cell_type": "code",
      "metadata": {
        "id": "QVbWUUi-mtRS"
      },
      "source": [
        "estimators = [\n",
        "         ('rf', my_pipeline_rf),\n",
        "         ('knn', my_pipeline_knn),\n",
        "         ('boos', my_pipeline_boost)\n",
        "]"
      ],
      "execution_count": null,
      "outputs": []
    },
    {
      "cell_type": "code",
      "metadata": {
        "id": "4x4qDBLMn1AU"
      },
      "source": [
        "clf = StackingClassifier(\n",
        "     estimators=estimators, final_estimator=AdaBoostClassifier()\n",
        ")"
      ],
      "execution_count": null,
      "outputs": []
    },
    {
      "cell_type": "code",
      "metadata": {
        "id": "6NVRMDOwoEjk"
      },
      "source": [
        "clf.fit(X_train, y_train)"
      ],
      "execution_count": null,
      "outputs": []
    },
    {
      "cell_type": "code",
      "metadata": {
        "id": "YmVUOT2eraXw"
      },
      "source": [
        "from sklearn.metrics import f1_score\n",
        "y_true = clf.predict_proba(X_test)"
      ],
      "execution_count": null,
      "outputs": []
    },
    {
      "cell_type": "markdown",
      "metadata": {
        "id": "rzEpck-VvvuG"
      },
      "source": [
        "Результат stacking на тестовой выборке:"
      ]
    },
    {
      "cell_type": "code",
      "metadata": {
        "colab": {
          "base_uri": "https://localhost:8080/"
        },
        "id": "pNQcvI92rexW",
        "outputId": "18ff3bbc-9226-43a7-8547-e75ee5a5df55"
      },
      "source": [
        "roc_auc_score(y_test, y_true[:, 1])"
      ],
      "execution_count": null,
      "outputs": [
        {
          "output_type": "execute_result",
          "data": {
            "text/plain": [
              "0.845277477720767"
            ]
          },
          "metadata": {},
          "execution_count": 146
        }
      ]
    },
    {
      "cell_type": "markdown",
      "metadata": {
        "id": "K9FYdd2sVSal"
      },
      "source": [
        "# Предсказания"
      ]
    },
    {
      "cell_type": "code",
      "metadata": {
        "id": "LgV6W1ciyTKd"
      },
      "source": [
        "X_test_origin = pd.read_csv('test.csv')\n",
        "X_test_origin['TotalSpent'] = X_test_origin['TotalSpent'].where(X_test_origin['ClientPeriod'] > 0, X_test_origin['MonthlySpending'])\n",
        "X_test_origin['ClientPeriod'] = X_test_origin['ClientPeriod'].where(X_test_origin['ClientPeriod'] > 0, 1)\n",
        "X_test_origin['TotalSpent'] = pd.to_numeric(X_test_origin['TotalSpent'])\n",
        "submission = pd.read_csv('submission.csv')\n",
        "submission['Churn'] = my_pipeline_tree.predict_proba(X_test_origin)[:, 1]\n",
        "submission.to_csv('my_submission_1.csv', index=False)"
      ],
      "execution_count": null,
      "outputs": []
    },
    {
      "cell_type": "markdown",
      "metadata": {
        "id": "LfaQ-iiAehhx"
      },
      "source": [
        "##Логистическая регрессия на PyTorch"
      ]
    },
    {
      "cell_type": "code",
      "metadata": {
        "id": "MYI2zMBmpdlB"
      },
      "source": [
        "X_train = preprocessing.fit_transform(X_train)\n",
        "X_test = preprocessing.fit_transform(X_test)"
      ],
      "execution_count": null,
      "outputs": []
    },
    {
      "cell_type": "code",
      "metadata": {
        "id": "KfR9MrgdqMGp"
      },
      "source": [
        "y_train = y_train.values\n",
        "y_test = y_test.values"
      ],
      "execution_count": null,
      "outputs": []
    },
    {
      "cell_type": "code",
      "metadata": {
        "id": "tLWmAvyhpNMa"
      },
      "source": [
        "import torch\n",
        "import torch.nn as nn\n",
        "import torch.nn.functional as F\n",
        "from sklearn.utils import shuffle\n",
        "from torch.autograd import Variable\n",
        "\n",
        "class LinearRegression(nn.Module):\n",
        "    def __init__(self,input_size,output_size):\n",
        "        super(LinearRegression,self).__init__()\n",
        "        self.f1 = nn.Linear(input_dim, 100)\n",
        "        self.f2 = nn.Linear(100, output_dim)\n",
        "\n",
        "\n",
        "    def forward(self,x):\n",
        "        x = self.f1(x)\n",
        "        x = F.relu(x)\n",
        "        x = F.dropout(x, p = 0.2)\n",
        "        x = self.f2(x)\n",
        "        return  F.sigmoid(x)"
      ],
      "execution_count": null,
      "outputs": []
    },
    {
      "cell_type": "code",
      "metadata": {
        "id": "18J-gA3AqQ1E"
      },
      "source": [
        "batch_size = 100\n",
        "batch_no = len(X_train) // batch_size"
      ],
      "execution_count": null,
      "outputs": []
    },
    {
      "cell_type": "code",
      "metadata": {
        "colab": {
          "base_uri": "https://localhost:8080/"
        },
        "id": "LkeSDldhqVBu",
        "outputId": "fed118c8-3d33-416f-aa83-7aa206541a4c"
      },
      "source": [
        "X_train.shape"
      ],
      "execution_count": null,
      "outputs": [
        {
          "output_type": "execute_result",
          "data": {
            "text/plain": [
              "(4753, 45)"
            ]
          },
          "metadata": {},
          "execution_count": 144
        }
      ]
    },
    {
      "cell_type": "code",
      "metadata": {
        "id": "LFThyA4uqZsD"
      },
      "source": [
        "def generate_batches(X, y, batch_size):\n",
        "    assert len(X) == len(y)\n",
        "    np.random.seed(42)\n",
        "    X = np.array(X)\n",
        "    y = np.array(y)\n",
        "    perm = np.random.permutation(len(X))\n",
        "\n",
        "    for i in range(len(X)//batch_size):\n",
        "        if i + batch_size >= len(X):\n",
        "            continue\n",
        "        ind = perm[i*batch_size : (i+1)*batch_size]\n",
        "        yield (X[ind], y[ind])"
      ],
      "execution_count": null,
      "outputs": []
    },
    {
      "cell_type": "code",
      "metadata": {
        "colab": {
          "base_uri": "https://localhost:8080/",
          "height": 711
        },
        "id": "eiRZxU7pqaQ8",
        "outputId": "c2cee1c5-e69a-43ef-a385-a633515c9277"
      },
      "source": [
        "input_dim = 45\n",
        "output_dim = 2\n",
        "learning_rate = 0.01\n",
        "model = LinearRegression(input_dim,output_dim)\n",
        "error = nn.CrossEntropyLoss()\n",
        "optimizer = torch.optim.Adam(model.parameters(), lr=learning_rate)\n",
        "\n",
        "loss_list = []\n",
        "acc_list = []\n",
        "iteration_number = 500\n",
        "\n",
        "for iteration in range(iteration_number):\n",
        "    batch_loss = 0\n",
        "    batch_accur = 0\n",
        "    temp = 0\n",
        "\n",
        "    for (x, y) in generate_batches(X_train, y_train, batch_size):\n",
        "        inputs = Variable(torch.from_numpy(x)).float()\n",
        "        labels = Variable(torch.from_numpy(y))\n",
        "            \n",
        "        optimizer.zero_grad() \n",
        "\n",
        "        results = model(inputs)\n",
        "        \n",
        "        loss = error(results, labels)\n",
        "\n",
        "        batch_loss += loss.data\n",
        "        \n",
        "        loss.backward()\n",
        "        \n",
        "        optimizer.step()\n",
        "\n",
        "        with torch.no_grad():\n",
        "            _, pred = torch.max(results, 1)\n",
        "            batch_accur += torch.sum(pred == labels)\n",
        "            temp += len(pred)\n",
        "    \n",
        "    loss_list.append(batch_loss/batch_no)\n",
        "    acc_list.append(batch_accur/temp)\n",
        "    \n",
        "    if(iteration % 50 == 0):\n",
        "        print('epoch {}: loss {}, accuracy {}'.format(iteration, batch_loss/batch_no, batch_accur/temp))\n",
        "\n",
        "plt.plot(range(iteration_number),loss_list)\n",
        "plt.xlabel(\"Number of Iterations\")\n",
        "plt.ylabel(\"Loss\")\n",
        "plt.show()\n",
        "plt.plot(range(iteration_number),acc_list)\n",
        "plt.xlabel(\"Number of Iterations\")\n",
        "plt.ylabel(\"Accuracy\")\n",
        "plt.show()"
      ],
      "execution_count": null,
      "outputs": [
        {
          "output_type": "stream",
          "name": "stdout",
          "text": [
            "epoch 0: loss 0.5410951375961304, accuracy 0.7585106492042542\n",
            "epoch 50: loss 0.4682292640209198, accuracy 0.8457446694374084\n",
            "epoch 100: loss 0.45511582493782043, accuracy 0.8593617081642151\n",
            "epoch 150: loss 0.44649720191955566, accuracy 0.8651064038276672\n",
            "epoch 200: loss 0.4422740936279297, accuracy 0.8706383109092712\n",
            "epoch 250: loss 0.43711012601852417, accuracy 0.8759574294090271\n",
            "epoch 300: loss 0.437491238117218, accuracy 0.8748936057090759\n",
            "epoch 350: loss 0.4359050393104553, accuracy 0.8772340416908264\n",
            "epoch 400: loss 0.43858602643013, accuracy 0.8734042644500732\n",
            "epoch 450: loss 0.43384474515914917, accuracy 0.8789361715316772\n"
          ]
        },
        {
          "output_type": "display_data",
          "data": {
            "image/png": "[encoded data removed]",
            "text/plain": [
              "<Figure size 432x288 with 1 Axes>"
            ]
          },
          "metadata": {
            "needs_background": "light"
          }
        },
        {
          "output_type": "display_data",
          "data": {
            "image/png": "[encoded data removed]",
            "text/plain": [
              "<Figure size 432x288 with 1 Axes>"
            ]
          },
          "metadata": {
            "needs_background": "light"
          }
        }
      ]
    },
    {
      "cell_type": "code",
      "metadata": {
        "colab": {
          "base_uri": "https://localhost:8080/"
        },
        "id": "QDGH8jEdvw1C",
        "outputId": "3ef7db04-7458-4f26-97d9-d0d35e8ccb5f"
      },
      "source": [
        "X_test_var = Variable(torch.FloatTensor(X_test), requires_grad=True) \n",
        "with torch.no_grad():\n",
        "    test_result = model(X_test_var)\n",
        "values, labels = torch.max(test_result, 1)\n",
        "survived = labels.data.numpy()\n",
        "print((survived == y_test).sum()/len(survived))"
      ],
      "execution_count": null,
      "outputs": [
        {
          "output_type": "stream",
          "name": "stdout",
          "text": [
            "0.7844990548204159\n"
          ]
        }
      ]
    },
    {
      "cell_type": "markdown",
      "metadata": {
        "id": "aagCIJd4tW3n"
      },
      "source": [
        "## Получение предсказаний"
      ]
    },
    {
      "cell_type": "code",
      "metadata": {
        "id": "7DnVmbzItaWq"
      },
      "source": [
        "X_test_origin = pd.read_csv(\"test.csv\")"
      ],
      "execution_count": null,
      "outputs": []
    },
    {
      "cell_type": "code",
      "metadata": {
        "id": "JwgpDzRnv4zi"
      },
      "source": [
        "submission = pd.read_csv(\"submission.csv\")"
      ],
      "execution_count": null,
      "outputs": []
    },
    {
      "cell_type": "code",
      "metadata": {
        "id": "d9zzPH21wU2O"
      },
      "source": [
        "X_test_origin['TotalSpent'] = X_test_origin['TotalSpent'].where(X_test_origin['ClientPeriod'] > 0, X_test_origin['MonthlySpending'])\n",
        "X_test_origin['ClientPeriod'] = X_test_origin['ClientPeriod'].where(X_test_origin['ClientPeriod'] > 0, 1)\n",
        "X_test_origin['TotalSpent'] = pd.to_numeric(X_test_origin['TotalSpent'])"
      ],
      "execution_count": null,
      "outputs": []
    },
    {
      "cell_type": "code",
      "metadata": {
        "id": "SeyMsBiMv7RP"
      },
      "source": [
        "X_test_origin = preprocessing.fit_transform(X_test_origin)"
      ],
      "execution_count": null,
      "outputs": []
    },
    {
      "cell_type": "code",
      "metadata": {
        "id": "a6L_Qa5IwwMk"
      },
      "source": [
        "X_test_var = Variable(torch.FloatTensor(X_test_origin), requires_grad=True) \n",
        "with torch.no_grad():\n",
        "    test_result = model(X_test_var)\n",
        "values, labels = torch.max(test_result, 1)\n",
        "survived = labels.data.numpy()"
      ],
      "execution_count": null,
      "outputs": []
    },
    {
      "cell_type": "code",
      "metadata": {
        "id": "VQs1U7A5w0a2"
      },
      "source": [
        "X_test_1 = pd.read_csv(\"test.csv\")"
      ],
      "execution_count": null,
      "outputs": []
    },
    {
      "cell_type": "code",
      "metadata": {
        "id": "7ifOzaL8w3v3"
      },
      "source": [
        "import csv\n",
        "\n",
        "submission1 = [['Id', 'Churn']]\n",
        "for i in range(len(survived)):\n",
        "    submission1.append([submission.Id.loc[i], survived[i]])"
      ],
      "execution_count": null,
      "outputs": []
    },
    {
      "cell_type": "code",
      "metadata": {
        "colab": {
          "base_uri": "https://localhost:8080/"
        },
        "id": "M8hs6TLXxUrV",
        "outputId": "b2a09ba7-d8e7-4e98-f3b9-cc627564b3bc"
      },
      "source": [
        "with open('submission1.csv', 'w') as submissionFile:\n",
        "    writer = csv.writer(submissionFile)\n",
        "    writer.writerows(submission1)\n",
        "    \n",
        "print('Writing Complete!')"
      ],
      "execution_count": null,
      "outputs": [
        {
          "output_type": "stream",
          "name": "stdout",
          "text": [
            "Writing Complete!\n"
          ]
        }
      ]
    },
    {
      "cell_type": "markdown",
      "metadata": {
        "id": "j3aKg5l8ByD2"
      },
      "source": [
        "# AutoML"
      ]
    },
    {
      "cell_type": "code",
      "metadata": {
        "id": "3u7VYM6hBxbq"
      },
      "source": [
        "!pip install autogluon.tabular[all]"
      ],
      "execution_count": null,
      "outputs": []
    },
    {
      "cell_type": "code",
      "metadata": {
        "id": "Uel9MM-SCnru"
      },
      "source": [
        "import pandas as pd\n",
        "data = pd.read_csv(\"train.csv\")"
      ],
      "execution_count": null,
      "outputs": []
    },
    {
      "cell_type": "code",
      "metadata": {
        "id": "9CL1VHYXCpuf"
      },
      "source": [
        "from sklearn.model_selection import train_test_split\n",
        "X_train, X_val = train_test_split(data, test_size = 0.1, random_state = 55)"
      ],
      "execution_count": null,
      "outputs": []
    },
    {
      "cell_type": "code",
      "metadata": {
        "id": "sZdn2Qy5CRuH"
      },
      "source": [
        "from  autogluon.tabular import TabularPredictor\n",
        "\n",
        "random_state = 55\n",
        "\n",
        "hyperparameters = {\n",
        "    'NN': {'num_epochs': 10},\n",
        "    'GBM': [\n",
        "        {'extra_trees': True, 'seed': random_state, 'ag_args': {'name_suffix': 'XT'}},\n",
        "        {},\n",
        "        'GBMLarge',\n",
        "    ],\n",
        "    'CAT': {'random_seed': random_state},\n",
        "    'XGB': {'seed': random_state},\n",
        "}\n",
        "\n",
        "autogluon_predictor = TabularPredictor(\n",
        "    label = 'Churn',\n",
        "    eval_metric=\"roc_auc\",\n",
        "    learner_kwargs={'ignored_columns': ['id']}\n",
        ").fit(\n",
        "    train_data = data,\n",
        "    hyperparameters=hyperparameters,\n",
        "    presets = 'best_quality'\n",
        ")"
      ],
      "execution_count": null,
      "outputs": []
    },
    {
      "cell_type": "code",
      "metadata": {
        "colab": {
          "base_uri": "https://localhost:8080/"
        },
        "id": "5Uksocu7DLj6",
        "outputId": "dbc0180f-45a6-4d31-bb75-f07981b21839"
      },
      "source": [
        "leaderboard = autogluon_predictor.leaderboard(X_val)"
      ],
      "execution_count": null,
      "outputs": [
        {
          "output_type": "stream",
          "name": "stdout",
          "text": [
            "                   model  score_test  score_val  pred_time_test  pred_time_val    fit_time  pred_time_test_marginal  pred_time_val_marginal  fit_time_marginal  stack_level  can_infer  fit_order\n",
            "0   LightGBMLarge_BAG_L1    0.963068   0.831120        0.300072       0.216253    8.852575                 0.300072                0.216253           8.852575            1       True          5\n",
            "1         XGBoost_BAG_L1    0.895298   0.840954        0.520530       0.137007    5.119847                 0.520530                0.137007           5.119847            1       True          4\n",
            "2        LightGBM_BAG_L1    0.890170   0.843365        0.215665       0.202440    4.782143                 0.215665                0.202440           4.782143            1       True          2\n",
            "3      LightGBMXT_BAG_L2    0.871173   0.842491        1.557561       1.150812   85.718113                 0.231145                0.215981           5.632747            2       True          7\n",
            "4      LightGBMXT_BAG_L1    0.868297   0.845265        0.224081       0.209998    5.121113                 0.224081                0.209998           5.121113            1       True          1\n",
            "5    WeightedEnsemble_L2    0.864050   0.848917        0.510165       0.584836   67.523249                 0.004351                0.003265           1.410305            2       True          6\n",
            "6        LightGBM_BAG_L2    0.858109   0.842841        1.535177       1.140371   85.485974                 0.208760                0.205540           5.400608            2       True          8\n",
            "7    WeightedEnsemble_L3    0.857972   0.847955        2.450590       1.681037  171.592878                 0.004443                0.002961           1.461715            3       True         12\n",
            "8         XGBoost_BAG_L2    0.857886   0.841133        1.867725       1.076165   87.342055                 0.541308                0.141334           7.256689            2       True         10\n",
            "9   LightGBMLarge_BAG_L2    0.857510   0.835310        1.624802       1.156626   91.785385                 0.298385                0.221796          11.700019            2       True         11\n",
            "10       CatBoost_BAG_L2    0.856808   0.847531        1.397692       1.109407  145.773847                 0.071276                0.174576          65.688482            2       True          9\n",
            "11       CatBoost_BAG_L1    0.852031   0.848008        0.066069       0.169133   56.209688                 0.066069                0.169133          56.209688            1       True          3\n"
          ]
        }
      ]
    },
    {
      "cell_type": "code",
      "metadata": {
        "colab": {
          "base_uri": "https://localhost:8080/",
          "height": 441
        },
        "id": "_0rzt7aoDRPn",
        "outputId": "7a0f9c6e-3285-4e69-8a60-4de8ebb0da89"
      },
      "source": [
        "leaderboard"
      ],
      "execution_count": null,
      "outputs": [
        {
          "output_type": "execute_result",
          "data": {
            "text/html": [
              "<div>\n",
              "<style scoped>\n",
              "    .dataframe tbody tr th:only-of-type {\n",
              "        vertical-align: middle;\n",
              "    }\n",
              "\n",
              "    .dataframe tbody tr th {\n",
              "        vertical-align: top;\n",
              "    }\n",
              "\n",
              "    .dataframe thead th {\n",
              "        text-align: right;\n",
              "    }\n",
              "</style>\n",
              "<table border=\"1\" class=\"dataframe\">\n",
              "  <thead>\n",
              "    <tr style=\"text-align: right;\">\n",
              "      <th></th>\n",
              "      <th>model</th>\n",
              "      <th>score_test</th>\n",
              "      <th>score_val</th>\n",
              "      <th>pred_time_test</th>\n",
              "      <th>pred_time_val</th>\n",
              "      <th>fit_time</th>\n",
              "      <th>pred_time_test_marginal</th>\n",
              "      <th>pred_time_val_marginal</th>\n",
              "      <th>fit_time_marginal</th>\n",
              "      <th>stack_level</th>\n",
              "      <th>can_infer</th>\n",
              "      <th>fit_order</th>\n",
              "    </tr>\n",
              "  </thead>\n",
              "  <tbody>\n",
              "    <tr>\n",
              "      <th>0</th>\n",
              "      <td>LightGBMLarge_BAG_L1</td>\n",
              "      <td>0.963068</td>\n",
              "      <td>0.831120</td>\n",
              "      <td>0.300072</td>\n",
              "      <td>0.216253</td>\n",
              "      <td>8.852575</td>\n",
              "      <td>0.300072</td>\n",
              "      <td>0.216253</td>\n",
              "      <td>8.852575</td>\n",
              "      <td>1</td>\n",
              "      <td>True</td>\n",
              "      <td>5</td>\n",
              "    </tr>\n",
              "    <tr>\n",
              "      <th>1</th>\n",
              "      <td>XGBoost_BAG_L1</td>\n",
              "      <td>0.895298</td>\n",
              "      <td>0.840954</td>\n",
              "      <td>0.520530</td>\n",
              "      <td>0.137007</td>\n",
              "      <td>5.119847</td>\n",
              "      <td>0.520530</td>\n",
              "      <td>0.137007</td>\n",
              "      <td>5.119847</td>\n",
              "      <td>1</td>\n",
              "      <td>True</td>\n",
              "      <td>4</td>\n",
              "    </tr>\n",
              "    <tr>\n",
              "      <th>2</th>\n",
              "      <td>LightGBM_BAG_L1</td>\n",
              "      <td>0.890170</td>\n",
              "      <td>0.843365</td>\n",
              "      <td>0.215665</td>\n",
              "      <td>0.202440</td>\n",
              "      <td>4.782143</td>\n",
              "      <td>0.215665</td>\n",
              "      <td>0.202440</td>\n",
              "      <td>4.782143</td>\n",
              "      <td>1</td>\n",
              "      <td>True</td>\n",
              "      <td>2</td>\n",
              "    </tr>\n",
              "    <tr>\n",
              "      <th>3</th>\n",
              "      <td>LightGBMXT_BAG_L2</td>\n",
              "      <td>0.871173</td>\n",
              "      <td>0.842491</td>\n",
              "      <td>1.557561</td>\n",
              "      <td>1.150812</td>\n",
              "      <td>85.718113</td>\n",
              "      <td>0.231145</td>\n",
              "      <td>0.215981</td>\n",
              "      <td>5.632747</td>\n",
              "      <td>2</td>\n",
              "      <td>True</td>\n",
              "      <td>7</td>\n",
              "    </tr>\n",
              "    <tr>\n",
              "      <th>4</th>\n",
              "      <td>LightGBMXT_BAG_L1</td>\n",
              "      <td>0.868297</td>\n",
              "      <td>0.845265</td>\n",
              "      <td>0.224081</td>\n",
              "      <td>0.209998</td>\n",
              "      <td>5.121113</td>\n",
              "      <td>0.224081</td>\n",
              "      <td>0.209998</td>\n",
              "      <td>5.121113</td>\n",
              "      <td>1</td>\n",
              "      <td>True</td>\n",
              "      <td>1</td>\n",
              "    </tr>\n",
              "    <tr>\n",
              "      <th>5</th>\n",
              "      <td>WeightedEnsemble_L2</td>\n",
              "      <td>0.864050</td>\n",
              "      <td>0.848917</td>\n",
              "      <td>0.510165</td>\n",
              "      <td>0.584836</td>\n",
              "      <td>67.523249</td>\n",
              "      <td>0.004351</td>\n",
              "      <td>0.003265</td>\n",
              "      <td>1.410305</td>\n",
              "      <td>2</td>\n",
              "      <td>True</td>\n",
              "      <td>6</td>\n",
              "    </tr>\n",
              "    <tr>\n",
              "      <th>6</th>\n",
              "      <td>LightGBM_BAG_L2</td>\n",
              "      <td>0.858109</td>\n",
              "      <td>0.842841</td>\n",
              "      <td>1.535177</td>\n",
              "      <td>1.140371</td>\n",
              "      <td>85.485974</td>\n",
              "      <td>0.208760</td>\n",
              "      <td>0.205540</td>\n",
              "      <td>5.400608</td>\n",
              "      <td>2</td>\n",
              "      <td>True</td>\n",
              "      <td>8</td>\n",
              "    </tr>\n",
              "    <tr>\n",
              "      <th>7</th>\n",
              "      <td>WeightedEnsemble_L3</td>\n",
              "      <td>0.857972</td>\n",
              "      <td>0.847955</td>\n",
              "      <td>2.450590</td>\n",
              "      <td>1.681037</td>\n",
              "      <td>171.592878</td>\n",
              "      <td>0.004443</td>\n",
              "      <td>0.002961</td>\n",
              "      <td>1.461715</td>\n",
              "      <td>3</td>\n",
              "      <td>True</td>\n",
              "      <td>12</td>\n",
              "    </tr>\n",
              "    <tr>\n",
              "      <th>8</th>\n",
              "      <td>XGBoost_BAG_L2</td>\n",
              "      <td>0.857886</td>\n",
              "      <td>0.841133</td>\n",
              "      <td>1.867725</td>\n",
              "      <td>1.076165</td>\n",
              "      <td>87.342055</td>\n",
              "      <td>0.541308</td>\n",
              "      <td>0.141334</td>\n",
              "      <td>7.256689</td>\n",
              "      <td>2</td>\n",
              "      <td>True</td>\n",
              "      <td>10</td>\n",
              "    </tr>\n",
              "    <tr>\n",
              "      <th>9</th>\n",
              "      <td>LightGBMLarge_BAG_L2</td>\n",
              "      <td>0.857510</td>\n",
              "      <td>0.835310</td>\n",
              "      <td>1.624802</td>\n",
              "      <td>1.156626</td>\n",
              "      <td>91.785385</td>\n",
              "      <td>0.298385</td>\n",
              "      <td>0.221796</td>\n",
              "      <td>11.700019</td>\n",
              "      <td>2</td>\n",
              "      <td>True</td>\n",
              "      <td>11</td>\n",
              "    </tr>\n",
              "    <tr>\n",
              "      <th>10</th>\n",
              "      <td>CatBoost_BAG_L2</td>\n",
              "      <td>0.856808</td>\n",
              "      <td>0.847531</td>\n",
              "      <td>1.397692</td>\n",
              "      <td>1.109407</td>\n",
              "      <td>145.773847</td>\n",
              "      <td>0.071276</td>\n",
              "      <td>0.174576</td>\n",
              "      <td>65.688482</td>\n",
              "      <td>2</td>\n",
              "      <td>True</td>\n",
              "      <td>9</td>\n",
              "    </tr>\n",
              "    <tr>\n",
              "      <th>11</th>\n",
              "      <td>CatBoost_BAG_L1</td>\n",
              "      <td>0.852031</td>\n",
              "      <td>0.848008</td>\n",
              "      <td>0.066069</td>\n",
              "      <td>0.169133</td>\n",
              "      <td>56.209688</td>\n",
              "      <td>0.066069</td>\n",
              "      <td>0.169133</td>\n",
              "      <td>56.209688</td>\n",
              "      <td>1</td>\n",
              "      <td>True</td>\n",
              "      <td>3</td>\n",
              "    </tr>\n",
              "  </tbody>\n",
              "</table>\n",
              "</div>"
            ],
            "text/plain": [
              "                   model  score_test  ...  can_infer  fit_order\n",
              "0   LightGBMLarge_BAG_L1    0.963068  ...       True          5\n",
              "1         XGBoost_BAG_L1    0.895298  ...       True          4\n",
              "2        LightGBM_BAG_L1    0.890170  ...       True          2\n",
              "3      LightGBMXT_BAG_L2    0.871173  ...       True          7\n",
              "4      LightGBMXT_BAG_L1    0.868297  ...       True          1\n",
              "5    WeightedEnsemble_L2    0.864050  ...       True          6\n",
              "6        LightGBM_BAG_L2    0.858109  ...       True          8\n",
              "7    WeightedEnsemble_L3    0.857972  ...       True         12\n",
              "8         XGBoost_BAG_L2    0.857886  ...       True         10\n",
              "9   LightGBMLarge_BAG_L2    0.857510  ...       True         11\n",
              "10       CatBoost_BAG_L2    0.856808  ...       True          9\n",
              "11       CatBoost_BAG_L1    0.852031  ...       True          3\n",
              "\n",
              "[12 rows x 12 columns]"
            ]
          },
          "metadata": {},
          "execution_count": 6
        }
      ]
    },
    {
      "cell_type": "code",
      "metadata": {
        "id": "mCGCko_DDWvj"
      },
      "source": [
        "test_data = pd.read_csv(\"test.csv\")"
      ],
      "execution_count": null,
      "outputs": []
    },
    {
      "cell_type": "code",
      "metadata": {
        "id": "z9yxM3OpDW9q"
      },
      "source": [
        "predictions = autogluon_predictor.predict_proba(test_data)"
      ],
      "execution_count": null,
      "outputs": []
    },
    {
      "cell_type": "code",
      "metadata": {
        "id": "R5wPHK8lDdE1"
      },
      "source": [
        "submit = pd.read_csv(\"submission.csv\")"
      ],
      "execution_count": null,
      "outputs": []
    },
    {
      "cell_type": "code",
      "metadata": {
        "colab": {
          "base_uri": "https://localhost:8080/"
        },
        "id": "pWrZzW8iJliU",
        "outputId": "e5e15b05-c539-4f2f-910f-ae66b32c73a2"
      },
      "source": [
        "predictions.iloc[:, 1]"
      ],
      "execution_count": null,
      "outputs": [
        {
          "output_type": "execute_result",
          "data": {
            "text/plain": [
              "0       0.050078\n",
              "1       0.673095\n",
              "2       0.639743\n",
              "3       0.019725\n",
              "4       0.012005\n",
              "          ...   \n",
              "1756    0.150938\n",
              "1757    0.017809\n",
              "1758    0.823612\n",
              "1759    0.570511\n",
              "1760    0.018176\n",
              "Name: 1, Length: 1761, dtype: float64"
            ]
          },
          "metadata": {},
          "execution_count": 41
        }
      ]
    },
    {
      "cell_type": "code",
      "metadata": {
        "id": "AAJgNd9eJfb7"
      },
      "source": [
        "submit.Churn = predictions.iloc[:, 1]"
      ],
      "execution_count": null,
      "outputs": []
    },
    {
      "cell_type": "code",
      "metadata": {
        "id": "8gtDMOLCJ0-z"
      },
      "source": [
        "submit.to_csv(\"submit.csv\", index = False)"
      ],
      "execution_count": null,
      "outputs": []
    },
    {
      "cell_type": "markdown",
      "metadata": {
        "id": "gYQaF0ivUfgj"
      },
      "source": [
        "# Заключение"
      ]
    },
    {
      "cell_type": "markdown",
      "metadata": {
        "id": "CykMMX0_UjKe"
      },
      "source": [
        "После предобработки данных и построения классификаторов можно сделать ряд следующих выводов:\n",
        "\n",
        "\n",
        "*   Линейные модели обучаются гораздо быстрее градиентных, однако их результаты на данной задаче значительно хуже\n",
        "*   Применение undersampling помогло улучшить точность классификации\n",
        "*   При использовании undersampling значения на train выборке довольно сильно отличаются от test, так как балансировка происходит только для train. При отсутствии undersampling значение метрики отличается на пару процентов, что соответсвует отсутствию переобучения \n",
        "*   Самый лучший результат показывают следующие классификаторы: Gradient Boosting и Catboost, а также логистическая регрессия\n",
        "*   Кроме того, очень хороший результат можно добиться использованием AutoML\n",
        "*   Лучший результат на Kaggle - 0.85363 (Top 11%)\n"
      ]
    }
  ]
}